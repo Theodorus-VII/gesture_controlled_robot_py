{
  "cells": [
    {
      "cell_type": "code",
      "execution_count": 1,
      "metadata": {
        "id": "igMyGnjE9hEp"
      },
      "outputs": [
        {
          "name": "stderr",
          "output_type": "stream",
          "text": [
            "2023-11-14 19:56:27.220474: I tensorflow/tsl/cuda/cudart_stub.cc:28] Could not find cuda drivers on your machine, GPU will not be used.\n",
            "2023-11-14 19:56:27.254973: E tensorflow/compiler/xla/stream_executor/cuda/cuda_dnn.cc:9342] Unable to register cuDNN factory: Attempting to register factory for plugin cuDNN when one has already been registered\n",
            "2023-11-14 19:56:27.255006: E tensorflow/compiler/xla/stream_executor/cuda/cuda_fft.cc:609] Unable to register cuFFT factory: Attempting to register factory for plugin cuFFT when one has already been registered\n",
            "2023-11-14 19:56:27.255035: E tensorflow/compiler/xla/stream_executor/cuda/cuda_blas.cc:1518] Unable to register cuBLAS factory: Attempting to register factory for plugin cuBLAS when one has already been registered\n",
            "2023-11-14 19:56:27.261216: I tensorflow/tsl/cuda/cudart_stub.cc:28] Could not find cuda drivers on your machine, GPU will not be used.\n",
            "2023-11-14 19:56:27.261852: I tensorflow/core/platform/cpu_feature_guard.cc:182] This TensorFlow binary is optimized to use available CPU instructions in performance-critical operations.\n",
            "To enable the following instructions: AVX2 FMA, in other operations, rebuild TensorFlow with the appropriate compiler flags.\n",
            "2023-11-14 19:56:28.025023: W tensorflow/compiler/tf2tensorrt/utils/py_utils.cc:38] TF-TRT Warning: Could not find TensorRT\n",
            "/usr/lib/python3/dist-packages/scipy/__init__.py:146: UserWarning: A NumPy version >=1.17.3 and <1.25.0 is required for this version of SciPy (detected version 1.26.2\n",
            "  warnings.warn(f\"A NumPy version >={np_minversion} and <{np_maxversion}\"\n"
          ]
        }
      ],
      "source": [
        "import csv\n",
        "\n",
        "import numpy as np\n",
        "import tensorflow as tf\n",
        "from sklearn.model_selection import train_test_split\n",
        "\n",
        "RANDOM_SEED = 42"
      ]
    },
    {
      "cell_type": "markdown",
      "metadata": {
        "id": "t2HDvhIu9hEr"
      },
      "source": [
        "# Specify each path"
      ]
    },
    {
      "cell_type": "code",
      "execution_count": 2,
      "metadata": {
        "id": "9NvZP2Zn9hEy"
      },
      "outputs": [],
      "source": [
        "dataset = 'model/keypoint_classifier/keypoint.csv'\n",
        "model_save_path = 'model/keypoint_classifier/keypoint_classifier.hdf5'\n",
        "tflite_save_path = 'model/keypoint_classifier/keypoint_classifier.tflite'"
      ]
    },
    {
      "cell_type": "markdown",
      "metadata": {
        "id": "s5oMH7x19hEz"
      },
      "source": [
        "# Set number of classes"
      ]
    },
    {
      "cell_type": "code",
      "execution_count": 3,
      "metadata": {
        "id": "du4kodXL9hEz"
      },
      "outputs": [],
      "source": [
        "NUM_CLASSES = 6"
      ]
    },
    {
      "cell_type": "markdown",
      "metadata": {
        "id": "XjnL0uso9hEz"
      },
      "source": [
        "# Dataset reading"
      ]
    },
    {
      "cell_type": "code",
      "execution_count": 4,
      "metadata": {
        "id": "QT5ZqtEz9hE0"
      },
      "outputs": [],
      "source": [
        "X_dataset = np.loadtxt(dataset, delimiter=',', dtype='float32', usecols=list(range(1, (21 * 2) + 1)))"
      ]
    },
    {
      "cell_type": "code",
      "execution_count": 5,
      "metadata": {
        "id": "QmoKFsp49hE0"
      },
      "outputs": [],
      "source": [
        "y_dataset = np.loadtxt(dataset, delimiter=',', dtype='int32', usecols=(0))"
      ]
    },
    {
      "cell_type": "code",
      "execution_count": 6,
      "metadata": {
        "id": "xQU7JTZ_9hE0"
      },
      "outputs": [],
      "source": [
        "X_train, X_test, y_train, y_test = train_test_split(X_dataset, y_dataset, train_size=0.75, random_state=RANDOM_SEED)"
      ]
    },
    {
      "cell_type": "markdown",
      "metadata": {
        "id": "mxK_lETT9hE0"
      },
      "source": [
        "# Model building"
      ]
    },
    {
      "cell_type": "code",
      "execution_count": 7,
      "metadata": {
        "id": "vHBmUf1t9hE1"
      },
      "outputs": [
        {
          "name": "stderr",
          "output_type": "stream",
          "text": [
            "2023-11-14 19:56:30.881673: I tensorflow/compiler/xla/stream_executor/cuda/cuda_gpu_executor.cc:894] successful NUMA node read from SysFS had negative value (-1), but there must be at least one NUMA node, so returning NUMA node zero. See more at https://github.com/torvalds/linux/blob/v6.0/Documentation/ABI/testing/sysfs-bus-pci#L344-L355\n",
            "2023-11-14 19:56:30.882258: W tensorflow/core/common_runtime/gpu/gpu_device.cc:2211] Cannot dlopen some GPU libraries. Please make sure the missing libraries mentioned above are installed properly if you would like to use GPU. Follow the guide at https://www.tensorflow.org/install/gpu for how to download and setup the required libraries for your platform.\n",
            "Skipping registering GPU devices...\n"
          ]
        }
      ],
      "source": [
        "model = tf.keras.models.Sequential([\n",
        "    tf.keras.layers.Input((21 * 2, )),\n",
        "    tf.keras.layers.Dropout(0.2),\n",
        "    tf.keras.layers.Dense(20, activation='relu'),\n",
        "    tf.keras.layers.Dropout(0.4),\n",
        "    tf.keras.layers.Dense(10, activation='relu'),\n",
        "    tf.keras.layers.Dense(NUM_CLASSES, activation='softmax')\n",
        "])"
      ]
    },
    {
      "cell_type": "code",
      "execution_count": 8,
      "metadata": {
        "colab": {
          "base_uri": "https://localhost:8080/"
        },
        "id": "ypqky9tc9hE1",
        "outputId": "5db082bb-30e3-4110-bf63-a1ee777ecd46"
      },
      "outputs": [
        {
          "name": "stdout",
          "output_type": "stream",
          "text": [
            "Model: \"sequential\"\n",
            "_________________________________________________________________\n",
            " Layer (type)                Output Shape              Param #   \n",
            "=================================================================\n",
            " dropout (Dropout)           (None, 42)                0         \n",
            "                                                                 \n",
            " dense (Dense)               (None, 20)                860       \n",
            "                                                                 \n",
            " dropout_1 (Dropout)         (None, 20)                0         \n",
            "                                                                 \n",
            " dense_1 (Dense)             (None, 10)                210       \n",
            "                                                                 \n",
            " dense_2 (Dense)             (None, 6)                 66        \n",
            "                                                                 \n",
            "=================================================================\n",
            "Total params: 1136 (4.44 KB)\n",
            "Trainable params: 1136 (4.44 KB)\n",
            "Non-trainable params: 0 (0.00 Byte)\n",
            "_________________________________________________________________\n"
          ]
        }
      ],
      "source": [
        "model.summary()  # tf.keras.utils.plot_model(model, show_shapes=True)"
      ]
    },
    {
      "cell_type": "code",
      "execution_count": 9,
      "metadata": {
        "id": "MbMjOflQ9hE1"
      },
      "outputs": [],
      "source": [
        "# Model checkpoint callback\n",
        "cp_callback = tf.keras.callbacks.ModelCheckpoint(\n",
        "    model_save_path, verbose=1, save_weights_only=False)\n",
        "# Callback for early stopping\n",
        "es_callback = tf.keras.callbacks.EarlyStopping(patience=20, verbose=1)"
      ]
    },
    {
      "cell_type": "code",
      "execution_count": 10,
      "metadata": {
        "id": "c3Dac0M_9hE2"
      },
      "outputs": [],
      "source": [
        "# Model compilation\n",
        "model.compile(\n",
        "    optimizer='adam',\n",
        "    loss='sparse_categorical_crossentropy',\n",
        "    metrics=['accuracy']\n",
        ")"
      ]
    },
    {
      "cell_type": "markdown",
      "metadata": {
        "id": "7XI0j1Iu9hE2"
      },
      "source": [
        "# Model training"
      ]
    },
    {
      "cell_type": "code",
      "execution_count": 11,
      "metadata": {
        "colab": {
          "base_uri": "https://localhost:8080/"
        },
        "id": "WirBl-JE9hE3",
        "outputId": "71b30ca2-8294-4d9d-8aa2-800d90d399de",
        "scrolled": true
      },
      "outputs": [
        {
          "name": "stdout",
          "output_type": "stream",
          "text": [
            "Epoch 1/1000\n",
            "28/42 [===================>..........] - ETA: 0s - loss: 1.7514 - accuracy: 0.2478  \n",
            "Epoch 1: saving model to model/keypoint_classifier/keypoint_classifier.hdf5\n",
            "42/42 [==============================] - 2s 7ms/step - loss: 1.7105 - accuracy: 0.2716 - val_loss: 1.5412 - val_accuracy: 0.4084\n",
            "Epoch 2/1000\n",
            "33/42 [======================>.......] - ETA: 0s - loss: 1.5255 - accuracy: 0.3456\n",
            "Epoch 2: saving model to model/keypoint_classifier/keypoint_classifier.hdf5\n",
            "42/42 [==============================] - 0s 3ms/step - loss: 1.5074 - accuracy: 0.3555 - val_loss: 1.3435 - val_accuracy: 0.4655\n",
            "Epoch 3/1000\n",
            " 1/42 [..............................] - ETA: 0s - loss: 1.4149 - accuracy: 0.4062"
          ]
        },
        {
          "name": "stderr",
          "output_type": "stream",
          "text": [
            "/home/xetho/.local/lib/python3.10/site-packages/keras/src/engine/training.py:3079: UserWarning: You are saving your model as an HDF5 file via `model.save()`. This file format is considered legacy. We recommend using instead the native Keras format, e.g. `model.save('my_model.keras')`.\n",
            "  saving_api.save_model(\n"
          ]
        },
        {
          "name": "stdout",
          "output_type": "stream",
          "text": [
            "29/42 [===================>..........] - ETA: 0s - loss: 1.3892 - accuracy: 0.4011\n",
            "Epoch 3: saving model to model/keypoint_classifier/keypoint_classifier.hdf5\n",
            "42/42 [==============================] - 0s 3ms/step - loss: 1.3629 - accuracy: 0.4149 - val_loss: 1.1703 - val_accuracy: 0.5927\n",
            "Epoch 4/1000\n",
            "29/42 [===================>..........] - ETA: 0s - loss: 1.2513 - accuracy: 0.4661\n",
            "Epoch 4: saving model to model/keypoint_classifier/keypoint_classifier.hdf5\n",
            "42/42 [==============================] - 0s 3ms/step - loss: 1.2337 - accuracy: 0.4824 - val_loss: 1.0371 - val_accuracy: 0.7136\n",
            "Epoch 5/1000\n",
            "28/42 [===================>..........] - ETA: 0s - loss: 1.1545 - accuracy: 0.5259\n",
            "Epoch 5: saving model to model/keypoint_classifier/keypoint_classifier.hdf5\n",
            "42/42 [==============================] - 0s 4ms/step - loss: 1.1386 - accuracy: 0.5362 - val_loss: 0.9379 - val_accuracy: 0.7268\n",
            "Epoch 6/1000\n",
            "31/42 [=====================>........] - ETA: 0s - loss: 1.0713 - accuracy: 0.5607\n",
            "Epoch 6: saving model to model/keypoint_classifier/keypoint_classifier.hdf5\n",
            "42/42 [==============================] - 0s 3ms/step - loss: 1.0625 - accuracy: 0.5674 - val_loss: 0.8524 - val_accuracy: 0.7433\n",
            "Epoch 7/1000\n",
            "32/42 [=====================>........] - ETA: 0s - loss: 1.0229 - accuracy: 0.5884\n",
            "Epoch 7: saving model to model/keypoint_classifier/keypoint_classifier.hdf5\n",
            "42/42 [==============================] - 0s 3ms/step - loss: 1.0123 - accuracy: 0.5925 - val_loss: 0.7981 - val_accuracy: 0.7496\n",
            "Epoch 8/1000\n",
            "37/42 [=========================>....] - ETA: 0s - loss: 0.9630 - accuracy: 0.6193\n",
            "Epoch 8: saving model to model/keypoint_classifier/keypoint_classifier.hdf5\n",
            "42/42 [==============================] - 0s 2ms/step - loss: 0.9625 - accuracy: 0.6186 - val_loss: 0.7425 - val_accuracy: 0.7661\n",
            "Epoch 9/1000\n",
            "36/42 [========================>.....] - ETA: 0s - loss: 0.9137 - accuracy: 0.6411\n",
            "Epoch 9: saving model to model/keypoint_classifier/keypoint_classifier.hdf5\n",
            "42/42 [==============================] - 0s 2ms/step - loss: 0.9139 - accuracy: 0.6403 - val_loss: 0.6916 - val_accuracy: 0.7918\n",
            "Epoch 10/1000\n",
            "35/42 [========================>.....] - ETA: 0s - loss: 0.9060 - accuracy: 0.6449\n",
            "Epoch 10: saving model to model/keypoint_classifier/keypoint_classifier.hdf5\n",
            "42/42 [==============================] - 0s 2ms/step - loss: 0.8994 - accuracy: 0.6466 - val_loss: 0.6588 - val_accuracy: 0.8163\n",
            "Epoch 11/1000\n",
            "35/42 [========================>.....] - ETA: 0s - loss: 0.8562 - accuracy: 0.6650\n",
            "Epoch 11: saving model to model/keypoint_classifier/keypoint_classifier.hdf5\n",
            "42/42 [==============================] - 0s 3ms/step - loss: 0.8516 - accuracy: 0.6669 - val_loss: 0.6159 - val_accuracy: 0.8334\n",
            "Epoch 12/1000\n",
            "37/42 [=========================>....] - ETA: 0s - loss: 0.8199 - accuracy: 0.6810\n",
            "Epoch 12: saving model to model/keypoint_classifier/keypoint_classifier.hdf5\n",
            "42/42 [==============================] - 0s 2ms/step - loss: 0.8190 - accuracy: 0.6800 - val_loss: 0.5759 - val_accuracy: 0.8505\n",
            "Epoch 13/1000\n",
            "36/42 [========================>.....] - ETA: 0s - loss: 0.8042 - accuracy: 0.6871\n",
            "Epoch 13: saving model to model/keypoint_classifier/keypoint_classifier.hdf5\n",
            "42/42 [==============================] - 0s 2ms/step - loss: 0.8044 - accuracy: 0.6896 - val_loss: 0.5451 - val_accuracy: 0.8523\n",
            "Epoch 14/1000\n",
            "33/42 [======================>.......] - ETA: 0s - loss: 0.7804 - accuracy: 0.6946\n",
            "Epoch 14: saving model to model/keypoint_classifier/keypoint_classifier.hdf5\n",
            "42/42 [==============================] - 0s 3ms/step - loss: 0.7765 - accuracy: 0.6966 - val_loss: 0.5153 - val_accuracy: 0.8625\n",
            "Epoch 15/1000\n",
            "40/42 [===========================>..] - ETA: 0s - loss: 0.7648 - accuracy: 0.7057\n",
            "Epoch 15: saving model to model/keypoint_classifier/keypoint_classifier.hdf5\n",
            "42/42 [==============================] - 0s 2ms/step - loss: 0.7680 - accuracy: 0.7040 - val_loss: 0.4953 - val_accuracy: 0.8694\n",
            "Epoch 16/1000\n",
            "36/42 [========================>.....] - ETA: 0s - loss: 0.7391 - accuracy: 0.7237\n",
            "Epoch 16: saving model to model/keypoint_classifier/keypoint_classifier.hdf5\n",
            "42/42 [==============================] - 0s 3ms/step - loss: 0.7371 - accuracy: 0.7228 - val_loss: 0.4662 - val_accuracy: 0.8882\n",
            "Epoch 17/1000\n",
            "35/42 [========================>.....] - ETA: 0s - loss: 0.7286 - accuracy: 0.7241\n",
            "Epoch 17: saving model to model/keypoint_classifier/keypoint_classifier.hdf5\n",
            "42/42 [==============================] - 0s 2ms/step - loss: 0.7280 - accuracy: 0.7238 - val_loss: 0.4555 - val_accuracy: 0.8739\n",
            "Epoch 18/1000\n",
            "35/42 [========================>.....] - ETA: 0s - loss: 0.7091 - accuracy: 0.7297\n",
            "Epoch 18: saving model to model/keypoint_classifier/keypoint_classifier.hdf5\n",
            "42/42 [==============================] - 0s 3ms/step - loss: 0.7108 - accuracy: 0.7308 - val_loss: 0.4325 - val_accuracy: 0.8928\n",
            "Epoch 19/1000\n",
            "36/42 [========================>.....] - ETA: 0s - loss: 0.6875 - accuracy: 0.7441\n",
            "Epoch 19: saving model to model/keypoint_classifier/keypoint_classifier.hdf5\n",
            "42/42 [==============================] - 0s 2ms/step - loss: 0.6896 - accuracy: 0.7436 - val_loss: 0.4070 - val_accuracy: 0.8985\n",
            "Epoch 20/1000\n",
            "36/42 [========================>.....] - ETA: 0s - loss: 0.6885 - accuracy: 0.7387\n",
            "Epoch 20: saving model to model/keypoint_classifier/keypoint_classifier.hdf5\n",
            "42/42 [==============================] - 0s 2ms/step - loss: 0.6869 - accuracy: 0.7411 - val_loss: 0.3947 - val_accuracy: 0.9007\n",
            "Epoch 21/1000\n",
            "36/42 [========================>.....] - ETA: 0s - loss: 0.6681 - accuracy: 0.7467\n",
            "Epoch 21: saving model to model/keypoint_classifier/keypoint_classifier.hdf5\n",
            "42/42 [==============================] - 0s 2ms/step - loss: 0.6644 - accuracy: 0.7476 - val_loss: 0.3726 - val_accuracy: 0.9087\n",
            "Epoch 22/1000\n",
            "39/42 [==========================>...] - ETA: 0s - loss: 0.6604 - accuracy: 0.7502\n",
            "Epoch 22: saving model to model/keypoint_classifier/keypoint_classifier.hdf5\n",
            "42/42 [==============================] - 0s 2ms/step - loss: 0.6561 - accuracy: 0.7529 - val_loss: 0.3613 - val_accuracy: 0.9087\n",
            "Epoch 23/1000\n",
            "36/42 [========================>.....] - ETA: 0s - loss: 0.6404 - accuracy: 0.7559\n",
            "Epoch 23: saving model to model/keypoint_classifier/keypoint_classifier.hdf5\n",
            "42/42 [==============================] - 0s 2ms/step - loss: 0.6394 - accuracy: 0.7582 - val_loss: 0.3522 - val_accuracy: 0.9104\n",
            "Epoch 24/1000\n",
            "35/42 [========================>.....] - ETA: 0s - loss: 0.6382 - accuracy: 0.7589\n",
            "Epoch 24: saving model to model/keypoint_classifier/keypoint_classifier.hdf5\n",
            "42/42 [==============================] - 0s 3ms/step - loss: 0.6345 - accuracy: 0.7597 - val_loss: 0.3437 - val_accuracy: 0.9127\n",
            "Epoch 25/1000\n",
            "41/42 [============================>.] - ETA: 0s - loss: 0.6407 - accuracy: 0.7569\n",
            "Epoch 25: saving model to model/keypoint_classifier/keypoint_classifier.hdf5\n",
            "42/42 [==============================] - 0s 2ms/step - loss: 0.6405 - accuracy: 0.7573 - val_loss: 0.3314 - val_accuracy: 0.9144\n",
            "Epoch 26/1000\n",
            "40/42 [===========================>..] - ETA: 0s - loss: 0.5941 - accuracy: 0.7725\n",
            "Epoch 26: saving model to model/keypoint_classifier/keypoint_classifier.hdf5\n",
            "42/42 [==============================] - 0s 2ms/step - loss: 0.5929 - accuracy: 0.7740 - val_loss: 0.3145 - val_accuracy: 0.9213\n",
            "Epoch 27/1000\n",
            "35/42 [========================>.....] - ETA: 0s - loss: 0.6152 - accuracy: 0.7690\n",
            "Epoch 27: saving model to model/keypoint_classifier/keypoint_classifier.hdf5\n",
            "42/42 [==============================] - 0s 2ms/step - loss: 0.6165 - accuracy: 0.7660 - val_loss: 0.3055 - val_accuracy: 0.9258\n",
            "Epoch 28/1000\n",
            "41/42 [============================>.] - ETA: 0s - loss: 0.6058 - accuracy: 0.7696\n",
            "Epoch 28: saving model to model/keypoint_classifier/keypoint_classifier.hdf5\n",
            "42/42 [==============================] - 0s 2ms/step - loss: 0.6060 - accuracy: 0.7695 - val_loss: 0.3026 - val_accuracy: 0.9230\n",
            "Epoch 29/1000\n",
            "36/42 [========================>.....] - ETA: 0s - loss: 0.5955 - accuracy: 0.7724\n",
            "Epoch 29: saving model to model/keypoint_classifier/keypoint_classifier.hdf5\n",
            "42/42 [==============================] - 0s 2ms/step - loss: 0.5972 - accuracy: 0.7704 - val_loss: 0.2981 - val_accuracy: 0.9218\n",
            "Epoch 30/1000\n",
            "36/42 [========================>.....] - ETA: 0s - loss: 0.5958 - accuracy: 0.7767\n",
            "Epoch 30: saving model to model/keypoint_classifier/keypoint_classifier.hdf5\n",
            "42/42 [==============================] - 0s 3ms/step - loss: 0.5916 - accuracy: 0.7786 - val_loss: 0.2930 - val_accuracy: 0.9264\n",
            "Epoch 31/1000\n",
            "36/42 [========================>.....] - ETA: 0s - loss: 0.5854 - accuracy: 0.7815\n",
            "Epoch 31: saving model to model/keypoint_classifier/keypoint_classifier.hdf5\n",
            "42/42 [==============================] - 0s 2ms/step - loss: 0.5873 - accuracy: 0.7812 - val_loss: 0.2762 - val_accuracy: 0.9276\n",
            "Epoch 32/1000\n",
            "35/42 [========================>.....] - ETA: 0s - loss: 0.5926 - accuracy: 0.7746\n",
            "Epoch 32: saving model to model/keypoint_classifier/keypoint_classifier.hdf5\n",
            "42/42 [==============================] - 0s 3ms/step - loss: 0.5887 - accuracy: 0.7784 - val_loss: 0.2705 - val_accuracy: 0.9355\n",
            "Epoch 33/1000\n",
            "38/42 [==========================>...] - ETA: 0s - loss: 0.5716 - accuracy: 0.7930\n",
            "Epoch 33: saving model to model/keypoint_classifier/keypoint_classifier.hdf5\n",
            "42/42 [==============================] - 0s 3ms/step - loss: 0.5749 - accuracy: 0.7913 - val_loss: 0.2762 - val_accuracy: 0.9270\n",
            "Epoch 34/1000\n",
            "14/42 [=========>....................] - ETA: 0s - loss: 0.5995 - accuracy: 0.7746\n",
            "Epoch 34: saving model to model/keypoint_classifier/keypoint_classifier.hdf5\n",
            "42/42 [==============================] - 0s 3ms/step - loss: 0.5820 - accuracy: 0.7772 - val_loss: 0.2716 - val_accuracy: 0.9310\n",
            "Epoch 35/1000\n",
            "37/42 [=========================>....] - ETA: 0s - loss: 0.5810 - accuracy: 0.7846\n",
            "Epoch 35: saving model to model/keypoint_classifier/keypoint_classifier.hdf5\n",
            "42/42 [==============================] - 0s 2ms/step - loss: 0.5796 - accuracy: 0.7835 - val_loss: 0.2687 - val_accuracy: 0.9355\n",
            "Epoch 36/1000\n",
            "36/42 [========================>.....] - ETA: 0s - loss: 0.5509 - accuracy: 0.7951\n",
            "Epoch 36: saving model to model/keypoint_classifier/keypoint_classifier.hdf5\n",
            "42/42 [==============================] - 0s 2ms/step - loss: 0.5521 - accuracy: 0.7951 - val_loss: 0.2674 - val_accuracy: 0.9304\n",
            "Epoch 37/1000\n",
            "38/42 [==========================>...] - ETA: 0s - loss: 0.5642 - accuracy: 0.7845\n",
            "Epoch 37: saving model to model/keypoint_classifier/keypoint_classifier.hdf5\n",
            "42/42 [==============================] - 0s 2ms/step - loss: 0.5655 - accuracy: 0.7852 - val_loss: 0.2615 - val_accuracy: 0.9315\n",
            "Epoch 38/1000\n",
            "38/42 [==========================>...] - ETA: 0s - loss: 0.5577 - accuracy: 0.7903\n",
            "Epoch 38: saving model to model/keypoint_classifier/keypoint_classifier.hdf5\n",
            "42/42 [==============================] - 0s 3ms/step - loss: 0.5596 - accuracy: 0.7894 - val_loss: 0.2578 - val_accuracy: 0.9287\n",
            "Epoch 39/1000\n",
            "31/42 [=====================>........] - ETA: 0s - loss: 0.5431 - accuracy: 0.7986\n",
            "Epoch 39: saving model to model/keypoint_classifier/keypoint_classifier.hdf5\n",
            "42/42 [==============================] - 0s 3ms/step - loss: 0.5542 - accuracy: 0.7936 - val_loss: 0.2508 - val_accuracy: 0.9367\n",
            "Epoch 40/1000\n",
            "33/42 [======================>.......] - ETA: 0s - loss: 0.5537 - accuracy: 0.7862\n",
            "Epoch 40: saving model to model/keypoint_classifier/keypoint_classifier.hdf5\n",
            "42/42 [==============================] - 0s 3ms/step - loss: 0.5530 - accuracy: 0.7873 - val_loss: 0.2524 - val_accuracy: 0.9367\n",
            "Epoch 41/1000\n",
            "33/42 [======================>.......] - ETA: 0s - loss: 0.5640 - accuracy: 0.7857\n",
            "Epoch 41: saving model to model/keypoint_classifier/keypoint_classifier.hdf5\n",
            "42/42 [==============================] - 0s 3ms/step - loss: 0.5561 - accuracy: 0.7898 - val_loss: 0.2516 - val_accuracy: 0.9310\n",
            "Epoch 42/1000\n",
            "34/42 [=======================>......] - ETA: 0s - loss: 0.5431 - accuracy: 0.7953\n",
            "Epoch 42: saving model to model/keypoint_classifier/keypoint_classifier.hdf5\n",
            "42/42 [==============================] - 0s 2ms/step - loss: 0.5454 - accuracy: 0.7928 - val_loss: 0.2392 - val_accuracy: 0.9430\n",
            "Epoch 43/1000\n",
            "39/42 [==========================>...] - ETA: 0s - loss: 0.5513 - accuracy: 0.7917\n",
            "Epoch 43: saving model to model/keypoint_classifier/keypoint_classifier.hdf5\n",
            "42/42 [==============================] - 0s 2ms/step - loss: 0.5500 - accuracy: 0.7928 - val_loss: 0.2409 - val_accuracy: 0.9378\n",
            "Epoch 44/1000\n",
            "39/42 [==========================>...] - ETA: 0s - loss: 0.5427 - accuracy: 0.7941\n",
            "Epoch 44: saving model to model/keypoint_classifier/keypoint_classifier.hdf5\n",
            "42/42 [==============================] - 0s 2ms/step - loss: 0.5372 - accuracy: 0.7955 - val_loss: 0.2382 - val_accuracy: 0.9361\n",
            "Epoch 45/1000\n",
            "39/42 [==========================>...] - ETA: 0s - loss: 0.5263 - accuracy: 0.8039\n",
            "Epoch 45: saving model to model/keypoint_classifier/keypoint_classifier.hdf5\n",
            "42/42 [==============================] - 0s 2ms/step - loss: 0.5275 - accuracy: 0.8035 - val_loss: 0.2352 - val_accuracy: 0.9412\n",
            "Epoch 46/1000\n",
            "38/42 [==========================>...] - ETA: 0s - loss: 0.5520 - accuracy: 0.7905\n",
            "Epoch 46: saving model to model/keypoint_classifier/keypoint_classifier.hdf5\n",
            "42/42 [==============================] - 0s 2ms/step - loss: 0.5475 - accuracy: 0.7927 - val_loss: 0.2401 - val_accuracy: 0.9367\n",
            "Epoch 47/1000\n",
            "37/42 [=========================>....] - ETA: 0s - loss: 0.5403 - accuracy: 0.7994\n",
            "Epoch 47: saving model to model/keypoint_classifier/keypoint_classifier.hdf5\n",
            "42/42 [==============================] - 0s 2ms/step - loss: 0.5424 - accuracy: 0.7993 - val_loss: 0.2341 - val_accuracy: 0.9355\n",
            "Epoch 48/1000\n",
            "38/42 [==========================>...] - ETA: 0s - loss: 0.5501 - accuracy: 0.7893\n",
            "Epoch 48: saving model to model/keypoint_classifier/keypoint_classifier.hdf5\n",
            "42/42 [==============================] - 0s 2ms/step - loss: 0.5498 - accuracy: 0.7890 - val_loss: 0.2379 - val_accuracy: 0.9390\n",
            "Epoch 49/1000\n",
            "38/42 [==========================>...] - ETA: 0s - loss: 0.5271 - accuracy: 0.8072\n",
            "Epoch 49: saving model to model/keypoint_classifier/keypoint_classifier.hdf5\n",
            "42/42 [==============================] - 0s 2ms/step - loss: 0.5276 - accuracy: 0.8052 - val_loss: 0.2310 - val_accuracy: 0.9418\n",
            "Epoch 50/1000\n",
            "37/42 [=========================>....] - ETA: 0s - loss: 0.5230 - accuracy: 0.8030\n",
            "Epoch 50: saving model to model/keypoint_classifier/keypoint_classifier.hdf5\n",
            "42/42 [==============================] - 0s 2ms/step - loss: 0.5242 - accuracy: 0.8022 - val_loss: 0.2221 - val_accuracy: 0.9458\n",
            "Epoch 51/1000\n",
            "30/42 [====================>.........] - ETA: 0s - loss: 0.5309 - accuracy: 0.7966\n",
            "Epoch 51: saving model to model/keypoint_classifier/keypoint_classifier.hdf5\n",
            "42/42 [==============================] - 0s 3ms/step - loss: 0.5255 - accuracy: 0.7995 - val_loss: 0.2276 - val_accuracy: 0.9435\n",
            "Epoch 52/1000\n",
            "33/42 [======================>.......] - ETA: 0s - loss: 0.5147 - accuracy: 0.8123\n",
            "Epoch 52: saving model to model/keypoint_classifier/keypoint_classifier.hdf5\n",
            "42/42 [==============================] - 0s 3ms/step - loss: 0.5210 - accuracy: 0.8100 - val_loss: 0.2284 - val_accuracy: 0.9361\n",
            "Epoch 53/1000\n",
            "34/42 [=======================>......] - ETA: 0s - loss: 0.5130 - accuracy: 0.8049\n",
            "Epoch 53: saving model to model/keypoint_classifier/keypoint_classifier.hdf5\n",
            "42/42 [==============================] - 0s 3ms/step - loss: 0.5155 - accuracy: 0.8033 - val_loss: 0.2209 - val_accuracy: 0.9430\n",
            "Epoch 54/1000\n",
            "37/42 [=========================>....] - ETA: 0s - loss: 0.5043 - accuracy: 0.8157\n",
            "Epoch 54: saving model to model/keypoint_classifier/keypoint_classifier.hdf5\n",
            "42/42 [==============================] - 0s 2ms/step - loss: 0.5038 - accuracy: 0.8166 - val_loss: 0.2160 - val_accuracy: 0.9418\n",
            "Epoch 55/1000\n",
            "37/42 [=========================>....] - ETA: 0s - loss: 0.5268 - accuracy: 0.7967\n",
            "Epoch 55: saving model to model/keypoint_classifier/keypoint_classifier.hdf5\n",
            "42/42 [==============================] - 0s 3ms/step - loss: 0.5229 - accuracy: 0.7982 - val_loss: 0.2155 - val_accuracy: 0.9452\n",
            "Epoch 56/1000\n",
            "20/42 [=============>................] - ETA: 0s - loss: 0.4908 - accuracy: 0.8168\n",
            "Epoch 56: saving model to model/keypoint_classifier/keypoint_classifier.hdf5\n",
            "42/42 [==============================] - 0s 3ms/step - loss: 0.5122 - accuracy: 0.8067 - val_loss: 0.2182 - val_accuracy: 0.9418\n",
            "Epoch 57/1000\n",
            "35/42 [========================>.....] - ETA: 0s - loss: 0.5138 - accuracy: 0.8123\n",
            "Epoch 57: saving model to model/keypoint_classifier/keypoint_classifier.hdf5\n",
            "42/42 [==============================] - 0s 3ms/step - loss: 0.5162 - accuracy: 0.8119 - val_loss: 0.2138 - val_accuracy: 0.9395\n",
            "Epoch 58/1000\n",
            "38/42 [==========================>...] - ETA: 0s - loss: 0.5062 - accuracy: 0.8086\n",
            "Epoch 58: saving model to model/keypoint_classifier/keypoint_classifier.hdf5\n",
            "42/42 [==============================] - 0s 3ms/step - loss: 0.5106 - accuracy: 0.8071 - val_loss: 0.2151 - val_accuracy: 0.9435\n",
            "Epoch 59/1000\n",
            "36/42 [========================>.....] - ETA: 0s - loss: 0.5165 - accuracy: 0.7995\n",
            "Epoch 59: saving model to model/keypoint_classifier/keypoint_classifier.hdf5\n",
            "42/42 [==============================] - 0s 3ms/step - loss: 0.5167 - accuracy: 0.8001 - val_loss: 0.2088 - val_accuracy: 0.9487\n",
            "Epoch 60/1000\n",
            "35/42 [========================>.....] - ETA: 0s - loss: 0.5248 - accuracy: 0.8054\n",
            "Epoch 60: saving model to model/keypoint_classifier/keypoint_classifier.hdf5\n",
            "42/42 [==============================] - 0s 3ms/step - loss: 0.5172 - accuracy: 0.8098 - val_loss: 0.2131 - val_accuracy: 0.9458\n",
            "Epoch 61/1000\n",
            "34/42 [=======================>......] - ETA: 0s - loss: 0.5102 - accuracy: 0.8125\n",
            "Epoch 61: saving model to model/keypoint_classifier/keypoint_classifier.hdf5\n",
            "42/42 [==============================] - 0s 3ms/step - loss: 0.5156 - accuracy: 0.8090 - val_loss: 0.2125 - val_accuracy: 0.9441\n",
            "Epoch 62/1000\n",
            "32/42 [=====================>........] - ETA: 0s - loss: 0.5020 - accuracy: 0.8115\n",
            "Epoch 62: saving model to model/keypoint_classifier/keypoint_classifier.hdf5\n",
            "42/42 [==============================] - 0s 3ms/step - loss: 0.5076 - accuracy: 0.8103 - val_loss: 0.2071 - val_accuracy: 0.9475\n",
            "Epoch 63/1000\n",
            "35/42 [========================>.....] - ETA: 0s - loss: 0.4977 - accuracy: 0.8138\n",
            "Epoch 63: saving model to model/keypoint_classifier/keypoint_classifier.hdf5\n",
            "42/42 [==============================] - 0s 3ms/step - loss: 0.5015 - accuracy: 0.8117 - val_loss: 0.2167 - val_accuracy: 0.9367\n",
            "Epoch 64/1000\n",
            "34/42 [=======================>......] - ETA: 0s - loss: 0.4983 - accuracy: 0.8155\n",
            "Epoch 64: saving model to model/keypoint_classifier/keypoint_classifier.hdf5\n",
            "42/42 [==============================] - 0s 3ms/step - loss: 0.5050 - accuracy: 0.8115 - val_loss: 0.2077 - val_accuracy: 0.9469\n",
            "Epoch 65/1000\n",
            "37/42 [=========================>....] - ETA: 0s - loss: 0.4895 - accuracy: 0.8174\n",
            "Epoch 65: saving model to model/keypoint_classifier/keypoint_classifier.hdf5\n",
            "42/42 [==============================] - 0s 2ms/step - loss: 0.4949 - accuracy: 0.8153 - val_loss: 0.2053 - val_accuracy: 0.9464\n",
            "Epoch 66/1000\n",
            "34/42 [=======================>......] - ETA: 0s - loss: 0.4938 - accuracy: 0.8127\n",
            "Epoch 66: saving model to model/keypoint_classifier/keypoint_classifier.hdf5\n",
            "42/42 [==============================] - 0s 2ms/step - loss: 0.4915 - accuracy: 0.8134 - val_loss: 0.2018 - val_accuracy: 0.9452\n",
            "Epoch 67/1000\n",
            "37/42 [=========================>....] - ETA: 0s - loss: 0.4868 - accuracy: 0.8150\n",
            "Epoch 67: saving model to model/keypoint_classifier/keypoint_classifier.hdf5\n",
            "42/42 [==============================] - 0s 2ms/step - loss: 0.4860 - accuracy: 0.8155 - val_loss: 0.2020 - val_accuracy: 0.9452\n",
            "Epoch 68/1000\n",
            "37/42 [=========================>....] - ETA: 0s - loss: 0.4948 - accuracy: 0.8117\n",
            "Epoch 68: saving model to model/keypoint_classifier/keypoint_classifier.hdf5\n",
            "42/42 [==============================] - 0s 2ms/step - loss: 0.4939 - accuracy: 0.8119 - val_loss: 0.2027 - val_accuracy: 0.9441\n",
            "Epoch 69/1000\n",
            "37/42 [=========================>....] - ETA: 0s - loss: 0.4841 - accuracy: 0.8228\n",
            "Epoch 69: saving model to model/keypoint_classifier/keypoint_classifier.hdf5\n",
            "42/42 [==============================] - 0s 2ms/step - loss: 0.4845 - accuracy: 0.8221 - val_loss: 0.1969 - val_accuracy: 0.9509\n",
            "Epoch 70/1000\n",
            "36/42 [========================>.....] - ETA: 0s - loss: 0.5082 - accuracy: 0.8082\n",
            "Epoch 70: saving model to model/keypoint_classifier/keypoint_classifier.hdf5\n",
            "42/42 [==============================] - 0s 2ms/step - loss: 0.5089 - accuracy: 0.8071 - val_loss: 0.2006 - val_accuracy: 0.9452\n",
            "Epoch 71/1000\n",
            "38/42 [==========================>...] - ETA: 0s - loss: 0.4904 - accuracy: 0.8226\n",
            "Epoch 71: saving model to model/keypoint_classifier/keypoint_classifier.hdf5\n",
            "42/42 [==============================] - 0s 2ms/step - loss: 0.4891 - accuracy: 0.8237 - val_loss: 0.1971 - val_accuracy: 0.9464\n",
            "Epoch 72/1000\n",
            "37/42 [=========================>....] - ETA: 0s - loss: 0.5082 - accuracy: 0.8102\n",
            "Epoch 72: saving model to model/keypoint_classifier/keypoint_classifier.hdf5\n",
            "42/42 [==============================] - 0s 2ms/step - loss: 0.5009 - accuracy: 0.8140 - val_loss: 0.1948 - val_accuracy: 0.9498\n",
            "Epoch 73/1000\n",
            "39/42 [==========================>...] - ETA: 0s - loss: 0.5044 - accuracy: 0.8063\n",
            "Epoch 73: saving model to model/keypoint_classifier/keypoint_classifier.hdf5\n",
            "42/42 [==============================] - 0s 2ms/step - loss: 0.5028 - accuracy: 0.8075 - val_loss: 0.1949 - val_accuracy: 0.9492\n",
            "Epoch 74/1000\n",
            "37/42 [=========================>....] - ETA: 0s - loss: 0.4733 - accuracy: 0.8254\n",
            "Epoch 74: saving model to model/keypoint_classifier/keypoint_classifier.hdf5\n",
            "42/42 [==============================] - 0s 2ms/step - loss: 0.4756 - accuracy: 0.8225 - val_loss: 0.1975 - val_accuracy: 0.9464\n",
            "Epoch 75/1000\n",
            "29/42 [===================>..........] - ETA: 0s - loss: 0.4873 - accuracy: 0.8138\n",
            "Epoch 75: saving model to model/keypoint_classifier/keypoint_classifier.hdf5\n",
            "42/42 [==============================] - 0s 3ms/step - loss: 0.4771 - accuracy: 0.8204 - val_loss: 0.1944 - val_accuracy: 0.9492\n",
            "Epoch 76/1000\n",
            "38/42 [==========================>...] - ETA: 0s - loss: 0.4835 - accuracy: 0.8197\n",
            "Epoch 76: saving model to model/keypoint_classifier/keypoint_classifier.hdf5\n",
            "42/42 [==============================] - 0s 2ms/step - loss: 0.4847 - accuracy: 0.8187 - val_loss: 0.1973 - val_accuracy: 0.9458\n",
            "Epoch 77/1000\n",
            "36/42 [========================>.....] - ETA: 0s - loss: 0.4798 - accuracy: 0.8251\n",
            "Epoch 77: saving model to model/keypoint_classifier/keypoint_classifier.hdf5\n",
            "42/42 [==============================] - 0s 2ms/step - loss: 0.4857 - accuracy: 0.8227 - val_loss: 0.1923 - val_accuracy: 0.9498\n",
            "Epoch 78/1000\n",
            "32/42 [=====================>........] - ETA: 0s - loss: 0.4888 - accuracy: 0.8164\n",
            "Epoch 78: saving model to model/keypoint_classifier/keypoint_classifier.hdf5\n",
            "42/42 [==============================] - 0s 3ms/step - loss: 0.4957 - accuracy: 0.8147 - val_loss: 0.1940 - val_accuracy: 0.9527\n",
            "Epoch 79/1000\n",
            "38/42 [==========================>...] - ETA: 0s - loss: 0.4793 - accuracy: 0.8183\n",
            "Epoch 79: saving model to model/keypoint_classifier/keypoint_classifier.hdf5\n",
            "42/42 [==============================] - 0s 2ms/step - loss: 0.4842 - accuracy: 0.8159 - val_loss: 0.1912 - val_accuracy: 0.9527\n",
            "Epoch 80/1000\n",
            "38/42 [==========================>...] - ETA: 0s - loss: 0.4777 - accuracy: 0.8252\n",
            "Epoch 80: saving model to model/keypoint_classifier/keypoint_classifier.hdf5\n",
            "42/42 [==============================] - 0s 2ms/step - loss: 0.4786 - accuracy: 0.8263 - val_loss: 0.1914 - val_accuracy: 0.9481\n",
            "Epoch 81/1000\n",
            "38/42 [==========================>...] - ETA: 0s - loss: 0.4790 - accuracy: 0.8199\n",
            "Epoch 81: saving model to model/keypoint_classifier/keypoint_classifier.hdf5\n",
            "42/42 [==============================] - 0s 2ms/step - loss: 0.4786 - accuracy: 0.8214 - val_loss: 0.1861 - val_accuracy: 0.9521\n",
            "Epoch 82/1000\n",
            "35/42 [========================>.....] - ETA: 0s - loss: 0.4908 - accuracy: 0.8212\n",
            "Epoch 82: saving model to model/keypoint_classifier/keypoint_classifier.hdf5\n",
            "42/42 [==============================] - 0s 3ms/step - loss: 0.4871 - accuracy: 0.8239 - val_loss: 0.1843 - val_accuracy: 0.9509\n",
            "Epoch 83/1000\n",
            "35/42 [========================>.....] - ETA: 0s - loss: 0.4571 - accuracy: 0.8326\n",
            "Epoch 83: saving model to model/keypoint_classifier/keypoint_classifier.hdf5\n",
            "42/42 [==============================] - 0s 3ms/step - loss: 0.4625 - accuracy: 0.8290 - val_loss: 0.1858 - val_accuracy: 0.9504\n",
            "Epoch 84/1000\n",
            "34/42 [=======================>......] - ETA: 0s - loss: 0.4713 - accuracy: 0.8176\n",
            "Epoch 84: saving model to model/keypoint_classifier/keypoint_classifier.hdf5\n",
            "42/42 [==============================] - 0s 3ms/step - loss: 0.4728 - accuracy: 0.8193 - val_loss: 0.1905 - val_accuracy: 0.9487\n",
            "Epoch 85/1000\n",
            "39/42 [==========================>...] - ETA: 0s - loss: 0.4670 - accuracy: 0.8181\n",
            "Epoch 85: saving model to model/keypoint_classifier/keypoint_classifier.hdf5\n",
            "42/42 [==============================] - 0s 2ms/step - loss: 0.4706 - accuracy: 0.8180 - val_loss: 0.1870 - val_accuracy: 0.9464\n",
            "Epoch 86/1000\n",
            "37/42 [=========================>....] - ETA: 0s - loss: 0.4694 - accuracy: 0.8190\n",
            "Epoch 86: saving model to model/keypoint_classifier/keypoint_classifier.hdf5\n",
            "42/42 [==============================] - 0s 2ms/step - loss: 0.4713 - accuracy: 0.8174 - val_loss: 0.1887 - val_accuracy: 0.9464\n",
            "Epoch 87/1000\n",
            "39/42 [==========================>...] - ETA: 0s - loss: 0.4700 - accuracy: 0.8209\n",
            "Epoch 87: saving model to model/keypoint_classifier/keypoint_classifier.hdf5\n",
            "42/42 [==============================] - 0s 2ms/step - loss: 0.4695 - accuracy: 0.8212 - val_loss: 0.1793 - val_accuracy: 0.9521\n",
            "Epoch 88/1000\n",
            "38/42 [==========================>...] - ETA: 0s - loss: 0.4567 - accuracy: 0.8281\n",
            "Epoch 88: saving model to model/keypoint_classifier/keypoint_classifier.hdf5\n",
            "42/42 [==============================] - 0s 2ms/step - loss: 0.4590 - accuracy: 0.8259 - val_loss: 0.1761 - val_accuracy: 0.9561\n",
            "Epoch 89/1000\n",
            "36/42 [========================>.....] - ETA: 0s - loss: 0.4519 - accuracy: 0.8342\n",
            "Epoch 89: saving model to model/keypoint_classifier/keypoint_classifier.hdf5\n",
            "42/42 [==============================] - 0s 2ms/step - loss: 0.4553 - accuracy: 0.8318 - val_loss: 0.1788 - val_accuracy: 0.9509\n",
            "Epoch 90/1000\n",
            "38/42 [==========================>...] - ETA: 0s - loss: 0.4593 - accuracy: 0.8322\n",
            "Epoch 90: saving model to model/keypoint_classifier/keypoint_classifier.hdf5\n",
            "42/42 [==============================] - 0s 2ms/step - loss: 0.4603 - accuracy: 0.8322 - val_loss: 0.1852 - val_accuracy: 0.9492\n",
            "Epoch 91/1000\n",
            "35/42 [========================>.....] - ETA: 0s - loss: 0.4587 - accuracy: 0.8330\n",
            "Epoch 91: saving model to model/keypoint_classifier/keypoint_classifier.hdf5\n",
            "42/42 [==============================] - 0s 4ms/step - loss: 0.4561 - accuracy: 0.8334 - val_loss: 0.1715 - val_accuracy: 0.9549\n",
            "Epoch 92/1000\n",
            "29/42 [===================>..........] - ETA: 0s - loss: 0.4615 - accuracy: 0.8297\n",
            "Epoch 92: saving model to model/keypoint_classifier/keypoint_classifier.hdf5\n",
            "42/42 [==============================] - 0s 3ms/step - loss: 0.4590 - accuracy: 0.8301 - val_loss: 0.1779 - val_accuracy: 0.9538\n",
            "Epoch 93/1000\n",
            "36/42 [========================>.....] - ETA: 0s - loss: 0.4731 - accuracy: 0.8251\n",
            "Epoch 93: saving model to model/keypoint_classifier/keypoint_classifier.hdf5\n",
            "42/42 [==============================] - 0s 2ms/step - loss: 0.4712 - accuracy: 0.8258 - val_loss: 0.1782 - val_accuracy: 0.9475\n",
            "Epoch 94/1000\n",
            "36/42 [========================>.....] - ETA: 0s - loss: 0.4815 - accuracy: 0.8207\n",
            "Epoch 94: saving model to model/keypoint_classifier/keypoint_classifier.hdf5\n",
            "42/42 [==============================] - 0s 2ms/step - loss: 0.4718 - accuracy: 0.8233 - val_loss: 0.1785 - val_accuracy: 0.9544\n",
            "Epoch 95/1000\n",
            "37/42 [=========================>....] - ETA: 0s - loss: 0.4702 - accuracy: 0.8228\n",
            "Epoch 95: saving model to model/keypoint_classifier/keypoint_classifier.hdf5\n",
            "42/42 [==============================] - 0s 2ms/step - loss: 0.4641 - accuracy: 0.8250 - val_loss: 0.1820 - val_accuracy: 0.9532\n",
            "Epoch 96/1000\n",
            "38/42 [==========================>...] - ETA: 0s - loss: 0.4491 - accuracy: 0.8296\n",
            "Epoch 96: saving model to model/keypoint_classifier/keypoint_classifier.hdf5\n",
            "42/42 [==============================] - 0s 2ms/step - loss: 0.4460 - accuracy: 0.8318 - val_loss: 0.1790 - val_accuracy: 0.9515\n",
            "Epoch 97/1000\n",
            "37/42 [=========================>....] - ETA: 0s - loss: 0.4763 - accuracy: 0.8157\n",
            "Epoch 97: saving model to model/keypoint_classifier/keypoint_classifier.hdf5\n",
            "42/42 [==============================] - 0s 2ms/step - loss: 0.4746 - accuracy: 0.8159 - val_loss: 0.1752 - val_accuracy: 0.9555\n",
            "Epoch 98/1000\n",
            "41/42 [============================>.] - ETA: 0s - loss: 0.4597 - accuracy: 0.8316\n",
            "Epoch 98: saving model to model/keypoint_classifier/keypoint_classifier.hdf5\n",
            "42/42 [==============================] - 0s 2ms/step - loss: 0.4597 - accuracy: 0.8315 - val_loss: 0.1786 - val_accuracy: 0.9544\n",
            "Epoch 99/1000\n",
            "38/42 [==========================>...] - ETA: 0s - loss: 0.4526 - accuracy: 0.8294\n",
            "Epoch 99: saving model to model/keypoint_classifier/keypoint_classifier.hdf5\n",
            "42/42 [==============================] - 0s 2ms/step - loss: 0.4507 - accuracy: 0.8313 - val_loss: 0.1721 - val_accuracy: 0.9561\n",
            "Epoch 100/1000\n",
            "35/42 [========================>.....] - ETA: 0s - loss: 0.4518 - accuracy: 0.8315\n",
            "Epoch 100: saving model to model/keypoint_classifier/keypoint_classifier.hdf5\n",
            "42/42 [==============================] - 0s 3ms/step - loss: 0.4490 - accuracy: 0.8330 - val_loss: 0.1750 - val_accuracy: 0.9481\n",
            "Epoch 101/1000\n",
            "33/42 [======================>.......] - ETA: 0s - loss: 0.4586 - accuracy: 0.8319\n",
            "Epoch 101: saving model to model/keypoint_classifier/keypoint_classifier.hdf5\n",
            "42/42 [==============================] - 0s 3ms/step - loss: 0.4573 - accuracy: 0.8307 - val_loss: 0.1706 - val_accuracy: 0.9521\n",
            "Epoch 102/1000\n",
            "37/42 [=========================>....] - ETA: 0s - loss: 0.4487 - accuracy: 0.8347\n",
            "Epoch 102: saving model to model/keypoint_classifier/keypoint_classifier.hdf5\n",
            "42/42 [==============================] - 0s 2ms/step - loss: 0.4455 - accuracy: 0.8372 - val_loss: 0.1657 - val_accuracy: 0.9566\n",
            "Epoch 103/1000\n",
            "38/42 [==========================>...] - ETA: 0s - loss: 0.4636 - accuracy: 0.8277\n",
            "Epoch 103: saving model to model/keypoint_classifier/keypoint_classifier.hdf5\n",
            "42/42 [==============================] - 0s 2ms/step - loss: 0.4648 - accuracy: 0.8278 - val_loss: 0.1713 - val_accuracy: 0.9527\n",
            "Epoch 104/1000\n",
            "35/42 [========================>.....] - ETA: 0s - loss: 0.4674 - accuracy: 0.8203\n",
            "Epoch 104: saving model to model/keypoint_classifier/keypoint_classifier.hdf5\n",
            "42/42 [==============================] - 0s 3ms/step - loss: 0.4619 - accuracy: 0.8221 - val_loss: 0.1735 - val_accuracy: 0.9521\n",
            "Epoch 105/1000\n",
            "36/42 [========================>.....] - ETA: 0s - loss: 0.4477 - accuracy: 0.8351\n",
            "Epoch 105: saving model to model/keypoint_classifier/keypoint_classifier.hdf5\n",
            "42/42 [==============================] - 0s 3ms/step - loss: 0.4434 - accuracy: 0.8364 - val_loss: 0.1707 - val_accuracy: 0.9538\n",
            "Epoch 106/1000\n",
            "34/42 [=======================>......] - ETA: 0s - loss: 0.4502 - accuracy: 0.8304\n",
            "Epoch 106: saving model to model/keypoint_classifier/keypoint_classifier.hdf5\n",
            "42/42 [==============================] - 0s 3ms/step - loss: 0.4372 - accuracy: 0.8353 - val_loss: 0.1715 - val_accuracy: 0.9498\n",
            "Epoch 107/1000\n",
            "33/42 [======================>.......] - ETA: 0s - loss: 0.4526 - accuracy: 0.8267\n",
            "Epoch 107: saving model to model/keypoint_classifier/keypoint_classifier.hdf5\n",
            "42/42 [==============================] - 0s 3ms/step - loss: 0.4508 - accuracy: 0.8294 - val_loss: 0.1705 - val_accuracy: 0.9538\n",
            "Epoch 108/1000\n",
            "35/42 [========================>.....] - ETA: 0s - loss: 0.4512 - accuracy: 0.8250\n",
            "Epoch 108: saving model to model/keypoint_classifier/keypoint_classifier.hdf5\n",
            "42/42 [==============================] - 0s 3ms/step - loss: 0.4440 - accuracy: 0.8261 - val_loss: 0.1706 - val_accuracy: 0.9509\n",
            "Epoch 109/1000\n",
            "37/42 [=========================>....] - ETA: 0s - loss: 0.4586 - accuracy: 0.8317\n",
            "Epoch 109: saving model to model/keypoint_classifier/keypoint_classifier.hdf5\n",
            "42/42 [==============================] - 0s 2ms/step - loss: 0.4568 - accuracy: 0.8322 - val_loss: 0.1704 - val_accuracy: 0.9498\n",
            "Epoch 110/1000\n",
            "38/42 [==========================>...] - ETA: 0s - loss: 0.4531 - accuracy: 0.8382\n",
            "Epoch 110: saving model to model/keypoint_classifier/keypoint_classifier.hdf5\n",
            "42/42 [==============================] - 0s 2ms/step - loss: 0.4497 - accuracy: 0.8375 - val_loss: 0.1670 - val_accuracy: 0.9527\n",
            "Epoch 111/1000\n",
            "35/42 [========================>.....] - ETA: 0s - loss: 0.4520 - accuracy: 0.8377\n",
            "Epoch 111: saving model to model/keypoint_classifier/keypoint_classifier.hdf5\n",
            "42/42 [==============================] - 0s 3ms/step - loss: 0.4526 - accuracy: 0.8362 - val_loss: 0.1698 - val_accuracy: 0.9504\n",
            "Epoch 112/1000\n",
            "32/42 [=====================>........] - ETA: 0s - loss: 0.4748 - accuracy: 0.8311\n",
            "Epoch 112: saving model to model/keypoint_classifier/keypoint_classifier.hdf5\n",
            "42/42 [==============================] - 0s 3ms/step - loss: 0.4676 - accuracy: 0.8322 - val_loss: 0.1682 - val_accuracy: 0.9544\n",
            "Epoch 113/1000\n",
            "35/42 [========================>.....] - ETA: 0s - loss: 0.4613 - accuracy: 0.8326\n",
            "Epoch 113: saving model to model/keypoint_classifier/keypoint_classifier.hdf5\n",
            "42/42 [==============================] - 0s 2ms/step - loss: 0.4648 - accuracy: 0.8311 - val_loss: 0.1699 - val_accuracy: 0.9487\n",
            "Epoch 114/1000\n",
            "36/42 [========================>.....] - ETA: 0s - loss: 0.4516 - accuracy: 0.8290\n",
            "Epoch 114: saving model to model/keypoint_classifier/keypoint_classifier.hdf5\n",
            "42/42 [==============================] - 0s 2ms/step - loss: 0.4508 - accuracy: 0.8320 - val_loss: 0.1669 - val_accuracy: 0.9538\n",
            "Epoch 115/1000\n",
            "34/42 [=======================>......] - ETA: 0s - loss: 0.4500 - accuracy: 0.8380\n",
            "Epoch 115: saving model to model/keypoint_classifier/keypoint_classifier.hdf5\n",
            "42/42 [==============================] - 0s 2ms/step - loss: 0.4515 - accuracy: 0.8356 - val_loss: 0.1617 - val_accuracy: 0.9572\n",
            "Epoch 116/1000\n",
            "39/42 [==========================>...] - ETA: 0s - loss: 0.4534 - accuracy: 0.8297\n",
            "Epoch 116: saving model to model/keypoint_classifier/keypoint_classifier.hdf5\n",
            "42/42 [==============================] - 0s 2ms/step - loss: 0.4518 - accuracy: 0.8311 - val_loss: 0.1621 - val_accuracy: 0.9549\n",
            "Epoch 117/1000\n",
            "36/42 [========================>.....] - ETA: 0s - loss: 0.4568 - accuracy: 0.8227\n",
            "Epoch 117: saving model to model/keypoint_classifier/keypoint_classifier.hdf5\n",
            "42/42 [==============================] - 0s 3ms/step - loss: 0.4562 - accuracy: 0.8252 - val_loss: 0.1620 - val_accuracy: 0.9572\n",
            "Epoch 118/1000\n",
            "37/42 [=========================>....] - ETA: 0s - loss: 0.4627 - accuracy: 0.8281\n",
            "Epoch 118: saving model to model/keypoint_classifier/keypoint_classifier.hdf5\n",
            "42/42 [==============================] - 0s 3ms/step - loss: 0.4625 - accuracy: 0.8275 - val_loss: 0.1674 - val_accuracy: 0.9532\n",
            "Epoch 119/1000\n",
            "37/42 [=========================>....] - ETA: 0s - loss: 0.4507 - accuracy: 0.8288\n",
            "Epoch 119: saving model to model/keypoint_classifier/keypoint_classifier.hdf5\n",
            "42/42 [==============================] - 0s 2ms/step - loss: 0.4445 - accuracy: 0.8301 - val_loss: 0.1685 - val_accuracy: 0.9487\n",
            "Epoch 120/1000\n",
            "41/42 [============================>.] - ETA: 0s - loss: 0.4416 - accuracy: 0.8312\n",
            "Epoch 120: saving model to model/keypoint_classifier/keypoint_classifier.hdf5\n",
            "42/42 [==============================] - 0s 3ms/step - loss: 0.4424 - accuracy: 0.8307 - val_loss: 0.1670 - val_accuracy: 0.9509\n",
            "Epoch 121/1000\n",
            "32/42 [=====================>........] - ETA: 0s - loss: 0.4426 - accuracy: 0.8342\n",
            "Epoch 121: saving model to model/keypoint_classifier/keypoint_classifier.hdf5\n",
            "42/42 [==============================] - 0s 3ms/step - loss: 0.4425 - accuracy: 0.8345 - val_loss: 0.1604 - val_accuracy: 0.9538\n",
            "Epoch 122/1000\n",
            "34/42 [=======================>......] - ETA: 0s - loss: 0.4191 - accuracy: 0.8500\n",
            "Epoch 122: saving model to model/keypoint_classifier/keypoint_classifier.hdf5\n",
            "42/42 [==============================] - 0s 3ms/step - loss: 0.4305 - accuracy: 0.8448 - val_loss: 0.1625 - val_accuracy: 0.9527\n",
            "Epoch 123/1000\n",
            "37/42 [=========================>....] - ETA: 0s - loss: 0.4357 - accuracy: 0.8402\n",
            "Epoch 123: saving model to model/keypoint_classifier/keypoint_classifier.hdf5\n",
            "42/42 [==============================] - 0s 3ms/step - loss: 0.4301 - accuracy: 0.8414 - val_loss: 0.1652 - val_accuracy: 0.9487\n",
            "Epoch 124/1000\n",
            "36/42 [========================>.....] - ETA: 0s - loss: 0.4390 - accuracy: 0.8338\n",
            "Epoch 124: saving model to model/keypoint_classifier/keypoint_classifier.hdf5\n",
            "42/42 [==============================] - 0s 3ms/step - loss: 0.4386 - accuracy: 0.8324 - val_loss: 0.1580 - val_accuracy: 0.9527\n",
            "Epoch 125/1000\n",
            "37/42 [=========================>....] - ETA: 0s - loss: 0.4508 - accuracy: 0.8319\n",
            "Epoch 125: saving model to model/keypoint_classifier/keypoint_classifier.hdf5\n",
            "42/42 [==============================] - 0s 2ms/step - loss: 0.4505 - accuracy: 0.8303 - val_loss: 0.1685 - val_accuracy: 0.9481\n",
            "Epoch 126/1000\n",
            " 1/42 [..............................] - ETA: 0s - loss: 0.4669 - accuracy: 0.8359\n",
            "Epoch 126: saving model to model/keypoint_classifier/keypoint_classifier.hdf5\n",
            "42/42 [==============================] - 0s 2ms/step - loss: 0.4291 - accuracy: 0.8379 - val_loss: 0.1642 - val_accuracy: 0.9521\n",
            "Epoch 127/1000\n",
            " 1/42 [..............................] - ETA: 0s - loss: 0.4813 - accuracy: 0.8203\n",
            "Epoch 127: saving model to model/keypoint_classifier/keypoint_classifier.hdf5\n",
            "42/42 [==============================] - 0s 2ms/step - loss: 0.4400 - accuracy: 0.8339 - val_loss: 0.1587 - val_accuracy: 0.9538\n",
            "Epoch 128/1000\n",
            " 1/42 [..............................] - ETA: 0s - loss: 0.4164 - accuracy: 0.8281\n",
            "Epoch 128: saving model to model/keypoint_classifier/keypoint_classifier.hdf5\n",
            "42/42 [==============================] - 0s 2ms/step - loss: 0.4345 - accuracy: 0.8343 - val_loss: 0.1663 - val_accuracy: 0.9475\n",
            "Epoch 129/1000\n",
            "39/42 [==========================>...] - ETA: 0s - loss: 0.4254 - accuracy: 0.8375\n",
            "Epoch 129: saving model to model/keypoint_classifier/keypoint_classifier.hdf5\n",
            "42/42 [==============================] - 0s 3ms/step - loss: 0.4294 - accuracy: 0.8358 - val_loss: 0.1587 - val_accuracy: 0.9521\n",
            "Epoch 130/1000\n",
            "31/42 [=====================>........] - ETA: 0s - loss: 0.4551 - accuracy: 0.8324\n",
            "Epoch 130: saving model to model/keypoint_classifier/keypoint_classifier.hdf5\n",
            "42/42 [==============================] - 0s 3ms/step - loss: 0.4565 - accuracy: 0.8290 - val_loss: 0.1590 - val_accuracy: 0.9555\n",
            "Epoch 131/1000\n",
            "38/42 [==========================>...] - ETA: 0s - loss: 0.4561 - accuracy: 0.8335\n",
            "Epoch 131: saving model to model/keypoint_classifier/keypoint_classifier.hdf5\n",
            "42/42 [==============================] - 0s 2ms/step - loss: 0.4536 - accuracy: 0.8336 - val_loss: 0.1620 - val_accuracy: 0.9527\n",
            "Epoch 132/1000\n",
            "37/42 [=========================>....] - ETA: 0s - loss: 0.4415 - accuracy: 0.8342\n",
            "Epoch 132: saving model to model/keypoint_classifier/keypoint_classifier.hdf5\n",
            "42/42 [==============================] - 0s 2ms/step - loss: 0.4430 - accuracy: 0.8343 - val_loss: 0.1585 - val_accuracy: 0.9561\n",
            "Epoch 133/1000\n",
            "37/42 [=========================>....] - ETA: 0s - loss: 0.4459 - accuracy: 0.8294\n",
            "Epoch 133: saving model to model/keypoint_classifier/keypoint_classifier.hdf5\n",
            "42/42 [==============================] - 0s 2ms/step - loss: 0.4480 - accuracy: 0.8292 - val_loss: 0.1555 - val_accuracy: 0.9572\n",
            "Epoch 134/1000\n",
            "36/42 [========================>.....] - ETA: 0s - loss: 0.4266 - accuracy: 0.8416\n",
            "Epoch 134: saving model to model/keypoint_classifier/keypoint_classifier.hdf5\n",
            "42/42 [==============================] - 0s 2ms/step - loss: 0.4302 - accuracy: 0.8402 - val_loss: 0.1566 - val_accuracy: 0.9527\n",
            "Epoch 135/1000\n",
            "35/42 [========================>.....] - ETA: 0s - loss: 0.4228 - accuracy: 0.8422\n",
            "Epoch 135: saving model to model/keypoint_classifier/keypoint_classifier.hdf5\n",
            "42/42 [==============================] - 0s 3ms/step - loss: 0.4212 - accuracy: 0.8436 - val_loss: 0.1511 - val_accuracy: 0.9595\n",
            "Epoch 136/1000\n",
            "34/42 [=======================>......] - ETA: 0s - loss: 0.4247 - accuracy: 0.8412\n",
            "Epoch 136: saving model to model/keypoint_classifier/keypoint_classifier.hdf5\n",
            "42/42 [==============================] - 0s 3ms/step - loss: 0.4235 - accuracy: 0.8421 - val_loss: 0.1593 - val_accuracy: 0.9544\n",
            "Epoch 137/1000\n",
            "34/42 [=======================>......] - ETA: 0s - loss: 0.4450 - accuracy: 0.8403\n",
            "Epoch 137: saving model to model/keypoint_classifier/keypoint_classifier.hdf5\n",
            "42/42 [==============================] - 0s 3ms/step - loss: 0.4395 - accuracy: 0.8425 - val_loss: 0.1540 - val_accuracy: 0.9538\n",
            "Epoch 138/1000\n",
            "32/42 [=====================>........] - ETA: 0s - loss: 0.4421 - accuracy: 0.8347\n",
            "Epoch 138: saving model to model/keypoint_classifier/keypoint_classifier.hdf5\n",
            "42/42 [==============================] - 0s 3ms/step - loss: 0.4436 - accuracy: 0.8332 - val_loss: 0.1521 - val_accuracy: 0.9578\n",
            "Epoch 139/1000\n",
            "35/42 [========================>.....] - ETA: 0s - loss: 0.4314 - accuracy: 0.8375\n",
            "Epoch 139: saving model to model/keypoint_classifier/keypoint_classifier.hdf5\n",
            "42/42 [==============================] - 0s 2ms/step - loss: 0.4306 - accuracy: 0.8389 - val_loss: 0.1526 - val_accuracy: 0.9578\n",
            "Epoch 140/1000\n",
            "36/42 [========================>.....] - ETA: 0s - loss: 0.4408 - accuracy: 0.8383\n",
            "Epoch 140: saving model to model/keypoint_classifier/keypoint_classifier.hdf5\n",
            "42/42 [==============================] - 0s 2ms/step - loss: 0.4397 - accuracy: 0.8379 - val_loss: 0.1586 - val_accuracy: 0.9515\n",
            "Epoch 141/1000\n",
            "35/42 [========================>.....] - ETA: 0s - loss: 0.4380 - accuracy: 0.8377\n",
            "Epoch 141: saving model to model/keypoint_classifier/keypoint_classifier.hdf5\n",
            "42/42 [==============================] - 0s 2ms/step - loss: 0.4355 - accuracy: 0.8383 - val_loss: 0.1558 - val_accuracy: 0.9532\n",
            "Epoch 142/1000\n",
            "42/42 [==============================] - ETA: 0s - loss: 0.4351 - accuracy: 0.8381\n",
            "Epoch 142: saving model to model/keypoint_classifier/keypoint_classifier.hdf5\n",
            "42/42 [==============================] - 0s 5ms/step - loss: 0.4351 - accuracy: 0.8381 - val_loss: 0.1535 - val_accuracy: 0.9538\n",
            "Epoch 143/1000\n",
            "27/42 [==================>...........] - ETA: 0s - loss: 0.4282 - accuracy: 0.8417\n",
            "Epoch 143: saving model to model/keypoint_classifier/keypoint_classifier.hdf5\n",
            "42/42 [==============================] - 0s 3ms/step - loss: 0.4322 - accuracy: 0.8406 - val_loss: 0.1537 - val_accuracy: 0.9538\n",
            "Epoch 144/1000\n",
            "37/42 [=========================>....] - ETA: 0s - loss: 0.4412 - accuracy: 0.8342\n",
            "Epoch 144: saving model to model/keypoint_classifier/keypoint_classifier.hdf5\n",
            "42/42 [==============================] - 0s 2ms/step - loss: 0.4390 - accuracy: 0.8364 - val_loss: 0.1587 - val_accuracy: 0.9521\n",
            "Epoch 145/1000\n",
            "36/42 [========================>.....] - ETA: 0s - loss: 0.4611 - accuracy: 0.8279\n",
            "Epoch 145: saving model to model/keypoint_classifier/keypoint_classifier.hdf5\n",
            "42/42 [==============================] - 0s 2ms/step - loss: 0.4576 - accuracy: 0.8275 - val_loss: 0.1530 - val_accuracy: 0.9566\n",
            "Epoch 146/1000\n",
            "38/42 [==========================>...] - ETA: 0s - loss: 0.4388 - accuracy: 0.8392\n",
            "Epoch 146: saving model to model/keypoint_classifier/keypoint_classifier.hdf5\n",
            "42/42 [==============================] - 0s 2ms/step - loss: 0.4392 - accuracy: 0.8391 - val_loss: 0.1544 - val_accuracy: 0.9555\n",
            "Epoch 147/1000\n",
            "38/42 [==========================>...] - ETA: 0s - loss: 0.4403 - accuracy: 0.8322\n",
            "Epoch 147: saving model to model/keypoint_classifier/keypoint_classifier.hdf5\n",
            "42/42 [==============================] - 0s 2ms/step - loss: 0.4415 - accuracy: 0.8332 - val_loss: 0.1573 - val_accuracy: 0.9549\n",
            "Epoch 148/1000\n",
            "37/42 [=========================>....] - ETA: 0s - loss: 0.4310 - accuracy: 0.8393\n",
            "Epoch 148: saving model to model/keypoint_classifier/keypoint_classifier.hdf5\n",
            "42/42 [==============================] - 0s 3ms/step - loss: 0.4285 - accuracy: 0.8385 - val_loss: 0.1572 - val_accuracy: 0.9527\n",
            "Epoch 149/1000\n",
            "30/42 [====================>.........] - ETA: 0s - loss: 0.4382 - accuracy: 0.8362\n",
            "Epoch 149: saving model to model/keypoint_classifier/keypoint_classifier.hdf5\n",
            "42/42 [==============================] - 0s 3ms/step - loss: 0.4310 - accuracy: 0.8372 - val_loss: 0.1547 - val_accuracy: 0.9532\n",
            "Epoch 150/1000\n",
            "30/42 [====================>.........] - ETA: 0s - loss: 0.4473 - accuracy: 0.8336\n",
            "Epoch 150: saving model to model/keypoint_classifier/keypoint_classifier.hdf5\n",
            "42/42 [==============================] - 0s 3ms/step - loss: 0.4345 - accuracy: 0.8381 - val_loss: 0.1590 - val_accuracy: 0.9481\n",
            "Epoch 151/1000\n",
            "34/42 [=======================>......] - ETA: 0s - loss: 0.4242 - accuracy: 0.8447\n",
            "Epoch 151: saving model to model/keypoint_classifier/keypoint_classifier.hdf5\n",
            "42/42 [==============================] - 0s 3ms/step - loss: 0.4239 - accuracy: 0.8433 - val_loss: 0.1582 - val_accuracy: 0.9521\n",
            "Epoch 152/1000\n",
            "22/42 [==============>...............] - ETA: 0s - loss: 0.4023 - accuracy: 0.8469\n",
            "Epoch 152: saving model to model/keypoint_classifier/keypoint_classifier.hdf5\n",
            "42/42 [==============================] - 0s 3ms/step - loss: 0.4181 - accuracy: 0.8427 - val_loss: 0.1537 - val_accuracy: 0.9504\n",
            "Epoch 153/1000\n",
            " 1/42 [..............................] - ETA: 0s - loss: 0.4042 - accuracy: 0.8438\n",
            "Epoch 153: saving model to model/keypoint_classifier/keypoint_classifier.hdf5\n",
            "42/42 [==============================] - 0s 5ms/step - loss: 0.4207 - accuracy: 0.8429 - val_loss: 0.1540 - val_accuracy: 0.9549\n",
            "Epoch 154/1000\n",
            "39/42 [==========================>...] - ETA: 0s - loss: 0.4298 - accuracy: 0.8357\n",
            "Epoch 154: saving model to model/keypoint_classifier/keypoint_classifier.hdf5\n",
            "42/42 [==============================] - 0s 12ms/step - loss: 0.4292 - accuracy: 0.8349 - val_loss: 0.1520 - val_accuracy: 0.9549\n",
            "Epoch 155/1000\n",
            "33/42 [======================>.......] - ETA: 0s - loss: 0.4071 - accuracy: 0.8501\n",
            "Epoch 155: saving model to model/keypoint_classifier/keypoint_classifier.hdf5\n",
            "42/42 [==============================] - 0s 3ms/step - loss: 0.4054 - accuracy: 0.8511 - val_loss: 0.1503 - val_accuracy: 0.9578\n",
            "Epoch 156/1000\n",
            "36/42 [========================>.....] - ETA: 0s - loss: 0.4489 - accuracy: 0.8307\n",
            "Epoch 156: saving model to model/keypoint_classifier/keypoint_classifier.hdf5\n",
            "42/42 [==============================] - 0s 3ms/step - loss: 0.4429 - accuracy: 0.8343 - val_loss: 0.1547 - val_accuracy: 0.9544\n",
            "Epoch 157/1000\n",
            "37/42 [=========================>....] - ETA: 0s - loss: 0.4274 - accuracy: 0.8376\n",
            "Epoch 157: saving model to model/keypoint_classifier/keypoint_classifier.hdf5\n",
            "42/42 [==============================] - 0s 3ms/step - loss: 0.4310 - accuracy: 0.8347 - val_loss: 0.1618 - val_accuracy: 0.9475\n",
            "Epoch 158/1000\n",
            "40/42 [===========================>..] - ETA: 0s - loss: 0.4211 - accuracy: 0.8438\n",
            "Epoch 158: saving model to model/keypoint_classifier/keypoint_classifier.hdf5\n",
            "42/42 [==============================] - 0s 2ms/step - loss: 0.4193 - accuracy: 0.8440 - val_loss: 0.1575 - val_accuracy: 0.9515\n",
            "Epoch 159/1000\n",
            "40/42 [===========================>..] - ETA: 0s - loss: 0.4280 - accuracy: 0.8348\n",
            "Epoch 159: saving model to model/keypoint_classifier/keypoint_classifier.hdf5\n",
            "42/42 [==============================] - 0s 2ms/step - loss: 0.4308 - accuracy: 0.8349 - val_loss: 0.1552 - val_accuracy: 0.9538\n",
            "Epoch 160/1000\n",
            " 1/42 [..............................] - ETA: 0s - loss: 0.4931 - accuracy: 0.8047\n",
            "Epoch 160: saving model to model/keypoint_classifier/keypoint_classifier.hdf5\n",
            "42/42 [==============================] - 0s 2ms/step - loss: 0.4154 - accuracy: 0.8452 - val_loss: 0.1503 - val_accuracy: 0.9549\n",
            "Epoch 161/1000\n",
            " 1/42 [..............................] - ETA: 0s - loss: 0.4578 - accuracy: 0.8359\n",
            "Epoch 161: saving model to model/keypoint_classifier/keypoint_classifier.hdf5\n",
            "42/42 [==============================] - 0s 2ms/step - loss: 0.4389 - accuracy: 0.8385 - val_loss: 0.1506 - val_accuracy: 0.9549\n",
            "Epoch 162/1000\n",
            " 1/42 [..............................] - ETA: 0s - loss: 0.4433 - accuracy: 0.8281\n",
            "Epoch 162: saving model to model/keypoint_classifier/keypoint_classifier.hdf5\n",
            "42/42 [==============================] - 0s 2ms/step - loss: 0.4306 - accuracy: 0.8374 - val_loss: 0.1504 - val_accuracy: 0.9544\n",
            "Epoch 163/1000\n",
            " 1/42 [..............................] - ETA: 0s - loss: 0.3810 - accuracy: 0.8906\n",
            "Epoch 163: saving model to model/keypoint_classifier/keypoint_classifier.hdf5\n",
            "42/42 [==============================] - 0s 2ms/step - loss: 0.4240 - accuracy: 0.8433 - val_loss: 0.1479 - val_accuracy: 0.9584\n",
            "Epoch 164/1000\n",
            "37/42 [=========================>....] - ETA: 0s - loss: 0.4290 - accuracy: 0.8380\n",
            "Epoch 164: saving model to model/keypoint_classifier/keypoint_classifier.hdf5\n",
            "42/42 [==============================] - 0s 2ms/step - loss: 0.4280 - accuracy: 0.8368 - val_loss: 0.1570 - val_accuracy: 0.9492\n",
            "Epoch 165/1000\n",
            "38/42 [==========================>...] - ETA: 0s - loss: 0.4090 - accuracy: 0.8452\n",
            "Epoch 165: saving model to model/keypoint_classifier/keypoint_classifier.hdf5\n",
            "42/42 [==============================] - 0s 2ms/step - loss: 0.4144 - accuracy: 0.8429 - val_loss: 0.1466 - val_accuracy: 0.9572\n",
            "Epoch 166/1000\n",
            "41/42 [============================>.] - ETA: 0s - loss: 0.4172 - accuracy: 0.8432\n",
            "Epoch 166: saving model to model/keypoint_classifier/keypoint_classifier.hdf5\n",
            "42/42 [==============================] - 0s 4ms/step - loss: 0.4169 - accuracy: 0.8434 - val_loss: 0.1515 - val_accuracy: 0.9555\n",
            "Epoch 167/1000\n",
            "25/42 [================>.............] - ETA: 0s - loss: 0.4416 - accuracy: 0.8300\n",
            "Epoch 167: saving model to model/keypoint_classifier/keypoint_classifier.hdf5\n",
            "42/42 [==============================] - 0s 4ms/step - loss: 0.4373 - accuracy: 0.8375 - val_loss: 0.1532 - val_accuracy: 0.9555\n",
            "Epoch 168/1000\n",
            "26/42 [=================>............] - ETA: 0s - loss: 0.4336 - accuracy: 0.8368\n",
            "Epoch 168: saving model to model/keypoint_classifier/keypoint_classifier.hdf5\n",
            "42/42 [==============================] - 0s 3ms/step - loss: 0.4297 - accuracy: 0.8408 - val_loss: 0.1554 - val_accuracy: 0.9532\n",
            "Epoch 169/1000\n",
            " 1/42 [..............................] - ETA: 0s - loss: 0.3503 - accuracy: 0.8906\n",
            "Epoch 169: saving model to model/keypoint_classifier/keypoint_classifier.hdf5\n",
            "42/42 [==============================] - 0s 2ms/step - loss: 0.4123 - accuracy: 0.8431 - val_loss: 0.1473 - val_accuracy: 0.9561\n",
            "Epoch 170/1000\n",
            " 1/42 [..............................] - ETA: 0s - loss: 0.4425 - accuracy: 0.8359\n",
            "Epoch 170: saving model to model/keypoint_classifier/keypoint_classifier.hdf5\n",
            "42/42 [==============================] - 0s 2ms/step - loss: 0.4149 - accuracy: 0.8438 - val_loss: 0.1444 - val_accuracy: 0.9555\n",
            "Epoch 171/1000\n",
            " 1/42 [..............................] - ETA: 0s - loss: 0.4483 - accuracy: 0.8125\n",
            "Epoch 171: saving model to model/keypoint_classifier/keypoint_classifier.hdf5\n",
            "42/42 [==============================] - 0s 2ms/step - loss: 0.4253 - accuracy: 0.8393 - val_loss: 0.1463 - val_accuracy: 0.9566\n",
            "Epoch 172/1000\n",
            " 1/42 [..............................] - ETA: 0s - loss: 0.4090 - accuracy: 0.8516\n",
            "Epoch 172: saving model to model/keypoint_classifier/keypoint_classifier.hdf5\n",
            "42/42 [==============================] - 0s 2ms/step - loss: 0.4291 - accuracy: 0.8410 - val_loss: 0.1494 - val_accuracy: 0.9527\n",
            "Epoch 173/1000\n",
            "38/42 [==========================>...] - ETA: 0s - loss: 0.4024 - accuracy: 0.8520\n",
            "Epoch 173: saving model to model/keypoint_classifier/keypoint_classifier.hdf5\n",
            "42/42 [==============================] - 0s 2ms/step - loss: 0.4077 - accuracy: 0.8509 - val_loss: 0.1483 - val_accuracy: 0.9538\n",
            "Epoch 174/1000\n",
            "31/42 [=====================>........] - ETA: 0s - loss: 0.4155 - accuracy: 0.8470\n",
            "Epoch 174: saving model to model/keypoint_classifier/keypoint_classifier.hdf5\n",
            "42/42 [==============================] - 0s 3ms/step - loss: 0.4239 - accuracy: 0.8463 - val_loss: 0.1567 - val_accuracy: 0.9498\n",
            "Epoch 175/1000\n",
            "36/42 [========================>.....] - ETA: 0s - loss: 0.4154 - accuracy: 0.8442\n",
            "Epoch 175: saving model to model/keypoint_classifier/keypoint_classifier.hdf5\n",
            "42/42 [==============================] - 0s 2ms/step - loss: 0.4203 - accuracy: 0.8414 - val_loss: 0.1493 - val_accuracy: 0.9498\n",
            "Epoch 176/1000\n",
            "40/42 [===========================>..] - ETA: 0s - loss: 0.4242 - accuracy: 0.8416\n",
            "Epoch 176: saving model to model/keypoint_classifier/keypoint_classifier.hdf5\n",
            "42/42 [==============================] - 0s 2ms/step - loss: 0.4228 - accuracy: 0.8419 - val_loss: 0.1465 - val_accuracy: 0.9555\n",
            "Epoch 177/1000\n",
            "42/42 [==============================] - ETA: 0s - loss: 0.4328 - accuracy: 0.8377\n",
            "Epoch 177: saving model to model/keypoint_classifier/keypoint_classifier.hdf5\n",
            "42/42 [==============================] - 0s 2ms/step - loss: 0.4328 - accuracy: 0.8377 - val_loss: 0.1532 - val_accuracy: 0.9538\n",
            "Epoch 178/1000\n",
            "27/42 [==================>...........] - ETA: 0s - loss: 0.4072 - accuracy: 0.8461\n",
            "Epoch 178: saving model to model/keypoint_classifier/keypoint_classifier.hdf5\n",
            "42/42 [==============================] - 0s 3ms/step - loss: 0.4137 - accuracy: 0.8452 - val_loss: 0.1530 - val_accuracy: 0.9555\n",
            "Epoch 179/1000\n",
            " 1/42 [..............................] - ETA: 0s - loss: 0.3992 - accuracy: 0.8516\n",
            "Epoch 179: saving model to model/keypoint_classifier/keypoint_classifier.hdf5\n",
            "42/42 [==============================] - 0s 2ms/step - loss: 0.4229 - accuracy: 0.8408 - val_loss: 0.1599 - val_accuracy: 0.9475\n",
            "Epoch 180/1000\n",
            " 1/42 [..............................] - ETA: 0s - loss: 0.3520 - accuracy: 0.8438\n",
            "Epoch 180: saving model to model/keypoint_classifier/keypoint_classifier.hdf5\n",
            "42/42 [==============================] - 0s 2ms/step - loss: 0.4173 - accuracy: 0.8425 - val_loss: 0.1543 - val_accuracy: 0.9509\n",
            "Epoch 181/1000\n",
            " 1/42 [..............................] - ETA: 0s - loss: 0.5336 - accuracy: 0.8281\n",
            "Epoch 181: saving model to model/keypoint_classifier/keypoint_classifier.hdf5\n",
            "42/42 [==============================] - 0s 2ms/step - loss: 0.4268 - accuracy: 0.8417 - val_loss: 0.1461 - val_accuracy: 0.9578\n",
            "Epoch 182/1000\n",
            " 1/42 [..............................] - ETA: 0s - loss: 0.3820 - accuracy: 0.8438\n",
            "Epoch 182: saving model to model/keypoint_classifier/keypoint_classifier.hdf5\n",
            "42/42 [==============================] - 0s 2ms/step - loss: 0.4286 - accuracy: 0.8438 - val_loss: 0.1529 - val_accuracy: 0.9532\n",
            "Epoch 183/1000\n",
            " 1/42 [..............................] - ETA: 0s - loss: 0.4507 - accuracy: 0.8047\n",
            "Epoch 183: saving model to model/keypoint_classifier/keypoint_classifier.hdf5\n",
            "42/42 [==============================] - 0s 2ms/step - loss: 0.4131 - accuracy: 0.8372 - val_loss: 0.1491 - val_accuracy: 0.9555\n",
            "Epoch 184/1000\n",
            " 1/42 [..............................] - ETA: 0s - loss: 0.4000 - accuracy: 0.8359\n",
            "Epoch 184: saving model to model/keypoint_classifier/keypoint_classifier.hdf5\n",
            "42/42 [==============================] - 0s 2ms/step - loss: 0.4232 - accuracy: 0.8377 - val_loss: 0.1543 - val_accuracy: 0.9555\n",
            "Epoch 185/1000\n",
            "34/42 [=======================>......] - ETA: 0s - loss: 0.4198 - accuracy: 0.8371\n",
            "Epoch 185: saving model to model/keypoint_classifier/keypoint_classifier.hdf5\n",
            "42/42 [==============================] - 0s 3ms/step - loss: 0.4216 - accuracy: 0.8385 - val_loss: 0.1504 - val_accuracy: 0.9566\n",
            "Epoch 186/1000\n",
            "34/42 [=======================>......] - ETA: 0s - loss: 0.4219 - accuracy: 0.8415\n",
            "Epoch 186: saving model to model/keypoint_classifier/keypoint_classifier.hdf5\n",
            "42/42 [==============================] - 0s 3ms/step - loss: 0.4215 - accuracy: 0.8444 - val_loss: 0.1473 - val_accuracy: 0.9578\n",
            "Epoch 187/1000\n",
            "39/42 [==========================>...] - ETA: 0s - loss: 0.4152 - accuracy: 0.8427\n",
            "Epoch 187: saving model to model/keypoint_classifier/keypoint_classifier.hdf5\n",
            "42/42 [==============================] - 0s 2ms/step - loss: 0.4132 - accuracy: 0.8438 - val_loss: 0.1472 - val_accuracy: 0.9538\n",
            "Epoch 188/1000\n",
            "42/42 [==============================] - ETA: 0s - loss: 0.4244 - accuracy: 0.8356\n",
            "Epoch 188: saving model to model/keypoint_classifier/keypoint_classifier.hdf5\n",
            "42/42 [==============================] - 0s 2ms/step - loss: 0.4244 - accuracy: 0.8356 - val_loss: 0.1505 - val_accuracy: 0.9532\n",
            "Epoch 189/1000\n",
            "24/42 [================>.............] - ETA: 0s - loss: 0.4251 - accuracy: 0.8337\n",
            "Epoch 189: saving model to model/keypoint_classifier/keypoint_classifier.hdf5\n",
            "42/42 [==============================] - 0s 3ms/step - loss: 0.4271 - accuracy: 0.8343 - val_loss: 0.1452 - val_accuracy: 0.9589\n",
            "Epoch 190/1000\n",
            " 1/42 [..............................] - ETA: 0s - loss: 0.5393 - accuracy: 0.7891\n",
            "Epoch 190: saving model to model/keypoint_classifier/keypoint_classifier.hdf5\n",
            "42/42 [==============================] - 0s 2ms/step - loss: 0.4121 - accuracy: 0.8423 - val_loss: 0.1549 - val_accuracy: 0.9504\n",
            "Epoch 190: early stopping\n"
          ]
        },
        {
          "data": {
            "text/plain": [
              "<keras.src.callbacks.History at 0x7f2a9e50e170>"
            ]
          },
          "execution_count": 11,
          "metadata": {},
          "output_type": "execute_result"
        }
      ],
      "source": [
        "model.fit(\n",
        "    X_train,\n",
        "    y_train,\n",
        "    epochs=1000,\n",
        "    batch_size=128,\n",
        "    validation_data=(X_test, y_test),\n",
        "    callbacks=[cp_callback, es_callback]\n",
        ")"
      ]
    },
    {
      "cell_type": "code",
      "execution_count": 12,
      "metadata": {
        "colab": {
          "base_uri": "https://localhost:8080/"
        },
        "id": "pxvb2Y299hE3",
        "outputId": "59eb3185-2e37-4b9e-bc9d-ab1b8ac29b7f"
      },
      "outputs": [
        {
          "name": "stdout",
          "output_type": "stream",
          "text": [
            "14/14 [==============================] - 0s 2ms/step - loss: 0.1549 - accuracy: 0.9504\n"
          ]
        }
      ],
      "source": [
        "# Model evaluation\n",
        "val_loss, val_acc = model.evaluate(X_test, y_test, batch_size=128)"
      ]
    },
    {
      "cell_type": "code",
      "execution_count": 13,
      "metadata": {
        "id": "RBkmDeUW9hE4"
      },
      "outputs": [],
      "source": [
        "# Loading the saved model\n",
        "model = tf.keras.models.load_model(model_save_path)"
      ]
    },
    {
      "cell_type": "code",
      "execution_count": 14,
      "metadata": {
        "colab": {
          "base_uri": "https://localhost:8080/"
        },
        "id": "tFz9Tb0I9hE4",
        "outputId": "1c3b3528-54ae-4ee2-ab04-77429211cbef"
      },
      "outputs": [
        {
          "name": "stdout",
          "output_type": "stream",
          "text": [
            "1/1 [==============================] - 0s 66ms/step\n",
            "[1.4743837e-02 4.9097282e-03 1.8937462e-20 9.8034614e-01 5.9185606e-08\n",
            " 2.1904349e-07]\n",
            "3\n"
          ]
        }
      ],
      "source": [
        "# Inference test\n",
        "predict_result = model.predict(np.array([X_test[0]]))\n",
        "print(np.squeeze(predict_result))\n",
        "print(np.argmax(np.squeeze(predict_result)))"
      ]
    },
    {
      "cell_type": "markdown",
      "metadata": {
        "id": "S3U4yNWx9hE4"
      },
      "source": [
        "# Confusion matrix"
      ]
    },
    {
      "cell_type": "code",
      "execution_count": 15,
      "metadata": {
        "colab": {
          "base_uri": "https://localhost:8080/",
          "height": 582
        },
        "id": "AP1V6SCk9hE5",
        "outputId": "08e41a80-7a4a-4619-8125-ecc371368d19"
      },
      "outputs": [
        {
          "name": "stdout",
          "output_type": "stream",
          "text": [
            "55/55 [==============================] - 0s 863us/step\n"
          ]
        },
        {
          "data": {
            "image/png": "[encoded data removed]",
            "text/plain": [
              "<Figure size 700x600 with 1 Axes>"
            ]
          },
          "metadata": {},
          "output_type": "display_data"
        },
        {
          "name": "stdout",
          "output_type": "stream",
          "text": [
            "Classification Report\n",
            "              precision    recall  f1-score   support\n",
            "\n",
            "           0       0.98      0.99      0.98       410\n",
            "           1       0.98      0.80      0.88       384\n",
            "           2       0.98      1.00      0.99       201\n",
            "           3       0.95      1.00      0.97       332\n",
            "           4       0.89      0.98      0.94       251\n",
            "           5       0.89      0.99      0.94       175\n",
            "\n",
            "    accuracy                           0.95      1753\n",
            "   macro avg       0.95      0.96      0.95      1753\n",
            "weighted avg       0.95      0.95      0.95      1753\n",
            "\n"
          ]
        }
      ],
      "source": [
        "import pandas as pd\n",
        "# import seaborn as sns\n",
        "import matplotlib.pyplot as plt\n",
        "from sklearn.metrics import confusion_matrix, classification_report\n",
        "\n",
        "def print_confusion_matrix(y_true, y_pred, report=True):\n",
        "    labels = sorted(list(set(y_true)))\n",
        "    cmx_data = confusion_matrix(y_true, y_pred, labels=labels)\n",
        "    \n",
        "    df_cmx = pd.DataFrame(cmx_data, index=labels, columns=labels)\n",
        " \n",
        "    fig, ax = plt.subplots(figsize=(7, 6))\n",
        "    # sns.heatmap(df_cmx, annot=True, fmt='g' ,square=False)\n",
        "    ax.set_ylim(len(set(y_true)), 0)\n",
        "    plt.show()\n",
        "    \n",
        "    if report:\n",
        "        print('Classification Report')\n",
        "        print(classification_report(y_test, y_pred))\n",
        "\n",
        "Y_pred = model.predict(X_test)\n",
        "y_pred = np.argmax(Y_pred, axis=1)\n",
        "\n",
        "print_confusion_matrix(y_test, y_pred)"
      ]
    },
    {
      "cell_type": "markdown",
      "metadata": {
        "id": "FNP6aqzc9hE5"
      },
      "source": [
        "# Convert to model for Tensorflow-Lite"
      ]
    },
    {
      "cell_type": "code",
      "execution_count": 16,
      "metadata": {
        "id": "ODjnYyld9hE6"
      },
      "outputs": [
        {
          "name": "stderr",
          "output_type": "stream",
          "text": [
            "/home/xetho/.local/lib/python3.10/site-packages/keras/src/engine/training.py:3079: UserWarning: You are saving your model as an HDF5 file via `model.save()`. This file format is considered legacy. We recommend using instead the native Keras format, e.g. `model.save('my_model.keras')`.\n",
            "  saving_api.save_model(\n"
          ]
        }
      ],
      "source": [
        "# Save as a model dedicated to inference\n",
        "model.save(model_save_path, include_optimizer=False)"
      ]
    },
    {
      "cell_type": "code",
      "execution_count": 17,
      "metadata": {
        "colab": {
          "base_uri": "https://localhost:8080/"
        },
        "id": "zRfuK8Y59hE6",
        "outputId": "a4ca585c-b5d5-4244-8291-8674063209bb"
      },
      "outputs": [
        {
          "name": "stdout",
          "output_type": "stream",
          "text": [
            "INFO:tensorflow:Assets written to: /tmp/tmpzqfyuf2w/assets\n"
          ]
        },
        {
          "name": "stderr",
          "output_type": "stream",
          "text": [
            "INFO:tensorflow:Assets written to: /tmp/tmpzqfyuf2w/assets\n",
            "2023-11-14 19:57:00.870250: W tensorflow/compiler/mlir/lite/python/tf_tfl_flatbuffer_helpers.cc:378] Ignored output_format.\n",
            "2023-11-14 19:57:00.870282: W tensorflow/compiler/mlir/lite/python/tf_tfl_flatbuffer_helpers.cc:381] Ignored drop_control_dependency.\n",
            "2023-11-14 19:57:00.876650: I tensorflow/cc/saved_model/reader.cc:83] Reading SavedModel from: /tmp/tmpzqfyuf2w\n",
            "2023-11-14 19:57:00.878280: I tensorflow/cc/saved_model/reader.cc:51] Reading meta graph with tags { serve }\n",
            "2023-11-14 19:57:00.878299: I tensorflow/cc/saved_model/reader.cc:146] Reading SavedModel debug info (if present) from: /tmp/tmpzqfyuf2w\n",
            "2023-11-14 19:57:00.881203: I tensorflow/compiler/mlir/mlir_graph_optimization_pass.cc:382] MLIR V1 optimization pass is not enabled\n",
            "2023-11-14 19:57:00.882133: I tensorflow/cc/saved_model/loader.cc:233] Restoring SavedModel bundle.\n",
            "2023-11-14 19:57:00.924108: I tensorflow/cc/saved_model/loader.cc:217] Running initialization op on SavedModel bundle at path: /tmp/tmpzqfyuf2w\n",
            "2023-11-14 19:57:00.935012: I tensorflow/cc/saved_model/loader.cc:316] SavedModel load for tags { serve }; Status: success: OK. Took 58368 microseconds.\n",
            "2023-11-14 19:57:01.233790: I tensorflow/compiler/mlir/tensorflow/utils/dump_mlir_util.cc:269] disabling MLIR crash reproducer, set env var `MLIR_CRASH_REPRODUCER_DIRECTORY` to enable.\n"
          ]
        },
        {
          "data": {
            "text/plain": [
              "6632"
            ]
          },
          "execution_count": 17,
          "metadata": {},
          "output_type": "execute_result"
        }
      ],
      "source": [
        "# Transform model (quantization)\n",
        "\n",
        "converter = tf.lite.TFLiteConverter.from_keras_model(model)\n",
        "converter.optimizations = [tf.lite.Optimize.DEFAULT]\n",
        "tflite_quantized_model = converter.convert()\n",
        "\n",
        "open(tflite_save_path, 'wb').write(tflite_quantized_model)"
      ]
    },
    {
      "cell_type": "markdown",
      "metadata": {
        "id": "CHBPBXdx9hE6"
      },
      "source": [
        "# Inference test"
      ]
    },
    {
      "cell_type": "code",
      "execution_count": 18,
      "metadata": {
        "id": "mGAzLocO9hE7"
      },
      "outputs": [
        {
          "name": "stderr",
          "output_type": "stream",
          "text": [
            "INFO: Created TensorFlow Lite XNNPACK delegate for CPU.\n"
          ]
        }
      ],
      "source": [
        "interpreter = tf.lite.Interpreter(model_path=tflite_save_path)\n",
        "interpreter.allocate_tensors()"
      ]
    },
    {
      "cell_type": "code",
      "execution_count": 19,
      "metadata": {
        "id": "oQuDK8YS9hE7"
      },
      "outputs": [],
      "source": [
        "# Get I / O tensor\n",
        "input_details = interpreter.get_input_details()\n",
        "output_details = interpreter.get_output_details()"
      ]
    },
    {
      "cell_type": "code",
      "execution_count": 20,
      "metadata": {
        "id": "2_ixAf_l9hE7"
      },
      "outputs": [],
      "source": [
        "interpreter.set_tensor(input_details[0]['index'], np.array([X_test[0]]))"
      ]
    },
    {
      "cell_type": "code",
      "execution_count": 21,
      "metadata": {
        "colab": {
          "base_uri": "https://localhost:8080/"
        },
        "id": "s4FoAnuc9hE7",
        "outputId": "91f18257-8d8b-4ef3-c558-e9b5f94fabbf",
        "scrolled": true
      },
      "outputs": [
        {
          "name": "stdout",
          "output_type": "stream",
          "text": [
            "CPU times: user 176 µs, sys: 13 µs, total: 189 µs\n",
            "Wall time: 343 µs\n"
          ]
        }
      ],
      "source": [
        "%%time\n",
        "# Inference implementation\n",
        "interpreter.invoke()\n",
        "tflite_results = interpreter.get_tensor(output_details[0]['index'])"
      ]
    },
    {
      "cell_type": "code",
      "execution_count": 22,
      "metadata": {
        "colab": {
          "base_uri": "https://localhost:8080/"
        },
        "id": "vONjp19J9hE8",
        "outputId": "77205e24-fd00-42c4-f7b6-e06e527c2cba"
      },
      "outputs": [
        {
          "name": "stdout",
          "output_type": "stream",
          "text": [
            "[1.4743816e-02 4.9097217e-03 1.8937534e-20 9.8034620e-01 5.9185499e-08\n",
            " 2.1904286e-07]\n",
            "3\n"
          ]
        }
      ],
      "source": [
        "print(np.squeeze(tflite_results))\n",
        "print(np.argmax(np.squeeze(tflite_results)))"
      ]
    }
  ],
  "metadata": {
    "accelerator": "GPU",
    "colab": {
      "collapsed_sections": [],
      "name": "keypoint_classification_EN.ipynb",
      "provenance": [],
      "toc_visible": true
    },
    "kernelspec": {
      "display_name": "Python 3",
      "language": "python",
      "name": "python3"
    },
    "language_info": {
      "codemirror_mode": {
        "name": "ipython",
        "version": 3
      },
      "file_extension": ".py",
      "mimetype": "text/x-python",
      "name": "python",
      "nbconvert_exporter": "python",
      "pygments_lexer": "ipython3",
      "version": "3.10.12"
    }
  },
  "nbformat": 4,
  "nbformat_minor": 0
}
