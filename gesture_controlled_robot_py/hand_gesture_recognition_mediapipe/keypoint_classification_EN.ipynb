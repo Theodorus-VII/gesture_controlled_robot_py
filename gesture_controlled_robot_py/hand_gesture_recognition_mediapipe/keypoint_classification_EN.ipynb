{
  "cells": [
    {
      "cell_type": "code",
      "execution_count": 1,
      "metadata": {
        "id": "igMyGnjE9hEp"
      },
      "outputs": [
        {
          "name": "stderr",
          "output_type": "stream",
          "text": [
            "2023-11-14 20:49:02.130698: I tensorflow/tsl/cuda/cudart_stub.cc:28] Could not find cuda drivers on your machine, GPU will not be used.\n",
            "2023-11-14 20:49:02.191931: E tensorflow/compiler/xla/stream_executor/cuda/cuda_dnn.cc:9342] Unable to register cuDNN factory: Attempting to register factory for plugin cuDNN when one has already been registered\n",
            "2023-11-14 20:49:02.191974: E tensorflow/compiler/xla/stream_executor/cuda/cuda_fft.cc:609] Unable to register cuFFT factory: Attempting to register factory for plugin cuFFT when one has already been registered\n",
            "2023-11-14 20:49:02.192017: E tensorflow/compiler/xla/stream_executor/cuda/cuda_blas.cc:1518] Unable to register cuBLAS factory: Attempting to register factory for plugin cuBLAS when one has already been registered\n",
            "2023-11-14 20:49:02.201863: I tensorflow/tsl/cuda/cudart_stub.cc:28] Could not find cuda drivers on your machine, GPU will not be used.\n",
            "2023-11-14 20:49:02.202376: I tensorflow/core/platform/cpu_feature_guard.cc:182] This TensorFlow binary is optimized to use available CPU instructions in performance-critical operations.\n",
            "To enable the following instructions: AVX2 FMA, in other operations, rebuild TensorFlow with the appropriate compiler flags.\n",
            "2023-11-14 20:49:03.133324: W tensorflow/compiler/tf2tensorrt/utils/py_utils.cc:38] TF-TRT Warning: Could not find TensorRT\n",
            "/usr/lib/python3/dist-packages/scipy/__init__.py:146: UserWarning: A NumPy version >=1.17.3 and <1.25.0 is required for this version of SciPy (detected version 1.26.2\n",
            "  warnings.warn(f\"A NumPy version >={np_minversion} and <{np_maxversion}\"\n"
          ]
        }
      ],
      "source": [
        "import csv\n",
        "\n",
        "import numpy as np\n",
        "import tensorflow as tf\n",
        "from sklearn.model_selection import train_test_split\n",
        "\n",
        "RANDOM_SEED = 42"
      ]
    },
    {
      "cell_type": "markdown",
      "metadata": {
        "id": "t2HDvhIu9hEr"
      },
      "source": [
        "# Specify each path"
      ]
    },
    {
      "cell_type": "code",
      "execution_count": 2,
      "metadata": {
        "id": "9NvZP2Zn9hEy"
      },
      "outputs": [],
      "source": [
        "dataset = 'model/keypoint_classifier/keypoint.csv'\n",
        "model_save_path = 'model/keypoint_classifier/keypoint_classifier.hdf5'\n",
        "tflite_save_path = 'model/keypoint_classifier/keypoint_classifier.tflite'"
      ]
    },
    {
      "cell_type": "markdown",
      "metadata": {
        "id": "s5oMH7x19hEz"
      },
      "source": [
        "# Set number of classes"
      ]
    },
    {
      "cell_type": "code",
      "execution_count": 3,
      "metadata": {
        "id": "du4kodXL9hEz"
      },
      "outputs": [],
      "source": [
        "NUM_CLASSES = 6"
      ]
    },
    {
      "cell_type": "markdown",
      "metadata": {
        "id": "XjnL0uso9hEz"
      },
      "source": [
        "# Dataset reading"
      ]
    },
    {
      "cell_type": "code",
      "execution_count": 4,
      "metadata": {
        "id": "QT5ZqtEz9hE0"
      },
      "outputs": [],
      "source": [
        "X_dataset = np.loadtxt(dataset, delimiter=',', dtype='float32', usecols=list(range(1, (21 * 2) + 1)))"
      ]
    },
    {
      "cell_type": "code",
      "execution_count": 5,
      "metadata": {
        "id": "QmoKFsp49hE0"
      },
      "outputs": [],
      "source": [
        "y_dataset = np.loadtxt(dataset, delimiter=',', dtype='int32', usecols=(0))"
      ]
    },
    {
      "cell_type": "code",
      "execution_count": 6,
      "metadata": {
        "id": "xQU7JTZ_9hE0"
      },
      "outputs": [],
      "source": [
        "X_train, X_test, y_train, y_test = train_test_split(X_dataset, y_dataset, train_size=0.75, random_state=RANDOM_SEED)"
      ]
    },
    {
      "cell_type": "markdown",
      "metadata": {
        "id": "mxK_lETT9hE0"
      },
      "source": [
        "# Model building"
      ]
    },
    {
      "cell_type": "code",
      "execution_count": 7,
      "metadata": {
        "id": "vHBmUf1t9hE1"
      },
      "outputs": [
        {
          "name": "stderr",
          "output_type": "stream",
          "text": [
            "2023-11-14 20:49:07.552991: I tensorflow/compiler/xla/stream_executor/cuda/cuda_gpu_executor.cc:894] successful NUMA node read from SysFS had negative value (-1), but there must be at least one NUMA node, so returning NUMA node zero. See more at https://github.com/torvalds/linux/blob/v6.0/Documentation/ABI/testing/sysfs-bus-pci#L344-L355\n",
            "2023-11-14 20:49:07.554015: W tensorflow/core/common_runtime/gpu/gpu_device.cc:2211] Cannot dlopen some GPU libraries. Please make sure the missing libraries mentioned above are installed properly if you would like to use GPU. Follow the guide at https://www.tensorflow.org/install/gpu for how to download and setup the required libraries for your platform.\n",
            "Skipping registering GPU devices...\n"
          ]
        }
      ],
      "source": [
        "model = tf.keras.models.Sequential([\n",
        "    tf.keras.layers.Input((21 * 2, )),\n",
        "    tf.keras.layers.Dropout(0.2),\n",
        "    tf.keras.layers.Dense(20, activation='relu'),\n",
        "    tf.keras.layers.Dropout(0.4),\n",
        "    tf.keras.layers.Dense(10, activation='relu'),\n",
        "    tf.keras.layers.Dense(NUM_CLASSES, activation='softmax')\n",
        "])"
      ]
    },
    {
      "cell_type": "code",
      "execution_count": 8,
      "metadata": {
        "colab": {
          "base_uri": "https://localhost:8080/"
        },
        "id": "ypqky9tc9hE1",
        "outputId": "5db082bb-30e3-4110-bf63-a1ee777ecd46"
      },
      "outputs": [
        {
          "name": "stdout",
          "output_type": "stream",
          "text": [
            "Model: \"sequential\"\n",
            "_________________________________________________________________\n",
            " Layer (type)                Output Shape              Param #   \n",
            "=================================================================\n",
            " dropout (Dropout)           (None, 42)                0         \n",
            "                                                                 \n",
            " dense (Dense)               (None, 20)                860       \n",
            "                                                                 \n",
            " dropout_1 (Dropout)         (None, 20)                0         \n",
            "                                                                 \n",
            " dense_1 (Dense)             (None, 10)                210       \n",
            "                                                                 \n",
            " dense_2 (Dense)             (None, 6)                 66        \n",
            "                                                                 \n",
            "=================================================================\n",
            "Total params: 1136 (4.44 KB)\n",
            "Trainable params: 1136 (4.44 KB)\n",
            "Non-trainable params: 0 (0.00 Byte)\n",
            "_________________________________________________________________\n"
          ]
        }
      ],
      "source": [
        "model.summary()  # tf.keras.utils.plot_model(model, show_shapes=True)"
      ]
    },
    {
      "cell_type": "code",
      "execution_count": 9,
      "metadata": {
        "id": "MbMjOflQ9hE1"
      },
      "outputs": [],
      "source": [
        "# Model checkpoint callback\n",
        "cp_callback = tf.keras.callbacks.ModelCheckpoint(\n",
        "    model_save_path, verbose=1, save_weights_only=False)\n",
        "# Callback for early stopping\n",
        "es_callback = tf.keras.callbacks.EarlyStopping(patience=20, verbose=1)"
      ]
    },
    {
      "cell_type": "code",
      "execution_count": 10,
      "metadata": {
        "id": "c3Dac0M_9hE2"
      },
      "outputs": [],
      "source": [
        "# Model compilation\n",
        "model.compile(\n",
        "    optimizer='adam',\n",
        "    loss='sparse_categorical_crossentropy',\n",
        "    metrics=['accuracy']\n",
        ")"
      ]
    },
    {
      "cell_type": "markdown",
      "metadata": {
        "id": "7XI0j1Iu9hE2"
      },
      "source": [
        "# Model training"
      ]
    },
    {
      "cell_type": "code",
      "execution_count": 11,
      "metadata": {
        "colab": {
          "base_uri": "https://localhost:8080/"
        },
        "id": "WirBl-JE9hE3",
        "outputId": "71b30ca2-8294-4d9d-8aa2-800d90d399de",
        "scrolled": true
      },
      "outputs": [
        {
          "name": "stdout",
          "output_type": "stream",
          "text": [
            "Epoch 1/1000\n",
            "40/42 [===========================>..] - ETA: 0s - loss: 1.7144 - accuracy: 0.2438 \n",
            "Epoch 1: saving model to model/keypoint_classifier/keypoint_classifier.hdf5\n",
            "42/42 [==============================] - 1s 5ms/step - loss: 1.7121 - accuracy: 0.2460 - val_loss: 1.5817 - val_accuracy: 0.4067\n",
            "Epoch 2/1000\n",
            " 1/42 [..............................] - ETA: 0s - loss: 1.6767 - accuracy: 0.2266\n",
            "Epoch 2: saving model to model/keypoint_classifier/keypoint_classifier.hdf5\n",
            "42/42 [==============================] - 0s 2ms/step - loss: 1.5453 - accuracy: 0.3671 - val_loss: 1.3725 - val_accuracy: 0.5180\n",
            "Epoch 3/1000\n",
            " 1/42 [..............................] - ETA: 0s - loss: 1.3682 - accuracy: 0.4375\n",
            "Epoch 3: saving model to model/keypoint_classifier/keypoint_classifier.hdf5\n",
            "42/42 [==============================] - 0s 2ms/step - loss: 1.3742 - accuracy: 0.4465 - val_loss: 1.1858 - val_accuracy: 0.5379\n",
            "Epoch 4/1000\n",
            " 1/42 [..............................] - ETA: 0s - loss: 1.3506 - accuracy: 0.4531"
          ]
        },
        {
          "name": "stderr",
          "output_type": "stream",
          "text": [
            "/home/xetho/.local/lib/python3.10/site-packages/keras/src/engine/training.py:3079: UserWarning: You are saving your model as an HDF5 file via `model.save()`. This file format is considered legacy. We recommend using instead the native Keras format, e.g. `model.save('my_model.keras')`.\n",
            "  saving_api.save_model(\n"
          ]
        },
        {
          "name": "stdout",
          "output_type": "stream",
          "text": [
            "\n",
            "Epoch 4: saving model to model/keypoint_classifier/keypoint_classifier.hdf5\n",
            "42/42 [==============================] - 0s 2ms/step - loss: 1.2390 - accuracy: 0.4917 - val_loss: 1.0326 - val_accuracy: 0.5773\n",
            "Epoch 5/1000\n",
            " 1/42 [..............................] - ETA: 0s - loss: 1.1078 - accuracy: 0.5859\n",
            "Epoch 5: saving model to model/keypoint_classifier/keypoint_classifier.hdf5\n",
            "42/42 [==============================] - 0s 2ms/step - loss: 1.1330 - accuracy: 0.5180 - val_loss: 0.9328 - val_accuracy: 0.6092\n",
            "Epoch 6/1000\n",
            " 1/42 [..............................] - ETA: 0s - loss: 1.1393 - accuracy: 0.5000\n",
            "Epoch 6: saving model to model/keypoint_classifier/keypoint_classifier.hdf5\n",
            "42/42 [==============================] - 0s 2ms/step - loss: 1.0751 - accuracy: 0.5437 - val_loss: 0.8589 - val_accuracy: 0.6857\n",
            "Epoch 7/1000\n",
            " 1/42 [..............................] - ETA: 0s - loss: 1.0685 - accuracy: 0.4453\n",
            "Epoch 7: saving model to model/keypoint_classifier/keypoint_classifier.hdf5\n",
            "42/42 [==============================] - 0s 2ms/step - loss: 1.0077 - accuracy: 0.5756 - val_loss: 0.7923 - val_accuracy: 0.7125\n",
            "Epoch 8/1000\n",
            " 1/42 [..............................] - ETA: 0s - loss: 0.9347 - accuracy: 0.6094\n",
            "Epoch 8: saving model to model/keypoint_classifier/keypoint_classifier.hdf5\n",
            "42/42 [==============================] - 0s 2ms/step - loss: 0.9670 - accuracy: 0.5948 - val_loss: 0.7357 - val_accuracy: 0.8289\n",
            "Epoch 9/1000\n",
            " 1/42 [..............................] - ETA: 0s - loss: 0.8667 - accuracy: 0.6172\n",
            "Epoch 9: saving model to model/keypoint_classifier/keypoint_classifier.hdf5\n",
            "42/42 [==============================] - 0s 2ms/step - loss: 0.9054 - accuracy: 0.6216 - val_loss: 0.6856 - val_accuracy: 0.8380\n",
            "Epoch 10/1000\n",
            " 1/42 [..............................] - ETA: 0s - loss: 0.8077 - accuracy: 0.6953\n",
            "Epoch 10: saving model to model/keypoint_classifier/keypoint_classifier.hdf5\n",
            "42/42 [==============================] - 0s 2ms/step - loss: 0.8893 - accuracy: 0.6384 - val_loss: 0.6403 - val_accuracy: 0.8391\n",
            "Epoch 11/1000\n",
            " 1/42 [..............................] - ETA: 0s - loss: 0.7389 - accuracy: 0.6719\n",
            "Epoch 11: saving model to model/keypoint_classifier/keypoint_classifier.hdf5\n",
            "42/42 [==============================] - 0s 2ms/step - loss: 0.8497 - accuracy: 0.6519 - val_loss: 0.6040 - val_accuracy: 0.8443\n",
            "Epoch 12/1000\n",
            " 1/42 [..............................] - ETA: 0s - loss: 0.8719 - accuracy: 0.6328\n",
            "Epoch 12: saving model to model/keypoint_classifier/keypoint_classifier.hdf5\n",
            "42/42 [==============================] - 0s 2ms/step - loss: 0.8213 - accuracy: 0.6719 - val_loss: 0.5726 - val_accuracy: 0.8437\n",
            "Epoch 13/1000\n",
            " 1/42 [..............................] - ETA: 0s - loss: 0.9770 - accuracy: 0.6484\n",
            "Epoch 13: saving model to model/keypoint_classifier/keypoint_classifier.hdf5\n",
            "42/42 [==============================] - 0s 2ms/step - loss: 0.8144 - accuracy: 0.6778 - val_loss: 0.5449 - val_accuracy: 0.8591\n",
            "Epoch 14/1000\n",
            " 1/42 [..............................] - ETA: 0s - loss: 0.7738 - accuracy: 0.6953\n",
            "Epoch 14: saving model to model/keypoint_classifier/keypoint_classifier.hdf5\n",
            "42/42 [==============================] - 0s 2ms/step - loss: 0.7796 - accuracy: 0.6930 - val_loss: 0.5148 - val_accuracy: 0.8597\n",
            "Epoch 15/1000\n",
            " 1/42 [..............................] - ETA: 0s - loss: 0.6212 - accuracy: 0.7812\n",
            "Epoch 15: saving model to model/keypoint_classifier/keypoint_classifier.hdf5\n",
            "42/42 [==============================] - 0s 2ms/step - loss: 0.7536 - accuracy: 0.7057 - val_loss: 0.4846 - val_accuracy: 0.8739\n",
            "Epoch 16/1000\n",
            " 1/42 [..............................] - ETA: 0s - loss: 0.7810 - accuracy: 0.6875\n",
            "Epoch 16: saving model to model/keypoint_classifier/keypoint_classifier.hdf5\n",
            "42/42 [==============================] - 0s 2ms/step - loss: 0.7475 - accuracy: 0.7021 - val_loss: 0.4646 - val_accuracy: 0.8819\n",
            "Epoch 17/1000\n",
            " 1/42 [..............................] - ETA: 0s - loss: 0.6518 - accuracy: 0.7109\n",
            "Epoch 17: saving model to model/keypoint_classifier/keypoint_classifier.hdf5\n",
            "42/42 [==============================] - 0s 2ms/step - loss: 0.7212 - accuracy: 0.7147 - val_loss: 0.4463 - val_accuracy: 0.8836\n",
            "Epoch 18/1000\n",
            " 1/42 [..............................] - ETA: 0s - loss: 0.7421 - accuracy: 0.7344\n",
            "Epoch 18: saving model to model/keypoint_classifier/keypoint_classifier.hdf5\n",
            "42/42 [==============================] - 0s 2ms/step - loss: 0.7278 - accuracy: 0.7114 - val_loss: 0.4257 - val_accuracy: 0.8922\n",
            "Epoch 19/1000\n",
            " 1/42 [..............................] - ETA: 0s - loss: 0.6846 - accuracy: 0.7266\n",
            "Epoch 19: saving model to model/keypoint_classifier/keypoint_classifier.hdf5\n",
            "42/42 [==============================] - 0s 2ms/step - loss: 0.7023 - accuracy: 0.7238 - val_loss: 0.4164 - val_accuracy: 0.9019\n",
            "Epoch 20/1000\n",
            " 1/42 [..............................] - ETA: 0s - loss: 0.7157 - accuracy: 0.7422\n",
            "Epoch 20: saving model to model/keypoint_classifier/keypoint_classifier.hdf5\n",
            "42/42 [==============================] - 0s 2ms/step - loss: 0.7063 - accuracy: 0.7238 - val_loss: 0.4044 - val_accuracy: 0.9104\n",
            "Epoch 21/1000\n",
            " 1/42 [..............................] - ETA: 0s - loss: 0.7517 - accuracy: 0.6797\n",
            "Epoch 21: saving model to model/keypoint_classifier/keypoint_classifier.hdf5\n",
            "42/42 [==============================] - 0s 2ms/step - loss: 0.6881 - accuracy: 0.7303 - val_loss: 0.3900 - val_accuracy: 0.9087\n",
            "Epoch 22/1000\n",
            " 1/42 [..............................] - ETA: 0s - loss: 0.7169 - accuracy: 0.7188\n",
            "Epoch 22: saving model to model/keypoint_classifier/keypoint_classifier.hdf5\n",
            "42/42 [==============================] - 0s 2ms/step - loss: 0.6581 - accuracy: 0.7472 - val_loss: 0.3695 - val_accuracy: 0.9127\n",
            "Epoch 23/1000\n",
            " 1/42 [..............................] - ETA: 0s - loss: 0.6774 - accuracy: 0.7500\n",
            "Epoch 23: saving model to model/keypoint_classifier/keypoint_classifier.hdf5\n",
            "42/42 [==============================] - 0s 2ms/step - loss: 0.6644 - accuracy: 0.7434 - val_loss: 0.3577 - val_accuracy: 0.9167\n",
            "Epoch 24/1000\n",
            "23/42 [===============>..............] - ETA: 0s - loss: 0.6530 - accuracy: 0.7500\n",
            "Epoch 24: saving model to model/keypoint_classifier/keypoint_classifier.hdf5\n",
            "42/42 [==============================] - 0s 3ms/step - loss: 0.6516 - accuracy: 0.7556 - val_loss: 0.3512 - val_accuracy: 0.9224\n",
            "Epoch 25/1000\n",
            " 1/42 [..............................] - ETA: 0s - loss: 0.6050 - accuracy: 0.7656\n",
            "Epoch 25: saving model to model/keypoint_classifier/keypoint_classifier.hdf5\n",
            "42/42 [==============================] - 0s 2ms/step - loss: 0.6426 - accuracy: 0.7499 - val_loss: 0.3447 - val_accuracy: 0.9190\n",
            "Epoch 26/1000\n",
            " 1/42 [..............................] - ETA: 0s - loss: 0.6667 - accuracy: 0.6953\n",
            "Epoch 26: saving model to model/keypoint_classifier/keypoint_classifier.hdf5\n",
            "42/42 [==============================] - 0s 2ms/step - loss: 0.6439 - accuracy: 0.7537 - val_loss: 0.3438 - val_accuracy: 0.9167\n",
            "Epoch 27/1000\n",
            " 1/42 [..............................] - ETA: 0s - loss: 0.6458 - accuracy: 0.7500\n",
            "Epoch 27: saving model to model/keypoint_classifier/keypoint_classifier.hdf5\n",
            "42/42 [==============================] - 0s 2ms/step - loss: 0.6171 - accuracy: 0.7695 - val_loss: 0.3277 - val_accuracy: 0.9218\n",
            "Epoch 28/1000\n",
            " 1/42 [..............................] - ETA: 0s - loss: 0.5850 - accuracy: 0.8125\n",
            "Epoch 28: saving model to model/keypoint_classifier/keypoint_classifier.hdf5\n",
            "42/42 [==============================] - 0s 2ms/step - loss: 0.6104 - accuracy: 0.7710 - val_loss: 0.3214 - val_accuracy: 0.9264\n",
            "Epoch 29/1000\n",
            " 1/42 [..............................] - ETA: 0s - loss: 0.6233 - accuracy: 0.7422\n",
            "Epoch 29: saving model to model/keypoint_classifier/keypoint_classifier.hdf5\n",
            "42/42 [==============================] - 0s 2ms/step - loss: 0.6046 - accuracy: 0.7723 - val_loss: 0.3171 - val_accuracy: 0.9173\n",
            "Epoch 30/1000\n",
            " 1/42 [..............................] - ETA: 0s - loss: 0.6970 - accuracy: 0.7266\n",
            "Epoch 30: saving model to model/keypoint_classifier/keypoint_classifier.hdf5\n",
            "42/42 [==============================] - 0s 2ms/step - loss: 0.6033 - accuracy: 0.7765 - val_loss: 0.3084 - val_accuracy: 0.9298\n",
            "Epoch 31/1000\n",
            " 1/42 [..............................] - ETA: 0s - loss: 0.6222 - accuracy: 0.7734\n",
            "Epoch 31: saving model to model/keypoint_classifier/keypoint_classifier.hdf5\n",
            "42/42 [==============================] - 0s 2ms/step - loss: 0.5828 - accuracy: 0.7772 - val_loss: 0.3015 - val_accuracy: 0.9264\n",
            "Epoch 32/1000\n",
            " 1/42 [..............................] - ETA: 0s - loss: 0.6443 - accuracy: 0.7500\n",
            "Epoch 32: saving model to model/keypoint_classifier/keypoint_classifier.hdf5\n",
            "42/42 [==============================] - 0s 2ms/step - loss: 0.5959 - accuracy: 0.7729 - val_loss: 0.2929 - val_accuracy: 0.9241\n",
            "Epoch 33/1000\n",
            " 1/42 [..............................] - ETA: 0s - loss: 0.5021 - accuracy: 0.8281\n",
            "Epoch 33: saving model to model/keypoint_classifier/keypoint_classifier.hdf5\n",
            "42/42 [==============================] - 0s 2ms/step - loss: 0.5860 - accuracy: 0.7774 - val_loss: 0.2917 - val_accuracy: 0.9350\n",
            "Epoch 34/1000\n",
            " 1/42 [..............................] - ETA: 0s - loss: 0.6239 - accuracy: 0.7578\n",
            "Epoch 34: saving model to model/keypoint_classifier/keypoint_classifier.hdf5\n",
            "42/42 [==============================] - 0s 2ms/step - loss: 0.5738 - accuracy: 0.7877 - val_loss: 0.2884 - val_accuracy: 0.9304\n",
            "Epoch 35/1000\n",
            " 1/42 [..............................] - ETA: 0s - loss: 0.5028 - accuracy: 0.8516\n",
            "Epoch 35: saving model to model/keypoint_classifier/keypoint_classifier.hdf5\n",
            "42/42 [==============================] - 0s 2ms/step - loss: 0.5655 - accuracy: 0.7911 - val_loss: 0.2770 - val_accuracy: 0.9298\n",
            "Epoch 36/1000\n",
            " 1/42 [..............................] - ETA: 0s - loss: 0.5251 - accuracy: 0.7969\n",
            "Epoch 36: saving model to model/keypoint_classifier/keypoint_classifier.hdf5\n",
            "42/42 [==============================] - 0s 2ms/step - loss: 0.5848 - accuracy: 0.7793 - val_loss: 0.2793 - val_accuracy: 0.9293\n",
            "Epoch 37/1000\n",
            " 1/42 [..............................] - ETA: 0s - loss: 0.4775 - accuracy: 0.8594\n",
            "Epoch 37: saving model to model/keypoint_classifier/keypoint_classifier.hdf5\n",
            "42/42 [==============================] - 0s 2ms/step - loss: 0.5872 - accuracy: 0.7755 - val_loss: 0.2758 - val_accuracy: 0.9338\n",
            "Epoch 38/1000\n",
            " 1/42 [..............................] - ETA: 0s - loss: 0.5632 - accuracy: 0.8047\n",
            "Epoch 38: saving model to model/keypoint_classifier/keypoint_classifier.hdf5\n",
            "42/42 [==============================] - 0s 2ms/step - loss: 0.5692 - accuracy: 0.7822 - val_loss: 0.2768 - val_accuracy: 0.9327\n",
            "Epoch 39/1000\n",
            " 1/42 [..............................] - ETA: 0s - loss: 0.5389 - accuracy: 0.7969\n",
            "Epoch 39: saving model to model/keypoint_classifier/keypoint_classifier.hdf5\n",
            "42/42 [==============================] - 0s 2ms/step - loss: 0.5612 - accuracy: 0.7961 - val_loss: 0.2746 - val_accuracy: 0.9310\n",
            "Epoch 40/1000\n",
            " 1/42 [..............................] - ETA: 0s - loss: 0.5839 - accuracy: 0.7734\n",
            "Epoch 40: saving model to model/keypoint_classifier/keypoint_classifier.hdf5\n",
            "42/42 [==============================] - 0s 2ms/step - loss: 0.5676 - accuracy: 0.7833 - val_loss: 0.2711 - val_accuracy: 0.9281\n",
            "Epoch 41/1000\n",
            " 1/42 [..............................] - ETA: 0s - loss: 0.4965 - accuracy: 0.8203\n",
            "Epoch 41: saving model to model/keypoint_classifier/keypoint_classifier.hdf5\n",
            "42/42 [==============================] - 0s 2ms/step - loss: 0.5507 - accuracy: 0.7928 - val_loss: 0.2655 - val_accuracy: 0.9315\n",
            "Epoch 42/1000\n",
            " 1/42 [..............................] - ETA: 0s - loss: 0.5303 - accuracy: 0.7734\n",
            "Epoch 42: saving model to model/keypoint_classifier/keypoint_classifier.hdf5\n",
            "42/42 [==============================] - 0s 2ms/step - loss: 0.5430 - accuracy: 0.7940 - val_loss: 0.2574 - val_accuracy: 0.9350\n",
            "Epoch 43/1000\n",
            " 1/42 [..............................] - ETA: 0s - loss: 0.4507 - accuracy: 0.8125\n",
            "Epoch 43: saving model to model/keypoint_classifier/keypoint_classifier.hdf5\n",
            "42/42 [==============================] - 0s 2ms/step - loss: 0.5323 - accuracy: 0.8003 - val_loss: 0.2481 - val_accuracy: 0.9373\n",
            "Epoch 44/1000\n",
            " 1/42 [..............................] - ETA: 0s - loss: 0.5918 - accuracy: 0.8047\n",
            "Epoch 44: saving model to model/keypoint_classifier/keypoint_classifier.hdf5\n",
            "42/42 [==============================] - 0s 2ms/step - loss: 0.5304 - accuracy: 0.8020 - val_loss: 0.2448 - val_accuracy: 0.9412\n",
            "Epoch 45/1000\n",
            " 1/42 [..............................] - ETA: 0s - loss: 0.5833 - accuracy: 0.7969\n",
            "Epoch 45: saving model to model/keypoint_classifier/keypoint_classifier.hdf5\n",
            "42/42 [==============================] - 0s 2ms/step - loss: 0.5689 - accuracy: 0.7871 - val_loss: 0.2493 - val_accuracy: 0.9344\n",
            "Epoch 46/1000\n",
            " 1/42 [..............................] - ETA: 0s - loss: 0.5510 - accuracy: 0.7734\n",
            "Epoch 46: saving model to model/keypoint_classifier/keypoint_classifier.hdf5\n",
            "42/42 [==============================] - 0s 2ms/step - loss: 0.5239 - accuracy: 0.7967 - val_loss: 0.2442 - val_accuracy: 0.9304\n",
            "Epoch 47/1000\n",
            " 1/42 [..............................] - ETA: 0s - loss: 0.4544 - accuracy: 0.7969\n",
            "Epoch 47: saving model to model/keypoint_classifier/keypoint_classifier.hdf5\n",
            "42/42 [==============================] - 0s 2ms/step - loss: 0.5465 - accuracy: 0.7927 - val_loss: 0.2504 - val_accuracy: 0.9293\n",
            "Epoch 48/1000\n",
            " 1/42 [..............................] - ETA: 0s - loss: 0.5503 - accuracy: 0.8203\n",
            "Epoch 48: saving model to model/keypoint_classifier/keypoint_classifier.hdf5\n",
            "42/42 [==============================] - 0s 2ms/step - loss: 0.5333 - accuracy: 0.7993 - val_loss: 0.2495 - val_accuracy: 0.9350\n",
            "Epoch 49/1000\n",
            " 1/42 [..............................] - ETA: 0s - loss: 0.4423 - accuracy: 0.8281\n",
            "Epoch 49: saving model to model/keypoint_classifier/keypoint_classifier.hdf5\n",
            "42/42 [==============================] - 0s 2ms/step - loss: 0.5285 - accuracy: 0.8088 - val_loss: 0.2459 - val_accuracy: 0.9333\n",
            "Epoch 50/1000\n",
            " 1/42 [..............................] - ETA: 0s - loss: 0.4588 - accuracy: 0.8281\n",
            "Epoch 50: saving model to model/keypoint_classifier/keypoint_classifier.hdf5\n",
            "42/42 [==============================] - 0s 2ms/step - loss: 0.5245 - accuracy: 0.8003 - val_loss: 0.2390 - val_accuracy: 0.9350\n",
            "Epoch 51/1000\n",
            " 1/42 [..............................] - ETA: 0s - loss: 0.5044 - accuracy: 0.8047\n",
            "Epoch 51: saving model to model/keypoint_classifier/keypoint_classifier.hdf5\n",
            "42/42 [==============================] - 0s 2ms/step - loss: 0.5174 - accuracy: 0.8022 - val_loss: 0.2367 - val_accuracy: 0.9350\n",
            "Epoch 52/1000\n",
            " 1/42 [..............................] - ETA: 0s - loss: 0.4697 - accuracy: 0.8203\n",
            "Epoch 52: saving model to model/keypoint_classifier/keypoint_classifier.hdf5\n",
            "42/42 [==============================] - 0s 2ms/step - loss: 0.5070 - accuracy: 0.8121 - val_loss: 0.2295 - val_accuracy: 0.9350\n",
            "Epoch 53/1000\n",
            " 1/42 [..............................] - ETA: 0s - loss: 0.3537 - accuracy: 0.8906\n",
            "Epoch 53: saving model to model/keypoint_classifier/keypoint_classifier.hdf5\n",
            "42/42 [==============================] - 0s 2ms/step - loss: 0.5262 - accuracy: 0.7978 - val_loss: 0.2389 - val_accuracy: 0.9333\n",
            "Epoch 54/1000\n",
            " 1/42 [..............................] - ETA: 0s - loss: 0.4818 - accuracy: 0.8047\n",
            "Epoch 54: saving model to model/keypoint_classifier/keypoint_classifier.hdf5\n",
            "42/42 [==============================] - 0s 2ms/step - loss: 0.5181 - accuracy: 0.8071 - val_loss: 0.2263 - val_accuracy: 0.9424\n",
            "Epoch 55/1000\n",
            " 1/42 [..............................] - ETA: 0s - loss: 0.4490 - accuracy: 0.8516\n",
            "Epoch 55: saving model to model/keypoint_classifier/keypoint_classifier.hdf5\n",
            "42/42 [==============================] - 0s 2ms/step - loss: 0.5185 - accuracy: 0.8056 - val_loss: 0.2353 - val_accuracy: 0.9276\n",
            "Epoch 56/1000\n",
            " 1/42 [..............................] - ETA: 0s - loss: 0.6307 - accuracy: 0.7188\n",
            "Epoch 56: saving model to model/keypoint_classifier/keypoint_classifier.hdf5\n",
            "42/42 [==============================] - 0s 2ms/step - loss: 0.5102 - accuracy: 0.8113 - val_loss: 0.2292 - val_accuracy: 0.9464\n",
            "Epoch 57/1000\n",
            " 1/42 [..............................] - ETA: 0s - loss: 0.5002 - accuracy: 0.7891\n",
            "Epoch 57: saving model to model/keypoint_classifier/keypoint_classifier.hdf5\n",
            "42/42 [==============================] - 0s 2ms/step - loss: 0.5013 - accuracy: 0.8126 - val_loss: 0.2237 - val_accuracy: 0.9458\n",
            "Epoch 58/1000\n",
            " 1/42 [..............................] - ETA: 0s - loss: 0.4760 - accuracy: 0.8438\n",
            "Epoch 58: saving model to model/keypoint_classifier/keypoint_classifier.hdf5\n",
            "42/42 [==============================] - 0s 2ms/step - loss: 0.4982 - accuracy: 0.8134 - val_loss: 0.2235 - val_accuracy: 0.9338\n",
            "Epoch 59/1000\n",
            " 1/42 [..............................] - ETA: 0s - loss: 0.4763 - accuracy: 0.8125\n",
            "Epoch 59: saving model to model/keypoint_classifier/keypoint_classifier.hdf5\n",
            "42/42 [==============================] - 0s 2ms/step - loss: 0.5019 - accuracy: 0.8157 - val_loss: 0.2210 - val_accuracy: 0.9418\n",
            "Epoch 60/1000\n",
            " 1/42 [..............................] - ETA: 0s - loss: 0.5356 - accuracy: 0.7891\n",
            "Epoch 60: saving model to model/keypoint_classifier/keypoint_classifier.hdf5\n",
            "42/42 [==============================] - 0s 2ms/step - loss: 0.4999 - accuracy: 0.8155 - val_loss: 0.2240 - val_accuracy: 0.9390\n",
            "Epoch 61/1000\n",
            " 1/42 [..............................] - ETA: 0s - loss: 0.4612 - accuracy: 0.8281\n",
            "Epoch 61: saving model to model/keypoint_classifier/keypoint_classifier.hdf5\n",
            "42/42 [==============================] - 0s 2ms/step - loss: 0.4992 - accuracy: 0.8134 - val_loss: 0.2220 - val_accuracy: 0.9412\n",
            "Epoch 62/1000\n",
            "34/42 [=======================>......] - ETA: 0s - loss: 0.4962 - accuracy: 0.8132\n",
            "Epoch 62: saving model to model/keypoint_classifier/keypoint_classifier.hdf5\n",
            "42/42 [==============================] - 0s 3ms/step - loss: 0.4934 - accuracy: 0.8147 - val_loss: 0.2183 - val_accuracy: 0.9412\n",
            "Epoch 63/1000\n",
            " 1/42 [..............................] - ETA: 0s - loss: 0.5024 - accuracy: 0.8125\n",
            "Epoch 63: saving model to model/keypoint_classifier/keypoint_classifier.hdf5\n",
            "42/42 [==============================] - 0s 2ms/step - loss: 0.5135 - accuracy: 0.8064 - val_loss: 0.2248 - val_accuracy: 0.9270\n",
            "Epoch 64/1000\n",
            " 1/42 [..............................] - ETA: 0s - loss: 0.5835 - accuracy: 0.8359\n",
            "Epoch 64: saving model to model/keypoint_classifier/keypoint_classifier.hdf5\n",
            "42/42 [==============================] - 0s 2ms/step - loss: 0.4929 - accuracy: 0.8121 - val_loss: 0.2191 - val_accuracy: 0.9435\n",
            "Epoch 65/1000\n",
            " 1/42 [..............................] - ETA: 0s - loss: 0.3887 - accuracy: 0.8750\n",
            "Epoch 65: saving model to model/keypoint_classifier/keypoint_classifier.hdf5\n",
            "42/42 [==============================] - 0s 2ms/step - loss: 0.4964 - accuracy: 0.8166 - val_loss: 0.2213 - val_accuracy: 0.9373\n",
            "Epoch 66/1000\n",
            " 1/42 [..............................] - ETA: 0s - loss: 0.5459 - accuracy: 0.7969\n",
            "Epoch 66: saving model to model/keypoint_classifier/keypoint_classifier.hdf5\n",
            "42/42 [==============================] - 0s 2ms/step - loss: 0.4838 - accuracy: 0.8204 - val_loss: 0.2188 - val_accuracy: 0.9367\n",
            "Epoch 67/1000\n",
            " 1/42 [..............................] - ETA: 0s - loss: 0.4465 - accuracy: 0.8359\n",
            "Epoch 67: saving model to model/keypoint_classifier/keypoint_classifier.hdf5\n",
            "42/42 [==============================] - 0s 2ms/step - loss: 0.4999 - accuracy: 0.8094 - val_loss: 0.2150 - val_accuracy: 0.9435\n",
            "Epoch 68/1000\n",
            " 1/42 [..............................] - ETA: 0s - loss: 0.4317 - accuracy: 0.8516\n",
            "Epoch 68: saving model to model/keypoint_classifier/keypoint_classifier.hdf5\n",
            "42/42 [==============================] - 0s 2ms/step - loss: 0.4820 - accuracy: 0.8172 - val_loss: 0.2094 - val_accuracy: 0.9430\n",
            "Epoch 69/1000\n",
            " 1/42 [..............................] - ETA: 0s - loss: 0.4973 - accuracy: 0.8047\n",
            "Epoch 69: saving model to model/keypoint_classifier/keypoint_classifier.hdf5\n",
            "42/42 [==============================] - 0s 2ms/step - loss: 0.5019 - accuracy: 0.8130 - val_loss: 0.2113 - val_accuracy: 0.9487\n",
            "Epoch 70/1000\n",
            " 1/42 [..............................] - ETA: 0s - loss: 0.5263 - accuracy: 0.8047\n",
            "Epoch 70: saving model to model/keypoint_classifier/keypoint_classifier.hdf5\n",
            "42/42 [==============================] - 0s 2ms/step - loss: 0.4833 - accuracy: 0.8250 - val_loss: 0.2041 - val_accuracy: 0.9487\n",
            "Epoch 71/1000\n",
            " 1/42 [..............................] - ETA: 0s - loss: 0.4472 - accuracy: 0.8203\n",
            "Epoch 71: saving model to model/keypoint_classifier/keypoint_classifier.hdf5\n",
            "42/42 [==============================] - 0s 2ms/step - loss: 0.4687 - accuracy: 0.8185 - val_loss: 0.2095 - val_accuracy: 0.9441\n",
            "Epoch 72/1000\n",
            " 1/42 [..............................] - ETA: 0s - loss: 0.4212 - accuracy: 0.8438\n",
            "Epoch 72: saving model to model/keypoint_classifier/keypoint_classifier.hdf5\n",
            "42/42 [==============================] - 0s 2ms/step - loss: 0.4746 - accuracy: 0.8277 - val_loss: 0.1997 - val_accuracy: 0.9435\n",
            "Epoch 73/1000\n",
            " 1/42 [..............................] - ETA: 0s - loss: 0.4344 - accuracy: 0.8281\n",
            "Epoch 73: saving model to model/keypoint_classifier/keypoint_classifier.hdf5\n",
            "42/42 [==============================] - 0s 2ms/step - loss: 0.5027 - accuracy: 0.8138 - val_loss: 0.2024 - val_accuracy: 0.9481\n",
            "Epoch 74/1000\n",
            " 1/42 [..............................] - ETA: 0s - loss: 0.5834 - accuracy: 0.7422\n",
            "Epoch 74: saving model to model/keypoint_classifier/keypoint_classifier.hdf5\n",
            "42/42 [==============================] - 0s 2ms/step - loss: 0.5037 - accuracy: 0.8142 - val_loss: 0.2018 - val_accuracy: 0.9521\n",
            "Epoch 75/1000\n",
            " 1/42 [..............................] - ETA: 0s - loss: 0.4864 - accuracy: 0.8281\n",
            "Epoch 75: saving model to model/keypoint_classifier/keypoint_classifier.hdf5\n",
            "42/42 [==============================] - 0s 2ms/step - loss: 0.4822 - accuracy: 0.8130 - val_loss: 0.1991 - val_accuracy: 0.9538\n",
            "Epoch 76/1000\n",
            " 1/42 [..............................] - ETA: 0s - loss: 0.5406 - accuracy: 0.8125\n",
            "Epoch 76: saving model to model/keypoint_classifier/keypoint_classifier.hdf5\n",
            "42/42 [==============================] - 0s 2ms/step - loss: 0.4842 - accuracy: 0.8159 - val_loss: 0.2047 - val_accuracy: 0.9475\n",
            "Epoch 77/1000\n",
            " 1/42 [..............................] - ETA: 0s - loss: 0.6563 - accuracy: 0.7109\n",
            "Epoch 77: saving model to model/keypoint_classifier/keypoint_classifier.hdf5\n",
            "42/42 [==============================] - 0s 2ms/step - loss: 0.4826 - accuracy: 0.8239 - val_loss: 0.1954 - val_accuracy: 0.9521\n",
            "Epoch 78/1000\n",
            " 1/42 [..............................] - ETA: 0s - loss: 0.5086 - accuracy: 0.8125\n",
            "Epoch 78: saving model to model/keypoint_classifier/keypoint_classifier.hdf5\n",
            "42/42 [==============================] - 0s 2ms/step - loss: 0.4739 - accuracy: 0.8248 - val_loss: 0.1932 - val_accuracy: 0.9521\n",
            "Epoch 79/1000\n",
            " 1/42 [..............................] - ETA: 0s - loss: 0.4640 - accuracy: 0.8203\n",
            "Epoch 79: saving model to model/keypoint_classifier/keypoint_classifier.hdf5\n",
            "42/42 [==============================] - 0s 2ms/step - loss: 0.4665 - accuracy: 0.8273 - val_loss: 0.1966 - val_accuracy: 0.9441\n",
            "Epoch 80/1000\n",
            " 1/42 [..............................] - ETA: 0s - loss: 0.5259 - accuracy: 0.7969\n",
            "Epoch 80: saving model to model/keypoint_classifier/keypoint_classifier.hdf5\n",
            "42/42 [==============================] - 0s 2ms/step - loss: 0.4669 - accuracy: 0.8311 - val_loss: 0.1947 - val_accuracy: 0.9447\n",
            "Epoch 81/1000\n",
            " 1/42 [..............................] - ETA: 0s - loss: 0.5033 - accuracy: 0.8281\n",
            "Epoch 81: saving model to model/keypoint_classifier/keypoint_classifier.hdf5\n",
            "42/42 [==============================] - 0s 2ms/step - loss: 0.4607 - accuracy: 0.8315 - val_loss: 0.1907 - val_accuracy: 0.9515\n",
            "Epoch 82/1000\n",
            " 1/42 [..............................] - ETA: 0s - loss: 0.5598 - accuracy: 0.7500\n",
            "Epoch 82: saving model to model/keypoint_classifier/keypoint_classifier.hdf5\n",
            "42/42 [==============================] - 0s 2ms/step - loss: 0.4694 - accuracy: 0.8225 - val_loss: 0.1974 - val_accuracy: 0.9418\n",
            "Epoch 83/1000\n",
            " 1/42 [..............................] - ETA: 0s - loss: 0.3951 - accuracy: 0.8516\n",
            "Epoch 83: saving model to model/keypoint_classifier/keypoint_classifier.hdf5\n",
            "42/42 [==============================] - 0s 2ms/step - loss: 0.4640 - accuracy: 0.8239 - val_loss: 0.1897 - val_accuracy: 0.9481\n",
            "Epoch 84/1000\n",
            " 1/42 [..............................] - ETA: 0s - loss: 0.4461 - accuracy: 0.8203\n",
            "Epoch 84: saving model to model/keypoint_classifier/keypoint_classifier.hdf5\n",
            "42/42 [==============================] - 0s 2ms/step - loss: 0.4767 - accuracy: 0.8242 - val_loss: 0.1969 - val_accuracy: 0.9452\n",
            "Epoch 85/1000\n",
            " 1/42 [..............................] - ETA: 0s - loss: 0.6325 - accuracy: 0.7656\n",
            "Epoch 85: saving model to model/keypoint_classifier/keypoint_classifier.hdf5\n",
            "42/42 [==============================] - 0s 2ms/step - loss: 0.4662 - accuracy: 0.8250 - val_loss: 0.1875 - val_accuracy: 0.9532\n",
            "Epoch 86/1000\n",
            " 1/42 [..............................] - ETA: 0s - loss: 0.3642 - accuracy: 0.8594\n",
            "Epoch 86: saving model to model/keypoint_classifier/keypoint_classifier.hdf5\n",
            "42/42 [==============================] - 0s 2ms/step - loss: 0.4625 - accuracy: 0.8242 - val_loss: 0.1875 - val_accuracy: 0.9515\n",
            "Epoch 87/1000\n",
            " 1/42 [..............................] - ETA: 0s - loss: 0.4657 - accuracy: 0.8359\n",
            "Epoch 87: saving model to model/keypoint_classifier/keypoint_classifier.hdf5\n",
            "42/42 [==============================] - 0s 2ms/step - loss: 0.4663 - accuracy: 0.8242 - val_loss: 0.1903 - val_accuracy: 0.9458\n",
            "Epoch 88/1000\n",
            " 1/42 [..............................] - ETA: 0s - loss: 0.5179 - accuracy: 0.8047\n",
            "Epoch 88: saving model to model/keypoint_classifier/keypoint_classifier.hdf5\n",
            "42/42 [==============================] - 0s 2ms/step - loss: 0.4640 - accuracy: 0.8271 - val_loss: 0.1876 - val_accuracy: 0.9424\n",
            "Epoch 89/1000\n",
            " 1/42 [..............................] - ETA: 0s - loss: 0.4017 - accuracy: 0.7969\n",
            "Epoch 89: saving model to model/keypoint_classifier/keypoint_classifier.hdf5\n",
            "42/42 [==============================] - 0s 2ms/step - loss: 0.4645 - accuracy: 0.8218 - val_loss: 0.1902 - val_accuracy: 0.9447\n",
            "Epoch 90/1000\n",
            " 1/42 [..............................] - ETA: 0s - loss: 0.5196 - accuracy: 0.7891\n",
            "Epoch 90: saving model to model/keypoint_classifier/keypoint_classifier.hdf5\n",
            "42/42 [==============================] - 0s 2ms/step - loss: 0.4533 - accuracy: 0.8280 - val_loss: 0.1846 - val_accuracy: 0.9475\n",
            "Epoch 91/1000\n",
            " 1/42 [..............................] - ETA: 0s - loss: 0.4755 - accuracy: 0.8359\n",
            "Epoch 91: saving model to model/keypoint_classifier/keypoint_classifier.hdf5\n",
            "42/42 [==============================] - 0s 2ms/step - loss: 0.4605 - accuracy: 0.8277 - val_loss: 0.1840 - val_accuracy: 0.9532\n",
            "Epoch 92/1000\n",
            " 1/42 [..............................] - ETA: 0s - loss: 0.5687 - accuracy: 0.7578\n",
            "Epoch 92: saving model to model/keypoint_classifier/keypoint_classifier.hdf5\n",
            "42/42 [==============================] - 0s 2ms/step - loss: 0.4475 - accuracy: 0.8278 - val_loss: 0.1827 - val_accuracy: 0.9487\n",
            "Epoch 93/1000\n",
            "22/42 [==============>...............] - ETA: 0s - loss: 0.4411 - accuracy: 0.8331\n",
            "Epoch 93: saving model to model/keypoint_classifier/keypoint_classifier.hdf5\n",
            "42/42 [==============================] - 0s 3ms/step - loss: 0.4546 - accuracy: 0.8309 - val_loss: 0.1864 - val_accuracy: 0.9458\n",
            "Epoch 94/1000\n",
            " 1/42 [..............................] - ETA: 0s - loss: 0.4297 - accuracy: 0.8125\n",
            "Epoch 94: saving model to model/keypoint_classifier/keypoint_classifier.hdf5\n",
            "42/42 [==============================] - 0s 2ms/step - loss: 0.4635 - accuracy: 0.8242 - val_loss: 0.1873 - val_accuracy: 0.9498\n",
            "Epoch 95/1000\n",
            " 1/42 [..............................] - ETA: 0s - loss: 0.4379 - accuracy: 0.7969\n",
            "Epoch 95: saving model to model/keypoint_classifier/keypoint_classifier.hdf5\n",
            "42/42 [==============================] - 0s 2ms/step - loss: 0.4436 - accuracy: 0.8356 - val_loss: 0.1800 - val_accuracy: 0.9492\n",
            "Epoch 96/1000\n",
            " 1/42 [..............................] - ETA: 0s - loss: 0.4076 - accuracy: 0.8906\n",
            "Epoch 96: saving model to model/keypoint_classifier/keypoint_classifier.hdf5\n",
            "42/42 [==============================] - 0s 2ms/step - loss: 0.4556 - accuracy: 0.8320 - val_loss: 0.1822 - val_accuracy: 0.9469\n",
            "Epoch 97/1000\n",
            " 1/42 [..............................] - ETA: 0s - loss: 0.5918 - accuracy: 0.7812\n",
            "Epoch 97: saving model to model/keypoint_classifier/keypoint_classifier.hdf5\n",
            "42/42 [==============================] - 0s 2ms/step - loss: 0.4622 - accuracy: 0.8256 - val_loss: 0.1805 - val_accuracy: 0.9549\n",
            "Epoch 98/1000\n",
            " 1/42 [..............................] - ETA: 0s - loss: 0.4562 - accuracy: 0.8203\n",
            "Epoch 98: saving model to model/keypoint_classifier/keypoint_classifier.hdf5\n",
            "42/42 [==============================] - 0s 2ms/step - loss: 0.4461 - accuracy: 0.8353 - val_loss: 0.1887 - val_accuracy: 0.9407\n",
            "Epoch 99/1000\n",
            " 1/42 [..............................] - ETA: 0s - loss: 0.3240 - accuracy: 0.8984\n",
            "Epoch 99: saving model to model/keypoint_classifier/keypoint_classifier.hdf5\n",
            "42/42 [==============================] - 0s 2ms/step - loss: 0.4420 - accuracy: 0.8309 - val_loss: 0.1903 - val_accuracy: 0.9395\n",
            "Epoch 100/1000\n",
            " 1/42 [..............................] - ETA: 0s - loss: 0.4656 - accuracy: 0.8125\n",
            "Epoch 100: saving model to model/keypoint_classifier/keypoint_classifier.hdf5\n",
            "42/42 [==============================] - 0s 2ms/step - loss: 0.4610 - accuracy: 0.8320 - val_loss: 0.1886 - val_accuracy: 0.9390\n",
            "Epoch 101/1000\n",
            " 1/42 [..............................] - ETA: 0s - loss: 0.4397 - accuracy: 0.8438\n",
            "Epoch 101: saving model to model/keypoint_classifier/keypoint_classifier.hdf5\n",
            "42/42 [==============================] - 0s 2ms/step - loss: 0.4515 - accuracy: 0.8337 - val_loss: 0.1825 - val_accuracy: 0.9492\n",
            "Epoch 102/1000\n",
            " 1/42 [..............................] - ETA: 0s - loss: 0.5186 - accuracy: 0.7734\n",
            "Epoch 102: saving model to model/keypoint_classifier/keypoint_classifier.hdf5\n",
            "42/42 [==============================] - 0s 2ms/step - loss: 0.4465 - accuracy: 0.8337 - val_loss: 0.1769 - val_accuracy: 0.9566\n",
            "Epoch 103/1000\n",
            " 1/42 [..............................] - ETA: 0s - loss: 0.4909 - accuracy: 0.8125\n",
            "Epoch 103: saving model to model/keypoint_classifier/keypoint_classifier.hdf5\n",
            "42/42 [==============================] - 0s 2ms/step - loss: 0.4609 - accuracy: 0.8313 - val_loss: 0.1808 - val_accuracy: 0.9509\n",
            "Epoch 104/1000\n",
            " 1/42 [..............................] - ETA: 0s - loss: 0.3803 - accuracy: 0.8203\n",
            "Epoch 104: saving model to model/keypoint_classifier/keypoint_classifier.hdf5\n",
            "42/42 [==============================] - 0s 2ms/step - loss: 0.4521 - accuracy: 0.8309 - val_loss: 0.1819 - val_accuracy: 0.9509\n",
            "Epoch 105/1000\n",
            " 1/42 [..............................] - ETA: 0s - loss: 0.4761 - accuracy: 0.8516\n",
            "Epoch 105: saving model to model/keypoint_classifier/keypoint_classifier.hdf5\n",
            "42/42 [==============================] - 0s 2ms/step - loss: 0.4370 - accuracy: 0.8353 - val_loss: 0.1754 - val_accuracy: 0.9566\n",
            "Epoch 106/1000\n",
            " 1/42 [..............................] - ETA: 0s - loss: 0.5010 - accuracy: 0.8438\n",
            "Epoch 106: saving model to model/keypoint_classifier/keypoint_classifier.hdf5\n",
            "42/42 [==============================] - 0s 2ms/step - loss: 0.4404 - accuracy: 0.8315 - val_loss: 0.1747 - val_accuracy: 0.9527\n",
            "Epoch 107/1000\n",
            " 1/42 [..............................] - ETA: 0s - loss: 0.4017 - accuracy: 0.8672\n",
            "Epoch 107: saving model to model/keypoint_classifier/keypoint_classifier.hdf5\n",
            "42/42 [==============================] - 0s 2ms/step - loss: 0.4431 - accuracy: 0.8393 - val_loss: 0.1737 - val_accuracy: 0.9481\n",
            "Epoch 108/1000\n",
            "41/42 [============================>.] - ETA: 0s - loss: 0.4309 - accuracy: 0.8403\n",
            "Epoch 108: saving model to model/keypoint_classifier/keypoint_classifier.hdf5\n",
            "42/42 [==============================] - 0s 2ms/step - loss: 0.4312 - accuracy: 0.8404 - val_loss: 0.1700 - val_accuracy: 0.9509\n",
            "Epoch 109/1000\n",
            " 1/42 [..............................] - ETA: 0s - loss: 0.4862 - accuracy: 0.8516\n",
            "Epoch 109: saving model to model/keypoint_classifier/keypoint_classifier.hdf5\n",
            "42/42 [==============================] - 0s 2ms/step - loss: 0.4479 - accuracy: 0.8332 - val_loss: 0.1731 - val_accuracy: 0.9527\n",
            "Epoch 110/1000\n",
            " 1/42 [..............................] - ETA: 0s - loss: 0.3995 - accuracy: 0.8359\n",
            "Epoch 110: saving model to model/keypoint_classifier/keypoint_classifier.hdf5\n",
            "42/42 [==============================] - 0s 2ms/step - loss: 0.4558 - accuracy: 0.8330 - val_loss: 0.1702 - val_accuracy: 0.9544\n",
            "Epoch 111/1000\n",
            " 1/42 [..............................] - ETA: 0s - loss: 0.4599 - accuracy: 0.8281\n",
            "Epoch 111: saving model to model/keypoint_classifier/keypoint_classifier.hdf5\n",
            "42/42 [==============================] - 0s 2ms/step - loss: 0.4445 - accuracy: 0.8391 - val_loss: 0.1730 - val_accuracy: 0.9532\n",
            "Epoch 112/1000\n",
            " 1/42 [..............................] - ETA: 0s - loss: 0.3822 - accuracy: 0.8594\n",
            "Epoch 112: saving model to model/keypoint_classifier/keypoint_classifier.hdf5\n",
            "42/42 [==============================] - 0s 2ms/step - loss: 0.4240 - accuracy: 0.8391 - val_loss: 0.1719 - val_accuracy: 0.9555\n",
            "Epoch 113/1000\n",
            " 1/42 [..............................] - ETA: 0s - loss: 0.4185 - accuracy: 0.8438\n",
            "Epoch 113: saving model to model/keypoint_classifier/keypoint_classifier.hdf5\n",
            "42/42 [==============================] - 0s 2ms/step - loss: 0.4382 - accuracy: 0.8374 - val_loss: 0.1755 - val_accuracy: 0.9424\n",
            "Epoch 114/1000\n",
            " 1/42 [..............................] - ETA: 0s - loss: 0.3902 - accuracy: 0.8359\n",
            "Epoch 114: saving model to model/keypoint_classifier/keypoint_classifier.hdf5\n",
            "42/42 [==============================] - 0s 2ms/step - loss: 0.4452 - accuracy: 0.8315 - val_loss: 0.1761 - val_accuracy: 0.9492\n",
            "Epoch 115/1000\n",
            " 1/42 [..............................] - ETA: 0s - loss: 0.4624 - accuracy: 0.8828\n",
            "Epoch 115: saving model to model/keypoint_classifier/keypoint_classifier.hdf5\n",
            "42/42 [==============================] - 0s 2ms/step - loss: 0.4291 - accuracy: 0.8366 - val_loss: 0.1737 - val_accuracy: 0.9464\n",
            "Epoch 116/1000\n",
            "23/42 [===============>..............] - ETA: 0s - loss: 0.4144 - accuracy: 0.8478\n",
            "Epoch 116: saving model to model/keypoint_classifier/keypoint_classifier.hdf5\n",
            "42/42 [==============================] - 0s 3ms/step - loss: 0.4221 - accuracy: 0.8433 - val_loss: 0.1758 - val_accuracy: 0.9458\n",
            "Epoch 117/1000\n",
            " 1/42 [..............................] - ETA: 0s - loss: 0.3779 - accuracy: 0.8359\n",
            "Epoch 117: saving model to model/keypoint_classifier/keypoint_classifier.hdf5\n",
            "42/42 [==============================] - 0s 2ms/step - loss: 0.4427 - accuracy: 0.8364 - val_loss: 0.1694 - val_accuracy: 0.9544\n",
            "Epoch 118/1000\n",
            " 1/42 [..............................] - ETA: 0s - loss: 0.4748 - accuracy: 0.8203\n",
            "Epoch 118: saving model to model/keypoint_classifier/keypoint_classifier.hdf5\n",
            "42/42 [==============================] - 0s 2ms/step - loss: 0.4488 - accuracy: 0.8311 - val_loss: 0.1859 - val_accuracy: 0.9481\n",
            "Epoch 119/1000\n",
            " 1/42 [..............................] - ETA: 0s - loss: 0.4021 - accuracy: 0.8516\n",
            "Epoch 119: saving model to model/keypoint_classifier/keypoint_classifier.hdf5\n",
            "42/42 [==============================] - 0s 2ms/step - loss: 0.4424 - accuracy: 0.8315 - val_loss: 0.1766 - val_accuracy: 0.9492\n",
            "Epoch 120/1000\n",
            " 1/42 [..............................] - ETA: 0s - loss: 0.5506 - accuracy: 0.8203\n",
            "Epoch 120: saving model to model/keypoint_classifier/keypoint_classifier.hdf5\n",
            "42/42 [==============================] - 0s 2ms/step - loss: 0.4250 - accuracy: 0.8490 - val_loss: 0.1712 - val_accuracy: 0.9532\n",
            "Epoch 121/1000\n",
            " 1/42 [..............................] - ETA: 0s - loss: 0.4575 - accuracy: 0.8047\n",
            "Epoch 121: saving model to model/keypoint_classifier/keypoint_classifier.hdf5\n",
            "42/42 [==============================] - 0s 2ms/step - loss: 0.4302 - accuracy: 0.8442 - val_loss: 0.1658 - val_accuracy: 0.9538\n",
            "Epoch 122/1000\n",
            " 1/42 [..............................] - ETA: 0s - loss: 0.3383 - accuracy: 0.8828\n",
            "Epoch 122: saving model to model/keypoint_classifier/keypoint_classifier.hdf5\n",
            "42/42 [==============================] - 0s 2ms/step - loss: 0.4356 - accuracy: 0.8402 - val_loss: 0.1797 - val_accuracy: 0.9424\n",
            "Epoch 123/1000\n",
            " 1/42 [..............................] - ETA: 0s - loss: 0.3789 - accuracy: 0.8672\n",
            "Epoch 123: saving model to model/keypoint_classifier/keypoint_classifier.hdf5\n",
            "42/42 [==============================] - 0s 2ms/step - loss: 0.4296 - accuracy: 0.8381 - val_loss: 0.1704 - val_accuracy: 0.9487\n",
            "Epoch 124/1000\n",
            " 1/42 [..............................] - ETA: 0s - loss: 0.4729 - accuracy: 0.8359\n",
            "Epoch 124: saving model to model/keypoint_classifier/keypoint_classifier.hdf5\n",
            "42/42 [==============================] - 0s 2ms/step - loss: 0.4248 - accuracy: 0.8434 - val_loss: 0.1742 - val_accuracy: 0.9458\n",
            "Epoch 125/1000\n",
            " 1/42 [..............................] - ETA: 0s - loss: 0.4630 - accuracy: 0.7969\n",
            "Epoch 125: saving model to model/keypoint_classifier/keypoint_classifier.hdf5\n",
            "42/42 [==============================] - 0s 2ms/step - loss: 0.4437 - accuracy: 0.8379 - val_loss: 0.1659 - val_accuracy: 0.9544\n",
            "Epoch 126/1000\n",
            " 1/42 [..............................] - ETA: 0s - loss: 0.4176 - accuracy: 0.8438\n",
            "Epoch 126: saving model to model/keypoint_classifier/keypoint_classifier.hdf5\n",
            "42/42 [==============================] - 0s 2ms/step - loss: 0.4381 - accuracy: 0.8349 - val_loss: 0.1618 - val_accuracy: 0.9601\n",
            "Epoch 127/1000\n",
            " 1/42 [..............................] - ETA: 0s - loss: 0.4129 - accuracy: 0.8203\n",
            "Epoch 127: saving model to model/keypoint_classifier/keypoint_classifier.hdf5\n",
            "42/42 [==============================] - 0s 2ms/step - loss: 0.4342 - accuracy: 0.8395 - val_loss: 0.1751 - val_accuracy: 0.9452\n",
            "Epoch 128/1000\n",
            " 1/42 [..............................] - ETA: 0s - loss: 0.3666 - accuracy: 0.8516\n",
            "Epoch 128: saving model to model/keypoint_classifier/keypoint_classifier.hdf5\n",
            "42/42 [==============================] - 0s 2ms/step - loss: 0.4351 - accuracy: 0.8398 - val_loss: 0.1677 - val_accuracy: 0.9515\n",
            "Epoch 129/1000\n",
            " 1/42 [..............................] - ETA: 0s - loss: 0.4142 - accuracy: 0.8516\n",
            "Epoch 129: saving model to model/keypoint_classifier/keypoint_classifier.hdf5\n",
            "42/42 [==============================] - 0s 2ms/step - loss: 0.4463 - accuracy: 0.8318 - val_loss: 0.1716 - val_accuracy: 0.9549\n",
            "Epoch 130/1000\n",
            " 1/42 [..............................] - ETA: 0s - loss: 0.4203 - accuracy: 0.8516\n",
            "Epoch 130: saving model to model/keypoint_classifier/keypoint_classifier.hdf5\n",
            "42/42 [==============================] - 0s 2ms/step - loss: 0.4163 - accuracy: 0.8440 - val_loss: 0.1701 - val_accuracy: 0.9538\n",
            "Epoch 131/1000\n",
            " 1/42 [..............................] - ETA: 0s - loss: 0.4162 - accuracy: 0.8438\n",
            "Epoch 131: saving model to model/keypoint_classifier/keypoint_classifier.hdf5\n",
            "42/42 [==============================] - 0s 2ms/step - loss: 0.4403 - accuracy: 0.8339 - val_loss: 0.1729 - val_accuracy: 0.9504\n",
            "Epoch 132/1000\n",
            " 1/42 [..............................] - ETA: 0s - loss: 0.3722 - accuracy: 0.8750\n",
            "Epoch 132: saving model to model/keypoint_classifier/keypoint_classifier.hdf5\n",
            "42/42 [==============================] - 0s 2ms/step - loss: 0.4283 - accuracy: 0.8415 - val_loss: 0.1672 - val_accuracy: 0.9527\n",
            "Epoch 133/1000\n",
            " 1/42 [..............................] - ETA: 0s - loss: 0.4747 - accuracy: 0.8281\n",
            "Epoch 133: saving model to model/keypoint_classifier/keypoint_classifier.hdf5\n",
            "42/42 [==============================] - 0s 2ms/step - loss: 0.4341 - accuracy: 0.8375 - val_loss: 0.1685 - val_accuracy: 0.9504\n",
            "Epoch 134/1000\n",
            " 1/42 [..............................] - ETA: 0s - loss: 0.4223 - accuracy: 0.8281\n",
            "Epoch 134: saving model to model/keypoint_classifier/keypoint_classifier.hdf5\n",
            "42/42 [==============================] - 0s 2ms/step - loss: 0.4338 - accuracy: 0.8383 - val_loss: 0.1696 - val_accuracy: 0.9521\n",
            "Epoch 135/1000\n",
            " 1/42 [..............................] - ETA: 0s - loss: 0.4507 - accuracy: 0.8516\n",
            "Epoch 135: saving model to model/keypoint_classifier/keypoint_classifier.hdf5\n",
            "42/42 [==============================] - 0s 2ms/step - loss: 0.4326 - accuracy: 0.8429 - val_loss: 0.1670 - val_accuracy: 0.9515\n",
            "Epoch 136/1000\n",
            " 1/42 [..............................] - ETA: 0s - loss: 0.3519 - accuracy: 0.8516\n",
            "Epoch 136: saving model to model/keypoint_classifier/keypoint_classifier.hdf5\n",
            "42/42 [==============================] - 0s 2ms/step - loss: 0.4293 - accuracy: 0.8355 - val_loss: 0.1688 - val_accuracy: 0.9498\n",
            "Epoch 137/1000\n",
            " 1/42 [..............................] - ETA: 0s - loss: 0.4681 - accuracy: 0.8125\n",
            "Epoch 137: saving model to model/keypoint_classifier/keypoint_classifier.hdf5\n",
            "42/42 [==============================] - 0s 2ms/step - loss: 0.4170 - accuracy: 0.8434 - val_loss: 0.1612 - val_accuracy: 0.9584\n",
            "Epoch 138/1000\n",
            " 1/42 [..............................] - ETA: 0s - loss: 0.3582 - accuracy: 0.8594\n",
            "Epoch 138: saving model to model/keypoint_classifier/keypoint_classifier.hdf5\n",
            "42/42 [==============================] - 0s 2ms/step - loss: 0.4259 - accuracy: 0.8381 - val_loss: 0.1611 - val_accuracy: 0.9538\n",
            "Epoch 139/1000\n",
            " 1/42 [..............................] - ETA: 0s - loss: 0.4053 - accuracy: 0.8594\n",
            "Epoch 139: saving model to model/keypoint_classifier/keypoint_classifier.hdf5\n",
            "42/42 [==============================] - 0s 2ms/step - loss: 0.4197 - accuracy: 0.8372 - val_loss: 0.1629 - val_accuracy: 0.9555\n",
            "Epoch 140/1000\n",
            "25/42 [================>.............] - ETA: 0s - loss: 0.4144 - accuracy: 0.8413\n",
            "Epoch 140: saving model to model/keypoint_classifier/keypoint_classifier.hdf5\n",
            "42/42 [==============================] - 0s 3ms/step - loss: 0.4352 - accuracy: 0.8358 - val_loss: 0.1658 - val_accuracy: 0.9538\n",
            "Epoch 141/1000\n",
            " 1/42 [..............................] - ETA: 0s - loss: 0.3772 - accuracy: 0.8281\n",
            "Epoch 141: saving model to model/keypoint_classifier/keypoint_classifier.hdf5\n",
            "42/42 [==============================] - 0s 2ms/step - loss: 0.4175 - accuracy: 0.8476 - val_loss: 0.1663 - val_accuracy: 0.9561\n",
            "Epoch 142/1000\n",
            " 1/42 [..............................] - ETA: 0s - loss: 0.3769 - accuracy: 0.8750\n",
            "Epoch 142: saving model to model/keypoint_classifier/keypoint_classifier.hdf5\n",
            "42/42 [==============================] - 0s 2ms/step - loss: 0.4390 - accuracy: 0.8349 - val_loss: 0.1588 - val_accuracy: 0.9606\n",
            "Epoch 143/1000\n",
            " 1/42 [..............................] - ETA: 0s - loss: 0.4786 - accuracy: 0.8281\n",
            "Epoch 143: saving model to model/keypoint_classifier/keypoint_classifier.hdf5\n",
            "42/42 [==============================] - 0s 2ms/step - loss: 0.4255 - accuracy: 0.8438 - val_loss: 0.1644 - val_accuracy: 0.9498\n",
            "Epoch 144/1000\n",
            " 1/42 [..............................] - ETA: 0s - loss: 0.3883 - accuracy: 0.8672\n",
            "Epoch 144: saving model to model/keypoint_classifier/keypoint_classifier.hdf5\n",
            "42/42 [==============================] - 0s 2ms/step - loss: 0.4257 - accuracy: 0.8448 - val_loss: 0.1633 - val_accuracy: 0.9572\n",
            "Epoch 145/1000\n",
            " 1/42 [..............................] - ETA: 0s - loss: 0.6703 - accuracy: 0.8047\n",
            "Epoch 145: saving model to model/keypoint_classifier/keypoint_classifier.hdf5\n",
            "42/42 [==============================] - 0s 2ms/step - loss: 0.4358 - accuracy: 0.8408 - val_loss: 0.1569 - val_accuracy: 0.9578\n",
            "Epoch 146/1000\n",
            " 1/42 [..............................] - ETA: 0s - loss: 0.5003 - accuracy: 0.8203\n",
            "Epoch 146: saving model to model/keypoint_classifier/keypoint_classifier.hdf5\n",
            "42/42 [==============================] - 0s 2ms/step - loss: 0.4336 - accuracy: 0.8398 - val_loss: 0.1575 - val_accuracy: 0.9601\n",
            "Epoch 147/1000\n",
            " 1/42 [..............................] - ETA: 0s - loss: 0.4838 - accuracy: 0.8125\n",
            "Epoch 147: saving model to model/keypoint_classifier/keypoint_classifier.hdf5\n",
            "42/42 [==============================] - 0s 2ms/step - loss: 0.4209 - accuracy: 0.8448 - val_loss: 0.1626 - val_accuracy: 0.9544\n",
            "Epoch 148/1000\n",
            " 1/42 [..............................] - ETA: 0s - loss: 0.3973 - accuracy: 0.8594\n",
            "Epoch 148: saving model to model/keypoint_classifier/keypoint_classifier.hdf5\n",
            "42/42 [==============================] - 0s 2ms/step - loss: 0.4254 - accuracy: 0.8453 - val_loss: 0.1613 - val_accuracy: 0.9566\n",
            "Epoch 149/1000\n",
            " 1/42 [..............................] - ETA: 0s - loss: 0.3971 - accuracy: 0.8594\n",
            "Epoch 149: saving model to model/keypoint_classifier/keypoint_classifier.hdf5\n",
            "42/42 [==============================] - 0s 2ms/step - loss: 0.4174 - accuracy: 0.8469 - val_loss: 0.1567 - val_accuracy: 0.9606\n",
            "Epoch 150/1000\n",
            " 1/42 [..............................] - ETA: 0s - loss: 0.4076 - accuracy: 0.8359\n",
            "Epoch 150: saving model to model/keypoint_classifier/keypoint_classifier.hdf5\n",
            "42/42 [==============================] - 0s 2ms/step - loss: 0.4166 - accuracy: 0.8450 - val_loss: 0.1618 - val_accuracy: 0.9566\n",
            "Epoch 151/1000\n",
            " 1/42 [..............................] - ETA: 0s - loss: 0.4816 - accuracy: 0.8281\n",
            "Epoch 151: saving model to model/keypoint_classifier/keypoint_classifier.hdf5\n",
            "42/42 [==============================] - 0s 2ms/step - loss: 0.4322 - accuracy: 0.8400 - val_loss: 0.1589 - val_accuracy: 0.9595\n",
            "Epoch 152/1000\n",
            " 1/42 [..............................] - ETA: 0s - loss: 0.5691 - accuracy: 0.8516\n",
            "Epoch 152: saving model to model/keypoint_classifier/keypoint_classifier.hdf5\n",
            "42/42 [==============================] - 0s 2ms/step - loss: 0.4350 - accuracy: 0.8408 - val_loss: 0.1620 - val_accuracy: 0.9578\n",
            "Epoch 153/1000\n",
            " 1/42 [..............................] - ETA: 0s - loss: 0.3683 - accuracy: 0.8906\n",
            "Epoch 153: saving model to model/keypoint_classifier/keypoint_classifier.hdf5\n",
            "42/42 [==============================] - 0s 2ms/step - loss: 0.4194 - accuracy: 0.8408 - val_loss: 0.1683 - val_accuracy: 0.9544\n",
            "Epoch 154/1000\n",
            " 1/42 [..............................] - ETA: 0s - loss: 0.3772 - accuracy: 0.8594\n",
            "Epoch 154: saving model to model/keypoint_classifier/keypoint_classifier.hdf5\n",
            "42/42 [==============================] - 0s 2ms/step - loss: 0.4259 - accuracy: 0.8419 - val_loss: 0.1594 - val_accuracy: 0.9589\n",
            "Epoch 155/1000\n",
            " 1/42 [..............................] - ETA: 0s - loss: 0.4226 - accuracy: 0.8750\n",
            "Epoch 155: saving model to model/keypoint_classifier/keypoint_classifier.hdf5\n",
            "42/42 [==============================] - 0s 2ms/step - loss: 0.4420 - accuracy: 0.8406 - val_loss: 0.1607 - val_accuracy: 0.9584\n",
            "Epoch 156/1000\n",
            " 1/42 [..............................] - ETA: 0s - loss: 0.4446 - accuracy: 0.8047\n",
            "Epoch 156: saving model to model/keypoint_classifier/keypoint_classifier.hdf5\n",
            "42/42 [==============================] - 0s 2ms/step - loss: 0.4244 - accuracy: 0.8444 - val_loss: 0.1600 - val_accuracy: 0.9629\n",
            "Epoch 157/1000\n",
            " 1/42 [..............................] - ETA: 0s - loss: 0.4595 - accuracy: 0.8281\n",
            "Epoch 157: saving model to model/keypoint_classifier/keypoint_classifier.hdf5\n",
            "42/42 [==============================] - 0s 2ms/step - loss: 0.4150 - accuracy: 0.8444 - val_loss: 0.1683 - val_accuracy: 0.9544\n",
            "Epoch 158/1000\n",
            " 1/42 [..............................] - ETA: 0s - loss: 0.4733 - accuracy: 0.8047\n",
            "Epoch 158: saving model to model/keypoint_classifier/keypoint_classifier.hdf5\n",
            "42/42 [==============================] - 0s 2ms/step - loss: 0.4243 - accuracy: 0.8450 - val_loss: 0.1646 - val_accuracy: 0.9509\n",
            "Epoch 159/1000\n",
            "36/42 [========================>.....] - ETA: 0s - loss: 0.4163 - accuracy: 0.8490\n",
            "Epoch 159: saving model to model/keypoint_classifier/keypoint_classifier.hdf5\n",
            "42/42 [==============================] - 0s 3ms/step - loss: 0.4151 - accuracy: 0.8497 - val_loss: 0.1592 - val_accuracy: 0.9584\n",
            "Epoch 160/1000\n",
            " 1/42 [..............................] - ETA: 0s - loss: 0.3628 - accuracy: 0.8750\n",
            "Epoch 160: saving model to model/keypoint_classifier/keypoint_classifier.hdf5\n",
            "42/42 [==============================] - 0s 2ms/step - loss: 0.4054 - accuracy: 0.8484 - val_loss: 0.1571 - val_accuracy: 0.9566\n",
            "Epoch 161/1000\n",
            " 1/42 [..............................] - ETA: 0s - loss: 0.3828 - accuracy: 0.8594\n",
            "Epoch 161: saving model to model/keypoint_classifier/keypoint_classifier.hdf5\n",
            "42/42 [==============================] - 0s 2ms/step - loss: 0.4360 - accuracy: 0.8448 - val_loss: 0.1645 - val_accuracy: 0.9515\n",
            "Epoch 162/1000\n",
            " 1/42 [..............................] - ETA: 0s - loss: 0.4659 - accuracy: 0.7969\n",
            "Epoch 162: saving model to model/keypoint_classifier/keypoint_classifier.hdf5\n",
            "42/42 [==============================] - 0s 2ms/step - loss: 0.4152 - accuracy: 0.8459 - val_loss: 0.1652 - val_accuracy: 0.9532\n",
            "Epoch 163/1000\n",
            " 1/42 [..............................] - ETA: 0s - loss: 0.3497 - accuracy: 0.8750\n",
            "Epoch 163: saving model to model/keypoint_classifier/keypoint_classifier.hdf5\n",
            "42/42 [==============================] - 0s 2ms/step - loss: 0.4225 - accuracy: 0.8474 - val_loss: 0.1560 - val_accuracy: 0.9555\n",
            "Epoch 164/1000\n",
            " 1/42 [..............................] - ETA: 0s - loss: 0.3864 - accuracy: 0.8516\n",
            "Epoch 164: saving model to model/keypoint_classifier/keypoint_classifier.hdf5\n",
            "42/42 [==============================] - 0s 2ms/step - loss: 0.4279 - accuracy: 0.8486 - val_loss: 0.1647 - val_accuracy: 0.9504\n",
            "Epoch 165/1000\n",
            " 1/42 [..............................] - ETA: 0s - loss: 0.3954 - accuracy: 0.8672\n",
            "Epoch 165: saving model to model/keypoint_classifier/keypoint_classifier.hdf5\n",
            "42/42 [==============================] - 0s 2ms/step - loss: 0.4005 - accuracy: 0.8528 - val_loss: 0.1691 - val_accuracy: 0.9504\n",
            "Epoch 166/1000\n",
            " 1/42 [..............................] - ETA: 0s - loss: 0.4266 - accuracy: 0.8516\n",
            "Epoch 166: saving model to model/keypoint_classifier/keypoint_classifier.hdf5\n",
            "42/42 [==============================] - 0s 2ms/step - loss: 0.4217 - accuracy: 0.8440 - val_loss: 0.1603 - val_accuracy: 0.9549\n",
            "Epoch 167/1000\n",
            " 1/42 [..............................] - ETA: 0s - loss: 0.3596 - accuracy: 0.8672\n",
            "Epoch 167: saving model to model/keypoint_classifier/keypoint_classifier.hdf5\n",
            "42/42 [==============================] - 0s 2ms/step - loss: 0.4128 - accuracy: 0.8514 - val_loss: 0.1520 - val_accuracy: 0.9595\n",
            "Epoch 168/1000\n",
            " 1/42 [..............................] - ETA: 0s - loss: 0.4067 - accuracy: 0.8359\n",
            "Epoch 168: saving model to model/keypoint_classifier/keypoint_classifier.hdf5\n",
            "42/42 [==============================] - 0s 2ms/step - loss: 0.4162 - accuracy: 0.8444 - val_loss: 0.1601 - val_accuracy: 0.9549\n",
            "Epoch 169/1000\n",
            " 1/42 [..............................] - ETA: 0s - loss: 0.3554 - accuracy: 0.8906\n",
            "Epoch 169: saving model to model/keypoint_classifier/keypoint_classifier.hdf5\n",
            "42/42 [==============================] - 0s 2ms/step - loss: 0.4003 - accuracy: 0.8528 - val_loss: 0.1534 - val_accuracy: 0.9572\n",
            "Epoch 170/1000\n",
            " 1/42 [..............................] - ETA: 0s - loss: 0.6506 - accuracy: 0.7969\n",
            "Epoch 170: saving model to model/keypoint_classifier/keypoint_classifier.hdf5\n",
            "42/42 [==============================] - 0s 2ms/step - loss: 0.4040 - accuracy: 0.8501 - val_loss: 0.1581 - val_accuracy: 0.9532\n",
            "Epoch 171/1000\n",
            " 1/42 [..............................] - ETA: 0s - loss: 0.4674 - accuracy: 0.8359\n",
            "Epoch 171: saving model to model/keypoint_classifier/keypoint_classifier.hdf5\n",
            "42/42 [==============================] - 0s 2ms/step - loss: 0.4252 - accuracy: 0.8457 - val_loss: 0.1560 - val_accuracy: 0.9549\n",
            "Epoch 172/1000\n",
            " 1/42 [..............................] - ETA: 0s - loss: 0.4913 - accuracy: 0.8281\n",
            "Epoch 172: saving model to model/keypoint_classifier/keypoint_classifier.hdf5\n",
            "42/42 [==============================] - 0s 2ms/step - loss: 0.4269 - accuracy: 0.8444 - val_loss: 0.1665 - val_accuracy: 0.9487\n",
            "Epoch 173/1000\n",
            " 1/42 [..............................] - ETA: 0s - loss: 0.4256 - accuracy: 0.8438\n",
            "Epoch 173: saving model to model/keypoint_classifier/keypoint_classifier.hdf5\n",
            "42/42 [==============================] - 0s 2ms/step - loss: 0.4191 - accuracy: 0.8431 - val_loss: 0.1543 - val_accuracy: 0.9566\n",
            "Epoch 174/1000\n",
            " 1/42 [..............................] - ETA: 0s - loss: 0.4201 - accuracy: 0.8047\n",
            "Epoch 174: saving model to model/keypoint_classifier/keypoint_classifier.hdf5\n",
            "42/42 [==============================] - 0s 2ms/step - loss: 0.4173 - accuracy: 0.8379 - val_loss: 0.1606 - val_accuracy: 0.9572\n",
            "Epoch 175/1000\n",
            " 1/42 [..............................] - ETA: 0s - loss: 0.3566 - accuracy: 0.8672\n",
            "Epoch 175: saving model to model/keypoint_classifier/keypoint_classifier.hdf5\n",
            "42/42 [==============================] - 0s 2ms/step - loss: 0.4150 - accuracy: 0.8509 - val_loss: 0.1552 - val_accuracy: 0.9595\n",
            "Epoch 176/1000\n",
            " 1/42 [..............................] - ETA: 0s - loss: 0.3489 - accuracy: 0.8828\n",
            "Epoch 176: saving model to model/keypoint_classifier/keypoint_classifier.hdf5\n",
            "42/42 [==============================] - 0s 2ms/step - loss: 0.4279 - accuracy: 0.8453 - val_loss: 0.1724 - val_accuracy: 0.9447\n",
            "Epoch 177/1000\n",
            "34/42 [=======================>......] - ETA: 0s - loss: 0.4201 - accuracy: 0.8438\n",
            "Epoch 177: saving model to model/keypoint_classifier/keypoint_classifier.hdf5\n",
            "42/42 [==============================] - 0s 3ms/step - loss: 0.4238 - accuracy: 0.8415 - val_loss: 0.1649 - val_accuracy: 0.9458\n",
            "Epoch 178/1000\n",
            " 1/42 [..............................] - ETA: 0s - loss: 0.5177 - accuracy: 0.8125\n",
            "Epoch 178: saving model to model/keypoint_classifier/keypoint_classifier.hdf5\n",
            "42/42 [==============================] - 0s 2ms/step - loss: 0.4043 - accuracy: 0.8486 - val_loss: 0.1548 - val_accuracy: 0.9566\n",
            "Epoch 179/1000\n",
            " 1/42 [..............................] - ETA: 0s - loss: 0.3361 - accuracy: 0.8750\n",
            "Epoch 179: saving model to model/keypoint_classifier/keypoint_classifier.hdf5\n",
            "42/42 [==============================] - 0s 2ms/step - loss: 0.4226 - accuracy: 0.8427 - val_loss: 0.1539 - val_accuracy: 0.9572\n",
            "Epoch 180/1000\n",
            " 1/42 [..............................] - ETA: 0s - loss: 0.3805 - accuracy: 0.8438\n",
            "Epoch 180: saving model to model/keypoint_classifier/keypoint_classifier.hdf5\n",
            "42/42 [==============================] - 0s 2ms/step - loss: 0.4264 - accuracy: 0.8448 - val_loss: 0.1619 - val_accuracy: 0.9504\n",
            "Epoch 181/1000\n",
            " 1/42 [..............................] - ETA: 0s - loss: 0.3975 - accuracy: 0.8594\n",
            "Epoch 181: saving model to model/keypoint_classifier/keypoint_classifier.hdf5\n",
            "42/42 [==============================] - 0s 2ms/step - loss: 0.4157 - accuracy: 0.8514 - val_loss: 0.1593 - val_accuracy: 0.9555\n",
            "Epoch 182/1000\n",
            "37/42 [=========================>....] - ETA: 0s - loss: 0.4295 - accuracy: 0.8444\n",
            "Epoch 182: saving model to model/keypoint_classifier/keypoint_classifier.hdf5\n",
            "42/42 [==============================] - 0s 2ms/step - loss: 0.4315 - accuracy: 0.8431 - val_loss: 0.1503 - val_accuracy: 0.9561\n",
            "Epoch 183/1000\n",
            " 1/42 [..............................] - ETA: 0s - loss: 0.4396 - accuracy: 0.8125\n",
            "Epoch 183: saving model to model/keypoint_classifier/keypoint_classifier.hdf5\n",
            "42/42 [==============================] - 0s 2ms/step - loss: 0.4007 - accuracy: 0.8493 - val_loss: 0.1538 - val_accuracy: 0.9566\n",
            "Epoch 184/1000\n",
            " 1/42 [..............................] - ETA: 0s - loss: 0.3867 - accuracy: 0.8516\n",
            "Epoch 184: saving model to model/keypoint_classifier/keypoint_classifier.hdf5\n",
            "42/42 [==============================] - 0s 2ms/step - loss: 0.4234 - accuracy: 0.8362 - val_loss: 0.1557 - val_accuracy: 0.9606\n",
            "Epoch 185/1000\n",
            " 1/42 [..............................] - ETA: 0s - loss: 0.3473 - accuracy: 0.8828\n",
            "Epoch 185: saving model to model/keypoint_classifier/keypoint_classifier.hdf5\n",
            "42/42 [==============================] - 0s 2ms/step - loss: 0.4081 - accuracy: 0.8547 - val_loss: 0.1587 - val_accuracy: 0.9584\n",
            "Epoch 186/1000\n",
            " 1/42 [..............................] - ETA: 0s - loss: 0.3439 - accuracy: 0.8516\n",
            "Epoch 186: saving model to model/keypoint_classifier/keypoint_classifier.hdf5\n",
            "42/42 [==============================] - 0s 2ms/step - loss: 0.3982 - accuracy: 0.8547 - val_loss: 0.1568 - val_accuracy: 0.9561\n",
            "Epoch 187/1000\n",
            " 1/42 [..............................] - ETA: 0s - loss: 0.3229 - accuracy: 0.8906\n",
            "Epoch 187: saving model to model/keypoint_classifier/keypoint_classifier.hdf5\n",
            "42/42 [==============================] - 0s 2ms/step - loss: 0.4012 - accuracy: 0.8526 - val_loss: 0.1602 - val_accuracy: 0.9555\n",
            "Epoch 188/1000\n",
            " 1/42 [..............................] - ETA: 0s - loss: 0.4499 - accuracy: 0.8359\n",
            "Epoch 188: saving model to model/keypoint_classifier/keypoint_classifier.hdf5\n",
            "42/42 [==============================] - 0s 2ms/step - loss: 0.4227 - accuracy: 0.8427 - val_loss: 0.1470 - val_accuracy: 0.9629\n",
            "Epoch 189/1000\n",
            "37/42 [=========================>....] - ETA: 0s - loss: 0.4146 - accuracy: 0.8488\n",
            "Epoch 189: saving model to model/keypoint_classifier/keypoint_classifier.hdf5\n",
            "42/42 [==============================] - 0s 3ms/step - loss: 0.4151 - accuracy: 0.8486 - val_loss: 0.1489 - val_accuracy: 0.9624\n",
            "Epoch 190/1000\n",
            " 1/42 [..............................] - ETA: 0s - loss: 0.3178 - accuracy: 0.8750\n",
            "Epoch 190: saving model to model/keypoint_classifier/keypoint_classifier.hdf5\n",
            "42/42 [==============================] - 0s 2ms/step - loss: 0.4042 - accuracy: 0.8528 - val_loss: 0.1565 - val_accuracy: 0.9572\n",
            "Epoch 191/1000\n",
            " 1/42 [..............................] - ETA: 0s - loss: 0.4295 - accuracy: 0.8516\n",
            "Epoch 191: saving model to model/keypoint_classifier/keypoint_classifier.hdf5\n",
            "42/42 [==============================] - 0s 2ms/step - loss: 0.4145 - accuracy: 0.8465 - val_loss: 0.1537 - val_accuracy: 0.9561\n",
            "Epoch 192/1000\n",
            " 1/42 [..............................] - ETA: 0s - loss: 0.5422 - accuracy: 0.7969\n",
            "Epoch 192: saving model to model/keypoint_classifier/keypoint_classifier.hdf5\n",
            "42/42 [==============================] - 0s 2ms/step - loss: 0.4203 - accuracy: 0.8473 - val_loss: 0.1615 - val_accuracy: 0.9544\n",
            "Epoch 193/1000\n",
            " 1/42 [..............................] - ETA: 0s - loss: 0.4782 - accuracy: 0.7891\n",
            "Epoch 193: saving model to model/keypoint_classifier/keypoint_classifier.hdf5\n",
            "42/42 [==============================] - 0s 2ms/step - loss: 0.4097 - accuracy: 0.8415 - val_loss: 0.1483 - val_accuracy: 0.9624\n",
            "Epoch 194/1000\n",
            " 1/42 [..............................] - ETA: 0s - loss: 0.4552 - accuracy: 0.8125\n",
            "Epoch 194: saving model to model/keypoint_classifier/keypoint_classifier.hdf5\n",
            "42/42 [==============================] - 0s 2ms/step - loss: 0.4051 - accuracy: 0.8507 - val_loss: 0.1540 - val_accuracy: 0.9595\n",
            "Epoch 195/1000\n",
            "28/42 [===================>..........] - ETA: 0s - loss: 0.4160 - accuracy: 0.8474\n",
            "Epoch 195: saving model to model/keypoint_classifier/keypoint_classifier.hdf5\n",
            "42/42 [==============================] - 0s 3ms/step - loss: 0.4093 - accuracy: 0.8512 - val_loss: 0.1574 - val_accuracy: 0.9572\n",
            "Epoch 196/1000\n",
            "42/42 [==============================] - ETA: 0s - loss: 0.3997 - accuracy: 0.8545\n",
            "Epoch 196: saving model to model/keypoint_classifier/keypoint_classifier.hdf5\n",
            "42/42 [==============================] - 0s 2ms/step - loss: 0.3997 - accuracy: 0.8545 - val_loss: 0.1510 - val_accuracy: 0.9601\n",
            "Epoch 197/1000\n",
            " 1/42 [..............................] - ETA: 0s - loss: 0.3894 - accuracy: 0.8594\n",
            "Epoch 197: saving model to model/keypoint_classifier/keypoint_classifier.hdf5\n",
            "42/42 [==============================] - 0s 2ms/step - loss: 0.4163 - accuracy: 0.8495 - val_loss: 0.1593 - val_accuracy: 0.9572\n",
            "Epoch 198/1000\n",
            " 1/42 [..............................] - ETA: 0s - loss: 0.3435 - accuracy: 0.8672\n",
            "Epoch 198: saving model to model/keypoint_classifier/keypoint_classifier.hdf5\n",
            "42/42 [==============================] - 0s 2ms/step - loss: 0.4115 - accuracy: 0.8495 - val_loss: 0.1568 - val_accuracy: 0.9601\n",
            "Epoch 199/1000\n",
            " 1/42 [..............................] - ETA: 0s - loss: 0.3998 - accuracy: 0.8438\n",
            "Epoch 199: saving model to model/keypoint_classifier/keypoint_classifier.hdf5\n",
            "42/42 [==============================] - 0s 2ms/step - loss: 0.4113 - accuracy: 0.8514 - val_loss: 0.1498 - val_accuracy: 0.9641\n",
            "Epoch 200/1000\n",
            " 1/42 [..............................] - ETA: 0s - loss: 0.3868 - accuracy: 0.8516\n",
            "Epoch 200: saving model to model/keypoint_classifier/keypoint_classifier.hdf5\n",
            "42/42 [==============================] - 0s 2ms/step - loss: 0.4074 - accuracy: 0.8492 - val_loss: 0.1545 - val_accuracy: 0.9561\n",
            "Epoch 201/1000\n",
            " 1/42 [..............................] - ETA: 0s - loss: 0.3926 - accuracy: 0.8828\n",
            "Epoch 201: saving model to model/keypoint_classifier/keypoint_classifier.hdf5\n",
            "42/42 [==============================] - 0s 2ms/step - loss: 0.4097 - accuracy: 0.8450 - val_loss: 0.1545 - val_accuracy: 0.9584\n",
            "Epoch 202/1000\n",
            " 1/42 [..............................] - ETA: 0s - loss: 0.4198 - accuracy: 0.8438\n",
            "Epoch 202: saving model to model/keypoint_classifier/keypoint_classifier.hdf5\n",
            "42/42 [==============================] - 0s 2ms/step - loss: 0.4201 - accuracy: 0.8415 - val_loss: 0.1540 - val_accuracy: 0.9566\n",
            "Epoch 203/1000\n",
            " 1/42 [..............................] - ETA: 0s - loss: 0.4089 - accuracy: 0.8750\n",
            "Epoch 203: saving model to model/keypoint_classifier/keypoint_classifier.hdf5\n",
            "42/42 [==============================] - 0s 2ms/step - loss: 0.3897 - accuracy: 0.8526 - val_loss: 0.1522 - val_accuracy: 0.9595\n",
            "Epoch 204/1000\n",
            " 1/42 [..............................] - ETA: 0s - loss: 0.3277 - accuracy: 0.8750\n",
            "Epoch 204: saving model to model/keypoint_classifier/keypoint_classifier.hdf5\n",
            "42/42 [==============================] - 0s 2ms/step - loss: 0.4023 - accuracy: 0.8473 - val_loss: 0.1602 - val_accuracy: 0.9544\n",
            "Epoch 205/1000\n",
            " 1/42 [..............................] - ETA: 0s - loss: 0.3278 - accuracy: 0.8594\n",
            "Epoch 205: saving model to model/keypoint_classifier/keypoint_classifier.hdf5\n",
            "42/42 [==============================] - 0s 2ms/step - loss: 0.4134 - accuracy: 0.8461 - val_loss: 0.1515 - val_accuracy: 0.9612\n",
            "Epoch 206/1000\n",
            " 1/42 [..............................] - ETA: 0s - loss: 0.3714 - accuracy: 0.8750\n",
            "Epoch 206: saving model to model/keypoint_classifier/keypoint_classifier.hdf5\n",
            "42/42 [==============================] - 0s 2ms/step - loss: 0.4008 - accuracy: 0.8520 - val_loss: 0.1526 - val_accuracy: 0.9589\n",
            "Epoch 207/1000\n",
            " 1/42 [..............................] - ETA: 0s - loss: 0.3109 - accuracy: 0.8906\n",
            "Epoch 207: saving model to model/keypoint_classifier/keypoint_classifier.hdf5\n",
            "42/42 [==============================] - 0s 2ms/step - loss: 0.3937 - accuracy: 0.8524 - val_loss: 0.1546 - val_accuracy: 0.9555\n",
            "Epoch 208/1000\n",
            " 1/42 [..............................] - ETA: 0s - loss: 0.3565 - accuracy: 0.8594\n",
            "Epoch 208: saving model to model/keypoint_classifier/keypoint_classifier.hdf5\n",
            "42/42 [==============================] - 0s 2ms/step - loss: 0.3988 - accuracy: 0.8524 - val_loss: 0.1570 - val_accuracy: 0.9549\n",
            "Epoch 208: early stopping\n"
          ]
        },
        {
          "data": {
            "text/plain": [
              "<keras.src.callbacks.History at 0x7fdbe4589750>"
            ]
          },
          "execution_count": 11,
          "metadata": {},
          "output_type": "execute_result"
        }
      ],
      "source": [
        "model.fit(\n",
        "    X_train,\n",
        "    y_train,\n",
        "    epochs=1000,\n",
        "    batch_size=128,\n",
        "    validation_data=(X_test, y_test),\n",
        "    callbacks=[cp_callback, es_callback]\n",
        ")"
      ]
    },
    {
      "cell_type": "code",
      "execution_count": 12,
      "metadata": {
        "colab": {
          "base_uri": "https://localhost:8080/"
        },
        "id": "pxvb2Y299hE3",
        "outputId": "59eb3185-2e37-4b9e-bc9d-ab1b8ac29b7f"
      },
      "outputs": [
        {
          "name": "stdout",
          "output_type": "stream",
          "text": [
            " 1/14 [=>............................] - ETA: 0s - loss: 0.2204 - accuracy: 0.8984"
          ]
        },
        {
          "name": "stdout",
          "output_type": "stream",
          "text": [
            "14/14 [==============================] - 0s 2ms/step - loss: 0.1570 - accuracy: 0.9549\n"
          ]
        }
      ],
      "source": [
        "# Model evaluation\n",
        "val_loss, val_acc = model.evaluate(X_test, y_test, batch_size=128)"
      ]
    },
    {
      "cell_type": "code",
      "execution_count": 13,
      "metadata": {
        "id": "RBkmDeUW9hE4"
      },
      "outputs": [],
      "source": [
        "# Loading the saved model\n",
        "model = tf.keras.models.load_model(model_save_path)"
      ]
    },
    {
      "cell_type": "code",
      "execution_count": 14,
      "metadata": {
        "colab": {
          "base_uri": "https://localhost:8080/"
        },
        "id": "tFz9Tb0I9hE4",
        "outputId": "1c3b3528-54ae-4ee2-ab04-77429211cbef"
      },
      "outputs": [
        {
          "name": "stdout",
          "output_type": "stream",
          "text": [
            "1/1 [==============================] - 0s 53ms/step\n",
            "[5.5778874e-03 6.2998189e-03 1.4676196e-17 9.8810333e-01 2.2281850e-09\n",
            " 1.8963134e-05]\n",
            "3\n"
          ]
        }
      ],
      "source": [
        "# Inference test\n",
        "predict_result = model.predict(np.array([X_test[0]]))\n",
        "print(np.squeeze(predict_result))\n",
        "print(np.argmax(np.squeeze(predict_result)))"
      ]
    },
    {
      "cell_type": "markdown",
      "metadata": {
        "id": "S3U4yNWx9hE4"
      },
      "source": [
        "# Confusion matrix"
      ]
    },
    {
      "cell_type": "code",
      "execution_count": 15,
      "metadata": {
        "colab": {
          "base_uri": "https://localhost:8080/",
          "height": 582
        },
        "id": "AP1V6SCk9hE5",
        "outputId": "08e41a80-7a4a-4619-8125-ecc371368d19"
      },
      "outputs": [
        {
          "name": "stdout",
          "output_type": "stream",
          "text": [
            "55/55 [==============================] - 0s 775us/step\n"
          ]
        },
        {
          "data": {
            "image/png": "[encoded data removed]",
            "text/plain": [
              "<Figure size 700x600 with 1 Axes>"
            ]
          },
          "metadata": {},
          "output_type": "display_data"
        },
        {
          "name": "stdout",
          "output_type": "stream",
          "text": [
            "Classification Report\n",
            "              precision    recall  f1-score   support\n",
            "\n",
            "           0       0.98      0.99      0.99       410\n",
            "           1       0.98      0.82      0.89       384\n",
            "           2       0.96      1.00      0.98       201\n",
            "           3       0.95      1.00      0.97       332\n",
            "           4       1.00      0.98      0.99       251\n",
            "           5       0.80      0.99      0.89       175\n",
            "\n",
            "    accuracy                           0.95      1753\n",
            "   macro avg       0.95      0.96      0.95      1753\n",
            "weighted avg       0.96      0.95      0.95      1753\n",
            "\n"
          ]
        }
      ],
      "source": [
        "import pandas as pd\n",
        "# import seaborn as sns\n",
        "import matplotlib.pyplot as plt\n",
        "from sklearn.metrics import confusion_matrix, classification_report\n",
        "\n",
        "def print_confusion_matrix(y_true, y_pred, report=True):\n",
        "    labels = sorted(list(set(y_true)))\n",
        "    cmx_data = confusion_matrix(y_true, y_pred, labels=labels)\n",
        "    \n",
        "    df_cmx = pd.DataFrame(cmx_data, index=labels, columns=labels)\n",
        " \n",
        "    fig, ax = plt.subplots(figsize=(7, 6))\n",
        "    # sns.heatmap(df_cmx, annot=True, fmt='g' ,square=False)\n",
        "    ax.set_ylim(len(set(y_true)), 0)\n",
        "    plt.show()\n",
        "    \n",
        "    if report:\n",
        "        print('Classification Report')\n",
        "        print(classification_report(y_test, y_pred))\n",
        "\n",
        "Y_pred = model.predict(X_test)\n",
        "y_pred = np.argmax(Y_pred, axis=1)\n",
        "\n",
        "print_confusion_matrix(y_test, y_pred)"
      ]
    },
    {
      "cell_type": "markdown",
      "metadata": {
        "id": "FNP6aqzc9hE5"
      },
      "source": [
        "# Convert to model for Tensorflow-Lite"
      ]
    },
    {
      "cell_type": "code",
      "execution_count": 16,
      "metadata": {
        "id": "ODjnYyld9hE6"
      },
      "outputs": [
        {
          "name": "stderr",
          "output_type": "stream",
          "text": [
            "/home/xetho/.local/lib/python3.10/site-packages/keras/src/engine/training.py:3079: UserWarning: You are saving your model as an HDF5 file via `model.save()`. This file format is considered legacy. We recommend using instead the native Keras format, e.g. `model.save('my_model.keras')`.\n",
            "  saving_api.save_model(\n"
          ]
        }
      ],
      "source": [
        "# Save as a model dedicated to inference\n",
        "model.save(model_save_path, include_optimizer=False)"
      ]
    },
    {
      "cell_type": "code",
      "execution_count": 17,
      "metadata": {
        "colab": {
          "base_uri": "https://localhost:8080/"
        },
        "id": "zRfuK8Y59hE6",
        "outputId": "a4ca585c-b5d5-4244-8291-8674063209bb"
      },
      "outputs": [
        {
          "name": "stdout",
          "output_type": "stream",
          "text": [
            "INFO:tensorflow:Assets written to: /tmp/tmpxxto42sb/assets\n"
          ]
        },
        {
          "name": "stderr",
          "output_type": "stream",
          "text": [
            "INFO:tensorflow:Assets written to: /tmp/tmpxxto42sb/assets\n",
            "2023-11-14 20:49:32.458793: W tensorflow/compiler/mlir/lite/python/tf_tfl_flatbuffer_helpers.cc:378] Ignored output_format.\n",
            "2023-11-14 20:49:32.458822: W tensorflow/compiler/mlir/lite/python/tf_tfl_flatbuffer_helpers.cc:381] Ignored drop_control_dependency.\n",
            "2023-11-14 20:49:32.459071: I tensorflow/cc/saved_model/reader.cc:83] Reading SavedModel from: /tmp/tmpxxto42sb\n",
            "2023-11-14 20:49:32.460150: I tensorflow/cc/saved_model/reader.cc:51] Reading meta graph with tags { serve }\n",
            "2023-11-14 20:49:32.460162: I tensorflow/cc/saved_model/reader.cc:146] Reading SavedModel debug info (if present) from: /tmp/tmpxxto42sb\n",
            "2023-11-14 20:49:32.462448: I tensorflow/compiler/mlir/mlir_graph_optimization_pass.cc:382] MLIR V1 optimization pass is not enabled\n",
            "2023-11-14 20:49:32.463151: I tensorflow/cc/saved_model/loader.cc:233] Restoring SavedModel bundle.\n",
            "2023-11-14 20:49:32.493823: I tensorflow/cc/saved_model/loader.cc:217] Running initialization op on SavedModel bundle at path: /tmp/tmpxxto42sb\n",
            "2023-11-14 20:49:32.503432: I tensorflow/cc/saved_model/loader.cc:316] SavedModel load for tags { serve }; Status: success: OK. Took 44361 microseconds.\n",
            "2023-11-14 20:49:32.515421: I tensorflow/compiler/mlir/tensorflow/utils/dump_mlir_util.cc:269] disabling MLIR crash reproducer, set env var `MLIR_CRASH_REPRODUCER_DIRECTORY` to enable.\n"
          ]
        },
        {
          "data": {
            "text/plain": [
              "6632"
            ]
          },
          "execution_count": 17,
          "metadata": {},
          "output_type": "execute_result"
        }
      ],
      "source": [
        "# Transform model (quantization)\n",
        "\n",
        "converter = tf.lite.TFLiteConverter.from_keras_model(model)\n",
        "converter.optimizations = [tf.lite.Optimize.DEFAULT]\n",
        "tflite_quantized_model = converter.convert()\n",
        "\n",
        "open(tflite_save_path, 'wb').write(tflite_quantized_model)"
      ]
    },
    {
      "cell_type": "markdown",
      "metadata": {
        "id": "CHBPBXdx9hE6"
      },
      "source": [
        "# Inference test"
      ]
    },
    {
      "cell_type": "code",
      "execution_count": 18,
      "metadata": {
        "id": "mGAzLocO9hE7"
      },
      "outputs": [
        {
          "name": "stderr",
          "output_type": "stream",
          "text": [
            "INFO: Created TensorFlow Lite XNNPACK delegate for CPU.\n"
          ]
        }
      ],
      "source": [
        "interpreter = tf.lite.Interpreter(model_path=tflite_save_path)\n",
        "interpreter.allocate_tensors()"
      ]
    },
    {
      "cell_type": "code",
      "execution_count": 19,
      "metadata": {
        "id": "oQuDK8YS9hE7"
      },
      "outputs": [],
      "source": [
        "# Get I / O tensor\n",
        "input_details = interpreter.get_input_details()\n",
        "output_details = interpreter.get_output_details()"
      ]
    },
    {
      "cell_type": "code",
      "execution_count": 20,
      "metadata": {
        "id": "2_ixAf_l9hE7"
      },
      "outputs": [],
      "source": [
        "interpreter.set_tensor(input_details[0]['index'], np.array([X_test[0]]))"
      ]
    },
    {
      "cell_type": "code",
      "execution_count": 21,
      "metadata": {
        "colab": {
          "base_uri": "https://localhost:8080/"
        },
        "id": "s4FoAnuc9hE7",
        "outputId": "91f18257-8d8b-4ef3-c558-e9b5f94fabbf",
        "scrolled": true
      },
      "outputs": [
        {
          "name": "stdout",
          "output_type": "stream",
          "text": [
            "CPU times: user 353 µs, sys: 23 µs, total: 376 µs\n",
            "Wall time: 269 µs\n"
          ]
        }
      ],
      "source": [
        "%%time\n",
        "# Inference implementation\n",
        "interpreter.invoke()\n",
        "tflite_results = interpreter.get_tensor(output_details[0]['index'])"
      ]
    },
    {
      "cell_type": "code",
      "execution_count": 22,
      "metadata": {
        "colab": {
          "base_uri": "https://localhost:8080/"
        },
        "id": "vONjp19J9hE8",
        "outputId": "77205e24-fd00-42c4-f7b6-e06e527c2cba"
      },
      "outputs": [
        {
          "name": "stdout",
          "output_type": "stream",
          "text": [
            "[5.5778935e-03 6.2998184e-03 1.4676308e-17 9.8810333e-01 2.2281892e-09\n",
            " 1.8963170e-05]\n",
            "3\n"
          ]
        }
      ],
      "source": [
        "print(np.squeeze(tflite_results))\n",
        "print(np.argmax(np.squeeze(tflite_results)))"
      ]
    }
  ],
  "metadata": {
    "accelerator": "GPU",
    "colab": {
      "collapsed_sections": [],
      "name": "keypoint_classification_EN.ipynb",
      "provenance": [],
      "toc_visible": true
    },
    "kernelspec": {
      "display_name": "Python 3",
      "language": "python",
      "name": "python3"
    },
    "language_info": {
      "codemirror_mode": {
        "name": "ipython",
        "version": 3
      },
      "file_extension": ".py",
      "mimetype": "text/x-python",
      "name": "python",
      "nbconvert_exporter": "python",
      "pygments_lexer": "ipython3",
      "version": "3.10.12"
    }
  },
  "nbformat": 4,
  "nbformat_minor": 0
}
